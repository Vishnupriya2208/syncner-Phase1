{
 "cells": [
  {
   "cell_type": "code",
   "execution_count": null,
   "metadata": {},
   "outputs": [
    {
     "name": "stdout",
     "output_type": "stream",
     "text": [
      "Z-scores: [-1.46, -0.88, -0.29, 0.29, 0.88, 1.46]\n",
      "The z-score for 5 is approximately 0.29, meaning it’s 0.29 standard deviations above the mean.\n"
     ]
    }
   ],
   "source": [
    "import numpy as np\n",
    "data = np.array([2, 3, 4, 5, 6, 7])\n",
    "mean_value = np.mean(data)\n",
    "std_dev = np.std(data, ddof=0)\n",
    "z_scores = (data - mean_value) / std_dev\n",
    "z_score_5 = (5 - mean_value) / std_dev\n",
    "print(f\"Z-scores: {z_scores.round(2).tolist()}\")\n",
    "print(f\"The z-score for 5 is approximately {z_score_5:.2f}, meaning it’s {z_score_5:.2f} standard deviations above the mean.\")\n"
   ]
  }
 ],
 "metadata": {
  "kernelspec": {
   "display_name": "base",
   "language": "python",
   "name": "python3"
  },
  "language_info": {
   "codemirror_mode": {
    "name": "ipython",
    "version": 3
   },
   "file_extension": ".py",
   "mimetype": "text/x-python",
   "name": "python",
   "nbconvert_exporter": "python",
   "pygments_lexer": "ipython3",
   "version": "3.12.4"
  }
 },
 "nbformat": 4,
 "nbformat_minor": 2
}
