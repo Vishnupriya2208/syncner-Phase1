{
 "cells": [
  {
   "cell_type": "code",
   "execution_count": null,
   "metadata": {},
   "outputs": [
    {
     "name": "stdout",
     "output_type": "stream",
     "text": [
      "Approximately 68.27% of the data lies between 85 and 115.\n"
     ]
    }
   ],
   "source": [
    "import scipy.stats as stats\n",
    "mu = 100  \n",
    "sigma = 15 \n",
    "prob = stats.norm.cdf(115, mu, sigma) - stats.norm.cdf(85, mu, sigma)\n",
    "percentage = prob * 100\n",
    "print(f\"Approximately {percentage:.2f}% of the data lies between 85 and 115.\")"
   ]
  }
 ],
 "metadata": {
  "kernelspec": {
   "display_name": "base",
   "language": "python",
   "name": "python3"
  },
  "language_info": {
   "codemirror_mode": {
    "name": "ipython",
    "version": 3
   },
   "file_extension": ".py",
   "mimetype": "text/x-python",
   "name": "python",
   "nbconvert_exporter": "python",
   "pygments_lexer": "ipython3",
   "version": "3.12.4"
  }
 },
 "nbformat": 4,
 "nbformat_minor": 2
}
