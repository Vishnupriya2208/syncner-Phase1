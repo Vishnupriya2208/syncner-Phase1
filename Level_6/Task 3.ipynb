{
 "cells": [
  {
   "cell_type": "code",
   "execution_count": 1,
   "metadata": {},
   "outputs": [
    {
     "name": "stdout",
     "output_type": "stream",
     "text": [
      "Population: All families in the city\n",
      "Sample: 100 surveyed households\n"
     ]
    }
   ],
   "source": [
    "\n",
    "population = \"All families in the city\"\n",
    "sample = \"100 surveyed households\"\n",
    "print(f\"Population: {population}\")\n",
    "print(f\"Sample: {sample}\")\n"
   ]
  }
 ],
 "metadata": {
  "kernelspec": {
   "display_name": "base",
   "language": "python",
   "name": "python3"
  },
  "language_info": {
   "codemirror_mode": {
    "name": "ipython",
    "version": 3
   },
   "file_extension": ".py",
   "mimetype": "text/x-python",
   "name": "python",
   "nbconvert_exporter": "python",
   "pygments_lexer": "ipython3",
   "version": "3.12.4"
  }
 },
 "nbformat": 4,
 "nbformat_minor": 2
}
