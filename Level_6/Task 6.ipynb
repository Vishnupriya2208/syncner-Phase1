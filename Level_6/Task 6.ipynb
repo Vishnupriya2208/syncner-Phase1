{
 "cells": [
  {
   "cell_type": "code",
   "execution_count": null,
   "metadata": {},
   "outputs": [
    {
     "name": "stdout",
     "output_type": "stream",
     "text": [
      "Variance: 8.00\n",
      "Standard Deviation: 2.828\n",
      "\n",
      "Explanation:\n",
      "Variance measures how spread out the data points are from the mean.\n",
      "Standard deviation shows the average distance each value is from the mean, helping understand data consistency.\n"
     ]
    }
   ],
   "source": [
    "import numpy as np\n",
    "data = [2, 4, 6, 8, 10]\n",
    "variance = np.var(data) \n",
    "std_deviation = np.sqrt(variance)\n",
    "print(f\"Variance: {variance:.2f}\")\n",
    "print(f\"Standard Deviation: {std_deviation:.3f}\")\n",
    "print(\"\\nExplanation:\")\n",
    "print(\"Variance measures how spread out the data points are from the mean.\")\n",
    "print(\"Standard deviation shows the average distance each value is from the mean, helping understand data consistency.\")"
   ]
  }
 ],
 "metadata": {
  "kernelspec": {
   "display_name": "base",
   "language": "python",
   "name": "python3"
  },
  "language_info": {
   "codemirror_mode": {
    "name": "ipython",
    "version": 3
   },
   "file_extension": ".py",
   "mimetype": "text/x-python",
   "name": "python",
   "nbconvert_exporter": "python",
   "pygments_lexer": "ipython3",
   "version": "3.12.4"
  }
 },
 "nbformat": 4,
 "nbformat_minor": 2
}
