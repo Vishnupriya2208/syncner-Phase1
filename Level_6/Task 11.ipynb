{
 "cells": [
  {
   "cell_type": "code",
   "execution_count": null,
   "metadata": {},
   "outputs": [
    {
     "data": {
      "text/plain": [
       "'No outliers detected; all z-scores are below 3.'"
      ]
     },
     "execution_count": 2,
     "metadata": {},
     "output_type": "execute_result"
    }
   ],
   "source": [
    "\n",
    "import numpy as np\n",
    "data = np.array([1, 2, 3, 4, 5, 6, 7, 8, 9, 20])\n",
    "mean = np.mean(data)\n",
    "std_dev = np.std(data, ddof=0)\n",
    "z_scores = (data - mean) / std_dev\n",
    "outliers = data[np.abs(z_scores) > 3]\n",
    "outliers if outliers.size > 0 else \"No outliers detected; all z-scores are below 3.\""
   ]
  }
 ],
 "metadata": {
  "kernelspec": {
   "display_name": "base",
   "language": "python",
   "name": "python3"
  },
  "language_info": {
   "codemirror_mode": {
    "name": "ipython",
    "version": 3
   },
   "file_extension": ".py",
   "mimetype": "text/x-python",
   "name": "python",
   "nbconvert_exporter": "python",
   "pygments_lexer": "ipython3",
   "version": "3.12.4"
  }
 },
 "nbformat": 4,
 "nbformat_minor": 2
}
