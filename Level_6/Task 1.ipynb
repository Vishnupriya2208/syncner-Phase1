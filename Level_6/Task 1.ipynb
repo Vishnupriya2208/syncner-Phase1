{
 "cells": [
  {
   "cell_type": "code",
   "execution_count": 1,
   "metadata": {},
   "outputs": [
    {
     "name": "stdout",
     "output_type": "stream",
     "text": [
      "The average test score in the class is 85.0%.\n"
     ]
    }
   ],
   "source": [
    "import numpy as np\n",
    "scores = [80, 85, 90, 75, 95]\n",
    "mean_score = np.mean(scores)\n",
    "print(f\"The average test score in the class is {mean_score}%.\")"
   ]
  },
  {
   "cell_type": "code",
   "execution_count": 2,
   "metadata": {},
   "outputs": [
    {
     "name": "stdout",
     "output_type": "stream",
     "text": [
      "Based on the survey, we estimate that 60.0% of people prefer online shopping.\n",
      "95% Confidence Interval: 52.2% to 67.8%\n"
     ]
    }
   ],
   "source": [
    "import scipy.stats as stats\n",
    "sample_size = 150\n",
    "positive_responses = 90\n",
    "sample_proportion = positive_responses / sample_size\n",
    "confidence_interval = stats.norm.interval(0.95, loc=sample_proportion, scale=np.sqrt((sample_proportion * (1 - sample_proportion)) / sample_size))\n",
    "\n",
    "print(f\"Based on the survey, we estimate that {sample_proportion*100:.1f}% of people prefer online shopping.\")\n",
    "print(f\"95% Confidence Interval: {confidence_interval[0]*100:.1f}% to {confidence_interval[1]*100:.1f}%\")\n"
   ]
  }
 ],
 "metadata": {
  "kernelspec": {
   "display_name": "base",
   "language": "python",
   "name": "python3"
  },
  "language_info": {
   "codemirror_mode": {
    "name": "ipython",
    "version": 3
   },
   "file_extension": ".py",
   "mimetype": "text/x-python",
   "name": "python",
   "nbconvert_exporter": "python",
   "pygments_lexer": "ipython3",
   "version": "3.12.4"
  }
 },
 "nbformat": 4,
 "nbformat_minor": 2
}
