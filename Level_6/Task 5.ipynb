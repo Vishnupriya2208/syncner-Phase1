{
 "cells": [
  {
   "cell_type": "code",
   "execution_count": 2,
   "metadata": {},
   "outputs": [
    {
     "name": "stdout",
     "output_type": "stream",
     "text": [
      "Chosen Sampling Technique: Stratified sampling\n",
      "Justification: Stratified sampling, because it ensures each department is fairly represented based on its size.\n"
     ]
    }
   ],
   "source": [
    "\n",
    "sampling_technique = \"Stratified sampling\"\n",
    "justification = (\"Stratified sampling, because it ensures each department \"\n",
    "                \"is fairly represented based on its size.\")\n",
    "print(f\"Chosen Sampling Technique: {sampling_technique}\")\n",
    "print(f\"Justification: {justification}\")"
   ]
  }
 ],
 "metadata": {
  "kernelspec": {
   "display_name": "base",
   "language": "python",
   "name": "python3"
  },
  "language_info": {
   "codemirror_mode": {
    "name": "ipython",
    "version": 3
   },
   "file_extension": ".py",
   "mimetype": "text/x-python",
   "name": "python",
   "nbconvert_exporter": "python",
   "pygments_lexer": "ipython3",
   "version": "3.12.4"
  }
 },
 "nbformat": 4,
 "nbformat_minor": 2
}
