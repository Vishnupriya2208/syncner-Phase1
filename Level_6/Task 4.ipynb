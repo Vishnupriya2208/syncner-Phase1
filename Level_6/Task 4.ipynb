{
 "cells": [
  {
   "cell_type": "code",
   "execution_count": 3,
   "metadata": {},
   "outputs": [
    {
     "name": "stdout",
     "output_type": "stream",
     "text": [
      "Mean: 21.00\n",
      "Median: 5.5\n",
      "Mode: 5\n",
      "\n",
      "Interpretation:\n",
      "The mean is significantly higher (≈ 21) due to the outlier (100).\n",
      "The median (5.5) and mode (5) are better indicators of the central trend in this dataset.\n"
     ]
    }
   ],
   "source": [
    "import numpy as np\n",
    "from scipy import stats\n",
    "data = [3, 5, 5, 6, 7, 100]\n",
    "mean_value = np.mean(data)\n",
    "median_value = np.median(data)\n",
    "mode_value = stats.mode(data, keepdims=True)[0][0]\n",
    "print(f\"Mean: {mean_value:.2f}\")\n",
    "print(f\"Median: {median_value}\")\n",
    "print(f\"Mode: {mode_value}\")\n",
    "print(\"\\nInterpretation:\")\n",
    "print(\"The mean is significantly higher (≈ 21) due to the outlier (100).\")\n",
    "print(\"The median (5.5) and mode (5) are better indicators of the central trend in this dataset.\")"
   ]
  }
 ],
 "metadata": {
  "kernelspec": {
   "display_name": "base",
   "language": "python",
   "name": "python3"
  },
  "language_info": {
   "codemirror_mode": {
    "name": "ipython",
    "version": 3
   },
   "file_extension": ".py",
   "mimetype": "text/x-python",
   "name": "python",
   "nbconvert_exporter": "python",
   "pygments_lexer": "ipython3",
   "version": "3.12.4"
  }
 },
 "nbformat": 4,
 "nbformat_minor": 2
}
