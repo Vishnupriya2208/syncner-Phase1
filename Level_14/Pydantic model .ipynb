{
 "cells": [
  {
   "cell_type": "code",
   "execution_count": null,
   "id": "7558b9fb",
   "metadata": {},
   "outputs": [],
   "source": [
    "from pydantic import BaseModel\n",
    "from typing import Optional, List\n",
    "from datetime import datetime\n",
    "\n",
    "class MatchDetails(BaseModel):\n",
    "    match_status: Optional[str] = None  \n",
    "    match_winning_team: Optional[str] = None \n",
    "    match_tie_breaker: Optional[str] = None  \n",
    "    match_toss: Optional[str] = None  \n",
    "    umpires: Optional[str] = None  \n",
    "    match_referee: Optional[str] = None  \n",
    "    third_umpires: Optional[str] = None  \n",
    "    match_datetime: Optional[datetime] = None \n",
    "    team1_name: Optional[str] = None  \n",
    "    team2_name: Optional[str] = None  \n",
    "    team1_score: Optional[str] = None  \n",
    "    team1_wickets: Optional[int] = None  \n",
    "    team2_score: Optional[str] = None \n",
    "    team2_wickets: Optional[int] = None\n",
    "    team1_captain: Optional[str] = None  \n",
    "    team1_players: Optional[List[str]] = None \n",
    "    team1_bench: Optional[List[str]] = None  \n",
    "    team1_support_staff: Optional[List[str]] = None \n",
    "    team2_captain: Optional[str] = None  \n",
    "    team2_players: Optional[List[str]] = None \n",
    "    team2_bench: Optional[List[str]] = None  \n",
    "    team2_support_staff: Optional[List[str]] = None \n",
    "\n",
    "    class Config:\n",
    "        \n",
    "        anystr_strip_whitespace = True\n",
    "        orm_mode = True "
   ]
  },
  {
   "cell_type": "code",
   "execution_count": 8,
   "id": "39f679e5",
   "metadata": {},
   "outputs": [
    {
     "name": "stdout",
     "output_type": "stream",
     "text": [
      "match_status='Completed' match_winning_team='Mumbai Indians' match_tie_breaker=None match_toss='Mumbai Indians won the toss and chose to field' umpires='A. Kumar, B. Bansal' match_referee='S. Ramaswamy' third_umpires='K. Sharma' match_datetime=datetime.datetime(2021, 4, 9, 20, 0) team1_name='Mumbai Indians' team2_name='Royal Challengers Bangalore' team1_score='161/5' team1_wickets=5 team2_score='160/8' team2_wickets=8 team1_captain='Rohit Sharma' team1_players=['Rohit Sharma', 'Hardik Pandya', 'Kieron Pollard'] team1_bench=['Ishant Sharma', 'Saurabh Tiwary'] team1_support_staff=['Zaheer Khan', 'Shane Bond'] team2_captain='Virat Kohli' team2_players=['Virat Kohli', 'AB de Villiers', 'Yuzvendra Chahal'] team2_bench=['Chris Morris', 'Glenn Maxwell'] team2_support_staff=['Simon Katich', 'Mike Hesson']\n"
     ]
    }
   ],
   "source": [
    "example_match = MatchDetails(\n",
    "    match_status=\"Completed\",\n",
    "    match_winning_team=\"Mumbai Indians\",\n",
    "    match_tie_breaker=None,\n",
    "    match_toss=\"Mumbai Indians won the toss and chose to field\",\n",
    "    umpires=\"A. Kumar, B. Bansal\",\n",
    "    match_referee=\"S. Ramaswamy\",\n",
    "    third_umpires=\"K. Sharma\",\n",
    "    match_datetime=datetime(2021, 4, 9, 20, 0),\n",
    "    team1_name=\"Mumbai Indians\",\n",
    "    team2_name=\"Royal Challengers Bangalore\",\n",
    "    team1_score=\"161/5\",\n",
    "    team1_wickets=5,\n",
    "    team2_score=\"160/8\",\n",
    "    team2_wickets=8,\n",
    "    team1_captain=\"Rohit Sharma\",\n",
    "    team1_players=[\"Rohit Sharma\", \"Hardik Pandya\", \"Kieron Pollard\"],\n",
    "    team1_bench=[\"Ishant Sharma\", \"Saurabh Tiwary\"],\n",
    "    team1_support_staff=[\"Zaheer Khan\", \"Shane Bond\"],\n",
    "    team2_captain=\"Virat Kohli\",\n",
    "    team2_players=[\"Virat Kohli\", \"AB de Villiers\", \"Yuzvendra Chahal\"],\n",
    "    team2_bench=[\"Chris Morris\", \"Glenn Maxwell\"],\n",
    "    team2_support_staff=[\"Simon Katich\", \"Mike Hesson\"]\n",
    ")\n",
    "\n",
    "print(example_match)"
   ]
  },
  {
   "cell_type": "code",
   "execution_count": null,
   "id": "5d8953df",
   "metadata": {},
   "outputs": [
    {
     "name": "stderr",
     "output_type": "stream",
     "text": [
      "C:\\Users\\sures\\AppData\\Local\\Temp\\ipykernel_43020\\2373515303.py:5: MovedIn20Warning: The ``declarative_base()`` function is now available as sqlalchemy.orm.declarative_base(). (deprecated since: 2.0) (Background on SQLAlchemy 2.0 at: https://sqlalche.me/e/b8d9)\n",
      "  Base = declarative_base()\n"
     ]
    }
   ],
   "source": [
    "from sqlalchemy import Column, Integer, String, DateTime, Text\n",
    "from sqlalchemy.orm import relationship\n",
    "from sqlalchemy.ext.declarative import declarative_base\n",
    "\n",
    "Base = declarative_base()\n",
    "\n",
    "class Match(Base):\n",
    "    __tablename__ = 'matches'\n",
    "\n",
    "    id = Column(Integer, primary_key=True, index=True)\n",
    "    match_status = Column(String, nullable=True)\n",
    "    match_winning_team = Column(String, nullable=True)\n",
    "    match_tie_breaker = Column(String, nullable=True)\n",
    "    match_toss = Column(String, nullable=True)\n",
    "    umpires = Column(String, nullable=True)\n",
    "    match_referee = Column(String, nullable=True)\n",
    "    third_umpires = Column(String, nullable=True)\n",
    "    match_datetime = Column(DateTime, nullable=True)\n",
    "    team1_name = Column(String, nullable=True)\n",
    "    team2_name = Column(String, nullable=True)\n",
    "    team1_score = Column(String, nullable=True)\n",
    "    team1_wickets = Column(Integer, nullable=True)\n",
    "    team2_score = Column(String, nullable=True)\n",
    "    team2_wickets = Column(Integer, nullable=True)\n",
    "    team1_captain = Column(String, nullable=True)\n",
    "    team1_players = Column(Text, nullable=True) \n",
    "    team1_bench = Column(Text, nullable=True) \n",
    "    team1_support_staff = Column(Text, nullable=True)\n",
    "    team2_captain = Column(String, nullable=True)\n",
    "    team2_players = Column(Text, nullable=True)  \n",
    "    team2_bench = Column(Text, nullable=True) \n",
    "    team2_support_staff = Column(Text, nullable=True)"
   ]
  }
 ],
 "metadata": {
  "kernelspec": {
   "display_name": "base",
   "language": "python",
   "name": "python3"
  },
  "language_info": {
   "codemirror_mode": {
    "name": "ipython",
    "version": 3
   },
   "file_extension": ".py",
   "mimetype": "text/x-python",
   "name": "python",
   "nbconvert_exporter": "python",
   "pygments_lexer": "ipython3",
   "version": "3.12.4"
  }
 },
 "nbformat": 4,
 "nbformat_minor": 5
}
