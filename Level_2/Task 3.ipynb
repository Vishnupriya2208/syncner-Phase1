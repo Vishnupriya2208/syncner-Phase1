{
 "cells": [
  {
   "cell_type": "code",
   "execution_count": 1,
   "metadata": {},
   "outputs": [
    {
     "name": "stdout",
     "output_type": "stream",
     "text": [
      "[6, 12, 18]\n"
     ]
    }
   ],
   "source": [
    "def multiply_and_filter(arr, num):\n",
    "    result = []\n",
    "    for item in arr:\n",
    "        product = item * num\n",
    "        if product % 2 == 0:\n",
    "            result.append(product)\n",
    "    return result\n",
    "\n",
    "arr = [1, 2, 3, 4, 5, 6]\n",
    "num = 3\n",
    "print(multiply_and_filter(arr, num))  "
   ]
  },
  {
   "cell_type": "code",
   "execution_count": null,
   "metadata": {},
   "outputs": [
    {
     "name": "stdout",
     "output_type": "stream",
     "text": [
      "[6, 12, 18]\n"
     ]
    }
   ],
   "source": [
    "multiply = lambda x, num: x * num\n",
    "is_even = lambda x: x % 2 == 0\n",
    "result = [multiply(x, num) for x in arr if is_even(multiply(x, num))]\n",
    "print(result) "
   ]
  },
  {
   "cell_type": "code",
   "execution_count": 3,
   "metadata": {},
   "outputs": [
    {
     "name": "stdout",
     "output_type": "stream",
     "text": [
      "[3, 6, 9, 12, 15, 18]\n"
     ]
    }
   ],
   "source": [
    "multiplication_result = list(map(lambda x: x * num, arr))\n",
    "print(multiplication_result)  "
   ]
  },
  {
   "cell_type": "code",
   "execution_count": 4,
   "metadata": {},
   "outputs": [
    {
     "name": "stdout",
     "output_type": "stream",
     "text": [
      "[6, 12, 18]\n"
     ]
    }
   ],
   "source": [
    "filtered_result = list(filter(lambda x: x % 2 == 0, map(lambda x: x * num, arr)))\n",
    "print(filtered_result)  "
   ]
  }
 ],
 "metadata": {
  "kernelspec": {
   "display_name": "base",
   "language": "python",
   "name": "python3"
  },
  "language_info": {
   "codemirror_mode": {
    "name": "ipython",
    "version": 3
   },
   "file_extension": ".py",
   "mimetype": "text/x-python",
   "name": "python",
   "nbconvert_exporter": "python",
   "pygments_lexer": "ipython3",
   "version": "3.12.4"
  }
 },
 "nbformat": 4,
 "nbformat_minor": 2
}
