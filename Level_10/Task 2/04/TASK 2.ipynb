{
 "cells": [
  {
   "cell_type": "code",
   "execution_count": 1,
   "metadata": {},
   "outputs": [
    {
     "name": "stdout",
     "output_type": "stream",
     "text": [
      "        sum  count\n",
      "sex               \n",
      "female  233    314\n",
      "male    109    577\n",
      "Z-Statistic: 16.219\n",
      "P-Value: 0.00000\n",
      "There is a significant difference in the survival rate between male and female passengers.\n"
     ]
    }
   ],
   "source": [
    "import numpy as np\n",
    "import pandas as pd\n",
    "import seaborn as sns\n",
    "from statsmodels.stats.proportion import proportions_ztest\n",
    "titanic = sns.load_dataset(\"titanic\")\n",
    "survival_counts = titanic.groupby(\"sex\")[\"survived\"].agg([\"sum\", \"count\"])\n",
    "print(survival_counts)\n",
    "survived_female = survival_counts.loc[\"female\", \"sum\"]\n",
    "total_female = survival_counts.loc[\"female\", \"count\"]\n",
    "survived_male = survival_counts.loc[\"male\", \"sum\"]\n",
    "total_male = survival_counts.loc[\"male\", \"count\"]\n",
    "count = np.array([survived_female, survived_male])\n",
    "nobs = np.array([total_female, total_male])\n",
    "stat, p_value = proportions_ztest(count, nobs, alternative='two-sided')\n",
    "print(f\"Z-Statistic: {stat:.3f}\")\n",
    "print(f\"P-Value: {p_value:.5f}\")\n",
    "alpha = 0.05\n",
    "if p_value < alpha:\n",
    "    print(\"There is a significant difference in the survival rate between male and female passengers.\")\n",
    "else:\n",
    "    print(\"There is no significant difference in the survival rate between male and female passengers.\")\n"
   ]
  }
 ],
 "metadata": {
  "kernelspec": {
   "display_name": "base",
   "language": "python",
   "name": "python3"
  },
  "language_info": {
   "codemirror_mode": {
    "name": "ipython",
    "version": 3
   },
   "file_extension": ".py",
   "mimetype": "text/x-python",
   "name": "python",
   "nbconvert_exporter": "python",
   "pygments_lexer": "ipython3",
   "version": "3.12.4"
  }
 },
 "nbformat": 4,
 "nbformat_minor": 2
}
