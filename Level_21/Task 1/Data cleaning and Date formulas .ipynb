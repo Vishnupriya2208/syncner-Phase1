{
 "cells": [
  {
   "cell_type": "code",
   "execution_count": null,
   "id": "30a00e35",
   "metadata": {},
   "outputs": [
    {
     "name": "stdout",
     "output_type": "stream",
     "text": [
      "  Order Date  Ship Date\n",
      "0 2015-01-07 2015-01-08\n",
      "1 2015-06-13 2015-06-15\n",
      "2 2015-02-15 2015-02-17\n",
      "3 2015-05-12 2015-05-14\n",
      "4 2015-05-12 2015-05-13\n"
     ]
    }
   ],
   "source": [
    "import pandas as pd\n",
    "df = pd.read_excel('C:\\\\Users\\\\sures\\\\OneDrive\\\\Desktop\\\\P1L21\\\\SuperStoreUS-2015.xlsx')\n",
    "print(df[['Order Date', 'Ship Date']].head())\n"
   ]
  },
  {
   "cell_type": "code",
   "execution_count": null,
   "id": "acff456f",
   "metadata": {},
   "outputs": [],
   "source": [
    "\n",
    "df['Order Date'] = pd.to_datetime(df['Order Date'], errors='coerce')\n",
    "df['Ship Date'] = pd.to_datetime(df['Ship Date'], errors='coerce')\n"
   ]
  },
  {
   "cell_type": "code",
   "execution_count": null,
   "id": "122fa148",
   "metadata": {},
   "outputs": [],
   "source": [
    "\n",
    "df['Processing Time (Days)'] = (df['Ship Date'] - df['Order Date']).dt.days\n"
   ]
  },
  {
   "cell_type": "code",
   "execution_count": null,
   "id": "7cd85600",
   "metadata": {},
   "outputs": [],
   "source": []
  }
 ],
 "metadata": {
  "kernelspec": {
   "display_name": "base",
   "language": "python",
   "name": "python3"
  },
  "language_info": {
   "codemirror_mode": {
    "name": "ipython",
    "version": 3
   },
   "file_extension": ".py",
   "mimetype": "text/x-python",
   "name": "python",
   "nbconvert_exporter": "python",
   "pygments_lexer": "ipython3",
   "version": "3.12.4"
  }
 },
 "nbformat": 4,
 "nbformat_minor": 5
}
