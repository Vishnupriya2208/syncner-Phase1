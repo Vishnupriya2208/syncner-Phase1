{
 "cells": [
  {
   "cell_type": "code",
   "execution_count": 2,
   "id": "f6fbf0e9",
   "metadata": {},
   "outputs": [
    {
     "name": "stderr",
     "output_type": "stream",
     "text": [
      "C:\\Users\\sures\\AppData\\Local\\Temp\\ipykernel_20432\\978935212.py:3: DtypeWarning: Columns (9,21,24,25,28) have mixed types. Specify dtype option on import or set low_memory=False.\n",
      "  df = pd.read_csv(file_path)\n"
     ]
    },
    {
     "data": {
      "text/plain": [
       "(   year series_type                 series_name   match_no match_type  \\\n",
       " 0  2021  T20 League  Indian Premier League 2021  1st Match    T20 IPL   \n",
       " 1  2021  T20 League  Indian Premier League 2021  1st Match    T20 IPL   \n",
       " 2  2021  T20 League  Indian Premier League 2021  1st Match    T20 IPL   \n",
       " 3  2021  T20 League  Indian Premier League 2021  1st Match    T20 IPL   \n",
       " 4  2021  T20 League  Indian Premier League 2021  1st Match    T20 IPL   \n",
       " \n",
       "    match_id                                        match_venue match_status  \\\n",
       " 0     35612  {'stadium': 'MA Chidambaram Stadium', 'city': ...    completed   \n",
       " 1     35612  {'stadium': 'MA Chidambaram Stadium', 'city': ...    completed   \n",
       " 2     35612  {'stadium': 'MA Chidambaram Stadium', 'city': ...    completed   \n",
       " 3     35612  {'stadium': 'MA Chidambaram Stadium', 'city': ...    completed   \n",
       " 4     35612  {'stadium': 'MA Chidambaram Stadium', 'city': ...    completed   \n",
       " \n",
       "             match_winning_team match_tie_breaker  ... team1_players  \\\n",
       " 0  Royal Challengers Bangalore               NaN  ...            []   \n",
       " 1  Royal Challengers Bangalore               NaN  ...            []   \n",
       " 2  Royal Challengers Bangalore               NaN  ...            []   \n",
       " 3  Royal Challengers Bangalore               NaN  ...            []   \n",
       " 4  Royal Challengers Bangalore               NaN  ...            []   \n",
       " \n",
       "                                          team1_bench team1_support_staff  \\\n",
       " 0  Nathan Coulter-Nile, Piyush Chawla, Dhawal Kul...                 NaN   \n",
       " 1  Nathan Coulter-Nile, Piyush Chawla, Dhawal Kul...                 NaN   \n",
       " 2  Nathan Coulter-Nile, Piyush Chawla, Dhawal Kul...                 NaN   \n",
       " 3  Nathan Coulter-Nile, Piyush Chawla, Dhawal Kul...                 NaN   \n",
       " 4  Nathan Coulter-Nile, Piyush Chawla, Dhawal Kul...                 NaN   \n",
       " \n",
       "   team2_captain team2_players  \\\n",
       " 0           NaN            []   \n",
       " 1           NaN            []   \n",
       " 2           NaN            []   \n",
       " 3           NaN            []   \n",
       " 4           NaN            []   \n",
       " \n",
       "                                          team2_bench team2_support_staff  \\\n",
       " 0  Adam Zampa, Devdutt Padikkal, Sachin Baby, Nav...                 NaN   \n",
       " 1  Adam Zampa, Devdutt Padikkal, Sachin Baby, Nav...                 NaN   \n",
       " 2  Adam Zampa, Devdutt Padikkal, Sachin Baby, Nav...                 NaN   \n",
       " 3  Adam Zampa, Devdutt Padikkal, Sachin Baby, Nav...                 NaN   \n",
       " 4  Adam Zampa, Devdutt Padikkal, Sachin Baby, Nav...                 NaN   \n",
       " \n",
       "    ball_no  over_no                                    ball_commentary  \n",
       " 0        1      0.1  Siraj to Rohit, 2 runs, straightaway into the ...  \n",
       " 1        2      0.2  Siraj to Rohit, no run, full ball on middle, d...  \n",
       " 2        3      0.3  Siraj to Rohit, no run, indications of the pac...  \n",
       " 3        4      0.4  Siraj to Rohit, 2 runs, short of length around...  \n",
       " 4        5      0.5  Siraj to Rohit, no run, short of length delive...  \n",
       " \n",
       " [5 rows x 32 columns],\n",
       " Index(['year', 'series_type', 'series_name', 'match_no', 'match_type',\n",
       "        'match_id', 'match_venue', 'match_status', 'match_winning_team',\n",
       "        'match_tie_breaker', 'match_toss', 'umpires', 'match_referee',\n",
       "        'third_umpires', 'match_datetime', 'team1_name', 'team2_name',\n",
       "        'team1_score', 'team1_wickets', 'team2_score', 'team2_wickets',\n",
       "        'team1_captain', 'team1_players', 'team1_bench', 'team1_support_staff',\n",
       "        'team2_captain', 'team2_players', 'team2_bench', 'team2_support_staff',\n",
       "        'ball_no', 'over_no', 'ball_commentary'],\n",
       "       dtype='object'))"
      ]
     },
     "execution_count": 2,
     "metadata": {},
     "output_type": "execute_result"
    }
   ],
   "source": [
    "import pandas as pd\n",
    "file_path = \"C:\\\\Users\\\\sures\\\\OneDrive\\\\Desktop\\\\P1L17\\\\ipl_commentary_data.csv\"\n",
    "df = pd.read_csv(file_path)\n",
    "df.head(), df.columns"
   ]
  },
  {
   "cell_type": "code",
   "execution_count": 3,
   "id": "59fe2c6a",
   "metadata": {},
   "outputs": [
    {
     "data": {
      "text/html": [
       "<div>\n",
       "<style scoped>\n",
       "    .dataframe tbody tr th:only-of-type {\n",
       "        vertical-align: middle;\n",
       "    }\n",
       "\n",
       "    .dataframe tbody tr th {\n",
       "        vertical-align: top;\n",
       "    }\n",
       "\n",
       "    .dataframe thead th {\n",
       "        text-align: right;\n",
       "    }\n",
       "</style>\n",
       "<table border=\"1\" class=\"dataframe\">\n",
       "  <thead>\n",
       "    <tr style=\"text-align: right;\">\n",
       "      <th></th>\n",
       "      <th>match_datetime</th>\n",
       "      <th>date</th>\n",
       "      <th>time</th>\n",
       "    </tr>\n",
       "  </thead>\n",
       "  <tbody>\n",
       "    <tr>\n",
       "      <th>0</th>\n",
       "      <td>2021-04-09 19:30:00+05:30</td>\n",
       "      <td>2021-04-09</td>\n",
       "      <td>19:30:00</td>\n",
       "    </tr>\n",
       "    <tr>\n",
       "      <th>1</th>\n",
       "      <td>2021-04-09 19:30:00+05:30</td>\n",
       "      <td>2021-04-09</td>\n",
       "      <td>19:30:00</td>\n",
       "    </tr>\n",
       "    <tr>\n",
       "      <th>2</th>\n",
       "      <td>2021-04-09 19:30:00+05:30</td>\n",
       "      <td>2021-04-09</td>\n",
       "      <td>19:30:00</td>\n",
       "    </tr>\n",
       "    <tr>\n",
       "      <th>3</th>\n",
       "      <td>2021-04-09 19:30:00+05:30</td>\n",
       "      <td>2021-04-09</td>\n",
       "      <td>19:30:00</td>\n",
       "    </tr>\n",
       "    <tr>\n",
       "      <th>4</th>\n",
       "      <td>2021-04-09 19:30:00+05:30</td>\n",
       "      <td>2021-04-09</td>\n",
       "      <td>19:30:00</td>\n",
       "    </tr>\n",
       "  </tbody>\n",
       "</table>\n",
       "</div>"
      ],
      "text/plain": [
       "             match_datetime        date      time\n",
       "0 2021-04-09 19:30:00+05:30  2021-04-09  19:30:00\n",
       "1 2021-04-09 19:30:00+05:30  2021-04-09  19:30:00\n",
       "2 2021-04-09 19:30:00+05:30  2021-04-09  19:30:00\n",
       "3 2021-04-09 19:30:00+05:30  2021-04-09  19:30:00\n",
       "4 2021-04-09 19:30:00+05:30  2021-04-09  19:30:00"
      ]
     },
     "execution_count": 3,
     "metadata": {},
     "output_type": "execute_result"
    }
   ],
   "source": [
    "df['match_datetime'] = pd.to_datetime(df['match_datetime'], errors='coerce')\n",
    "df['date'] = df['match_datetime'].dt.date\n",
    "df['time'] = df['match_datetime'].dt.time\n",
    "df[['match_datetime', 'date', 'time']].head()"
   ]
  }
 ],
 "metadata": {
  "kernelspec": {
   "display_name": "base",
   "language": "python",
   "name": "python3"
  },
  "language_info": {
   "codemirror_mode": {
    "name": "ipython",
    "version": 3
   },
   "file_extension": ".py",
   "mimetype": "text/x-python",
   "name": "python",
   "nbconvert_exporter": "python",
   "pygments_lexer": "ipython3",
   "version": "3.12.4"
  }
 },
 "nbformat": 4,
 "nbformat_minor": 5
}
