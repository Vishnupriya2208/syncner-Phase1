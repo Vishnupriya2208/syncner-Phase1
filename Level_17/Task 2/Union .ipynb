{
 "cells": [
  {
   "cell_type": "code",
   "execution_count": 2,
   "id": "7a774772",
   "metadata": {},
   "outputs": [],
   "source": [
    "import pandas as pd"
   ]
  },
  {
   "cell_type": "code",
   "execution_count": 3,
   "id": "0510304e",
   "metadata": {},
   "outputs": [
    {
     "name": "stderr",
     "output_type": "stream",
     "text": [
      "C:\\Users\\sures\\AppData\\Local\\Temp\\ipykernel_23080\\321376766.py:2: DtypeWarning: Columns (21,24,25,28) have mixed types. Specify dtype option on import or set low_memory=False.\n",
      "  over_df = pd.read_csv(over_data_path)\n"
     ]
    },
    {
     "data": {
      "text/plain": [
       "(   year series_type                 series_name   match_no match_type  \\\n",
       " 0  2021  T20 League  Indian Premier League 2021  1st Match    T20 IPL   \n",
       " 1  2021  T20 League  Indian Premier League 2021  1st Match    T20 IPL   \n",
       " 2  2021  T20 League  Indian Premier League 2021  1st Match    T20 IPL   \n",
       " 3  2021  T20 League  Indian Premier League 2021  1st Match    T20 IPL   \n",
       " 4  2021  T20 League  Indian Premier League 2021  1st Match    T20 IPL   \n",
       " \n",
       "    match_id                                        match_venue match_status  \\\n",
       " 0     35612  {'stadium': 'MA Chidambaram Stadium', 'city': ...    completed   \n",
       " 1     35612  {'stadium': 'MA Chidambaram Stadium', 'city': ...    completed   \n",
       " 2     35612  {'stadium': 'MA Chidambaram Stadium', 'city': ...    completed   \n",
       " 3     35612  {'stadium': 'MA Chidambaram Stadium', 'city': ...    completed   \n",
       " 4     35612  {'stadium': 'MA Chidambaram Stadium', 'city': ...    completed   \n",
       " \n",
       "             match_winning_team match_tie_breaker  ... over_batsman1_curr_scr  \\\n",
       " 0  Royal Challengers Bangalore               NaN  ...                      5   \n",
       " 1  Royal Challengers Bangalore               NaN  ...                      0   \n",
       " 2  Royal Challengers Bangalore               NaN  ...                     12   \n",
       " 3  Royal Challengers Bangalore               NaN  ...                      5   \n",
       " 4  Royal Challengers Bangalore               NaN  ...                      5   \n",
       " \n",
       "   over_batsman1_played_balls over_batsman2_name over_batsman2_curr_scr  \\\n",
       " 0                          6         Chris Lynn                      0   \n",
       " 1                          5       Rohit Sharma                      6   \n",
       " 2                         13         Chris Lynn                      0   \n",
       " 3                          9       Rohit Sharma                     19   \n",
       " 4                          5         Chris Lynn                      6   \n",
       " \n",
       "   over_batsman2_played_balls  over_bowler_name over_bowler_bowled_overs  \\\n",
       " 0                          0    Mohammed Siraj                      1.0   \n",
       " 1                          7     Kyle Jamieson                      1.0   \n",
       " 2                          5    Mohammed Siraj                      2.0   \n",
       " 3                         15  Yuzvendra Chahal                      1.0   \n",
       " 4                         10     Kyle Jamieson                      2.0   \n",
       " \n",
       "    over_bowler_bowled_maidens  over_bowler_bowled_runs  \\\n",
       " 0                           0                        5   \n",
       " 1                           0                        1   \n",
       " 2                           0                       11   \n",
       " 3                           0                       12   \n",
       " 4                           0                        7   \n",
       " \n",
       "    over_bowler_bowled_wickets  \n",
       " 0                           0  \n",
       " 1                           0  \n",
       " 2                           0  \n",
       " 3                           0  \n",
       " 4                           0  \n",
       " \n",
       " [5 rows x 43 columns],\n",
       " Index(['year', 'series_type', 'series_name', 'match_no', 'match_type',\n",
       "        'match_id', 'match_venue', 'match_status', 'match_winning_team',\n",
       "        'match_tie_breaker', 'match_toss', 'umpires', 'match_referee',\n",
       "        'third_umpires', 'match_datetime', 'team1_name', 'team2_name',\n",
       "        'team1_score', 'team1_wickets', 'team2_score', 'team2_wickets',\n",
       "        'team1_captain', 'team1_players', 'team1_bench', 'team1_support_staff',\n",
       "        'team2_captain', 'team2_players', 'team2_bench', 'team2_support_staff',\n",
       "        'over_no', 'over_total_runs', 'over_summary', 'over_batsman1_name',\n",
       "        'over_batsman1_curr_scr', 'over_batsman1_played_balls',\n",
       "        'over_batsman2_name', 'over_batsman2_curr_scr',\n",
       "        'over_batsman2_played_balls', 'over_bowler_name',\n",
       "        'over_bowler_bowled_overs', 'over_bowler_bowled_maidens',\n",
       "        'over_bowler_bowled_runs', 'over_bowler_bowled_wickets'],\n",
       "       dtype='object'))"
      ]
     },
     "execution_count": 3,
     "metadata": {},
     "output_type": "execute_result"
    }
   ],
   "source": [
    "over_data_path = \"C:\\\\Users\\\\sures\\\\OneDrive\\\\Desktop\\\\P1L17\\\\ipl_over_data.csv\"\n",
    "over_df = pd.read_csv(over_data_path)\n",
    "over_df.head(), over_df.columns"
   ]
  },
  {
   "cell_type": "code",
   "execution_count": 4,
   "id": "08339364",
   "metadata": {},
   "outputs": [
    {
     "name": "stderr",
     "output_type": "stream",
     "text": [
      "C:\\Users\\sures\\AppData\\Local\\Temp\\ipykernel_23080\\2027263072.py:2: DtypeWarning: Columns (9,21,24,25,28) have mixed types. Specify dtype option on import or set low_memory=False.\n",
      "  commentary_df = pd.read_csv(\"C:\\\\Users\\\\sures\\\\OneDrive\\\\Desktop\\\\P1L17\\\\ipl_commentary_data.csv\")\n"
     ]
    },
    {
     "name": "stdout",
     "output_type": "stream",
     "text": [
      "   year series_type                 series_name   match_no match_type  \\\n",
      "0  2021  T20 League  Indian Premier League 2021  1st Match    T20 IPL   \n",
      "1  2021  T20 League  Indian Premier League 2021  1st Match    T20 IPL   \n",
      "2  2021  T20 League  Indian Premier League 2021  1st Match    T20 IPL   \n",
      "3  2021  T20 League  Indian Premier League 2021  1st Match    T20 IPL   \n",
      "4  2021  T20 League  Indian Premier League 2021  1st Match    T20 IPL   \n",
      "\n",
      "   match_id                                        match_venue match_status  \\\n",
      "0     35612  {'stadium': 'MA Chidambaram Stadium', 'city': ...    completed   \n",
      "1     35612  {'stadium': 'MA Chidambaram Stadium', 'city': ...    completed   \n",
      "2     35612  {'stadium': 'MA Chidambaram Stadium', 'city': ...    completed   \n",
      "3     35612  {'stadium': 'MA Chidambaram Stadium', 'city': ...    completed   \n",
      "4     35612  {'stadium': 'MA Chidambaram Stadium', 'city': ...    completed   \n",
      "\n",
      "            match_winning_team match_tie_breaker  ... over_batsman1_curr_scr  \\\n",
      "0  Royal Challengers Bangalore               NaN  ...                    NaN   \n",
      "1  Royal Challengers Bangalore               NaN  ...                    NaN   \n",
      "2  Royal Challengers Bangalore               NaN  ...                    NaN   \n",
      "3  Royal Challengers Bangalore               NaN  ...                    NaN   \n",
      "4  Royal Challengers Bangalore               NaN  ...                    NaN   \n",
      "\n",
      "  over_batsman1_played_balls over_batsman2_name over_batsman2_curr_scr  \\\n",
      "0                        NaN                NaN                    NaN   \n",
      "1                        NaN                NaN                    NaN   \n",
      "2                        NaN                NaN                    NaN   \n",
      "3                        NaN                NaN                    NaN   \n",
      "4                        NaN                NaN                    NaN   \n",
      "\n",
      "  over_batsman2_played_balls over_bowler_name over_bowler_bowled_overs  \\\n",
      "0                        NaN              NaN                      NaN   \n",
      "1                        NaN              NaN                      NaN   \n",
      "2                        NaN              NaN                      NaN   \n",
      "3                        NaN              NaN                      NaN   \n",
      "4                        NaN              NaN                      NaN   \n",
      "\n",
      "   over_bowler_bowled_maidens  over_bowler_bowled_runs  \\\n",
      "0                         NaN                      NaN   \n",
      "1                         NaN                      NaN   \n",
      "2                         NaN                      NaN   \n",
      "3                         NaN                      NaN   \n",
      "4                         NaN                      NaN   \n",
      "\n",
      "   over_bowler_bowled_wickets  \n",
      "0                         NaN  \n",
      "1                         NaN  \n",
      "2                         NaN  \n",
      "3                         NaN  \n",
      "4                         NaN  \n",
      "\n",
      "[5 rows x 45 columns]\n"
     ]
    },
    {
     "name": "stderr",
     "output_type": "stream",
     "text": [
      "C:\\Users\\sures\\AppData\\Local\\Temp\\ipykernel_23080\\2027263072.py:3: DtypeWarning: Columns (21,24,25,28) have mixed types. Specify dtype option on import or set low_memory=False.\n",
      "  over_df = pd.read_csv(\"C:\\\\Users\\\\sures\\\\OneDrive\\\\Desktop\\\\P1L17\\\\ipl_over_data.csv\")\n"
     ]
    }
   ],
   "source": [
    "import pandas as pd\n",
    "commentary_df = pd.read_csv(\"C:\\\\Users\\\\sures\\\\OneDrive\\\\Desktop\\\\P1L17\\\\ipl_commentary_data.csv\")\n",
    "over_df = pd.read_csv(\"C:\\\\Users\\\\sures\\\\OneDrive\\\\Desktop\\\\P1L17\\\\ipl_over_data.csv\")\n",
    "combined_df = pd.concat([commentary_df, over_df], ignore_index=True, sort=False)\n",
    "print(combined_df.head())"
   ]
  }
 ],
 "metadata": {
  "kernelspec": {
   "display_name": "base",
   "language": "python",
   "name": "python3"
  },
  "language_info": {
   "codemirror_mode": {
    "name": "ipython",
    "version": 3
   },
   "file_extension": ".py",
   "mimetype": "text/x-python",
   "name": "python",
   "nbconvert_exporter": "python",
   "pygments_lexer": "ipython3",
   "version": "3.12.4"
  }
 },
 "nbformat": 4,
 "nbformat_minor": 5
}
