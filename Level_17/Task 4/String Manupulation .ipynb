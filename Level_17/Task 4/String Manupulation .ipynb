{
 "cells": [
  {
   "cell_type": "code",
   "execution_count": 1,
   "id": "643fad0d",
   "metadata": {},
   "outputs": [
    {
     "name": "stderr",
     "output_type": "stream",
     "text": [
      "C:\\Users\\sures\\AppData\\Local\\Temp\\ipykernel_24120\\1093498778.py:2: DtypeWarning: Columns (9,21,24,25,28) have mixed types. Specify dtype option on import or set low_memory=False.\n",
      "  commentary_df = pd.read_csv(\"C:\\\\Users\\\\sures\\\\OneDrive\\\\Desktop\\\\P1L17\\\\ipl_commentary_data.csv\")\n"
     ]
    },
    {
     "data": {
      "text/plain": [
       "['year',\n",
       " 'series_type',\n",
       " 'series_name',\n",
       " 'match_no',\n",
       " 'match_type',\n",
       " 'match_id',\n",
       " 'match_venue',\n",
       " 'match_status',\n",
       " 'match_winning_team',\n",
       " 'match_tie_breaker',\n",
       " 'match_toss',\n",
       " 'umpires',\n",
       " 'match_referee',\n",
       " 'third_umpires',\n",
       " 'match_datetime',\n",
       " 'team1_name',\n",
       " 'team2_name',\n",
       " 'team1_score',\n",
       " 'team1_wickets',\n",
       " 'team2_score',\n",
       " 'team2_wickets',\n",
       " 'team1_captain',\n",
       " 'team1_players',\n",
       " 'team1_bench',\n",
       " 'team1_support_staff',\n",
       " 'team2_captain',\n",
       " 'team2_players',\n",
       " 'team2_bench',\n",
       " 'team2_support_staff',\n",
       " 'ball_no',\n",
       " 'over_no',\n",
       " 'ball_commentary']"
      ]
     },
     "execution_count": 1,
     "metadata": {},
     "output_type": "execute_result"
    }
   ],
   "source": [
    "import pandas as pd\n",
    "commentary_df = pd.read_csv(\"C:\\\\Users\\\\sures\\\\OneDrive\\\\Desktop\\\\P1L17\\\\ipl_commentary_data.csv\")\n",
    "\n",
    "commentary_df.columns.tolist()"
   ]
  },
  {
   "cell_type": "code",
   "execution_count": 2,
   "id": "12d8fc96",
   "metadata": {},
   "outputs": [
    {
     "name": "stdout",
     "output_type": "stream",
     "text": [
      "['year', 'series_type', 'series_name', 'match_no', 'match_type', 'match_id', 'match_venue', 'match_status', 'match_winning_team', 'match_tie_breaker', 'match_toss', 'umpires', 'match_referee', 'third_umpires', 'match_datetime', 'team1_name', 'team2_name', 'team1_score', 'team1_wickets', 'team2_score', 'team2_wickets', 'team1_captain', 'team1_players', 'team1_bench', 'team1_support_staff', 'team2_captain', 'team2_players', 'team2_bench', 'team2_support_staff', 'ball_no', 'over_no', 'ball_commentary']\n"
     ]
    }
   ],
   "source": [
    "print(commentary_df.columns.tolist())"
   ]
  }
 ],
 "metadata": {
  "kernelspec": {
   "display_name": "base",
   "language": "python",
   "name": "python3"
  },
  "language_info": {
   "codemirror_mode": {
    "name": "ipython",
    "version": 3
   },
   "file_extension": ".py",
   "mimetype": "text/x-python",
   "name": "python",
   "nbconvert_exporter": "python",
   "pygments_lexer": "ipython3",
   "version": "3.12.4"
  }
 },
 "nbformat": 4,
 "nbformat_minor": 5
}
