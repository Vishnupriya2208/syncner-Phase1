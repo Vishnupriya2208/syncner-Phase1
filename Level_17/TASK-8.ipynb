{
 "cells": [
  {
   "cell_type": "code",
   "execution_count": 0,
   "metadata": {
    "application/vnd.databricks.v1+cell": {
     "cellMetadata": {
      "byteLimit": 2048000,
      "rowLimit": 10000
     },
     "inputWidgets": {},
     "nuid": "06f9d504-3f39-42df-94f8-f10f5996fcb6",
     "showTitle": false,
     "tableResultSettingsMap": {},
     "title": ""
    }
   },
   "outputs": [
    {
     "output_type": "stream",
     "name": "stdout",
     "output_type": "stream",
     "text": [
      "+--------+------+-----------------------------------------+\n|match_id|team  |playing11                                |\n+--------+------+-----------------------------------------+\n|1       |Team A|[Player 1, Player 2, Player 3, Captain A]|\n|2       |Team B|[Player 4, Player 5, Captain B, Player 6]|\n+--------+------+-----------------------------------------+\n\n"
     ]
    }
   ],
   "source": [
    "from pyspark.sql import SparkSession\n",
    "from pyspark.sql.functions import explode\n",
    "spark = SparkSession.builder.appName(\"Explode and Join\").getOrCreate()\n",
    "commentary_data = [\n",
    "    (\"1\", \"Team A\", [\"Player 1\", \"Player 2\", \"Player 3\", \"Captain A\"]),\n",
    "    (\"2\", \"Team B\", [\"Player 4\", \"Player 5\", \"Captain B\", \"Player 6\"])\n",
    "]\n",
    "\n",
    "commentary_columns = [\"match_id\", \"team\", \"playing11\"]\n",
    "\n",
    "commentary_df = spark.createDataFrame(commentary_data, commentary_columns)\n",
    "\n",
    "commentary_df.show(truncate=False)\n",
    "\n"
   ]
  },
  {
   "cell_type": "code",
   "execution_count": 0,
   "metadata": {
    "application/vnd.databricks.v1+cell": {
     "cellMetadata": {
      "byteLimit": 2048000,
      "rowLimit": 10000
     },
     "inputWidgets": {},
     "nuid": "353a3fd0-7777-44cf-b9b3-5f0de037d4d6",
     "showTitle": false,
     "tableResultSettingsMap": {},
     "title": ""
    }
   },
   "outputs": [
    {
     "output_type": "stream",
     "name": "stdout",
     "output_type": "stream",
     "text": [
      "+-----------+----------+----------+\n|player_name|role      |is_captain|\n+-----------+----------+----------+\n|Player 1   |Batsman   |No        |\n|Player 2   |Bowler    |No        |\n|Player 3   |Allrounder|No        |\n|Captain A  |Batsman   |Yes       |\n|Player 4   |Bowler    |No        |\n|Player 5   |Allrounder|No        |\n|Captain B  |Batsman   |Yes       |\n|Player 6   |Bowler    |No        |\n+-----------+----------+----------+\n\n"
     ]
    }
   ],
   "source": [
    "player_href_data = [\n",
    "    (\"Player 1\", \"Batsman\", \"No\"),\n",
    "    (\"Player 2\", \"Bowler\", \"No\"),\n",
    "    (\"Player 3\", \"Allrounder\", \"No\"),\n",
    "    (\"Captain A\", \"Batsman\", \"Yes\"),\n",
    "    (\"Player 4\", \"Bowler\", \"No\"),\n",
    "    (\"Player 5\", \"Allrounder\", \"No\"),\n",
    "    (\"Captain B\", \"Batsman\", \"Yes\"),\n",
    "    (\"Player 6\", \"Bowler\", \"No\")\n",
    "]\n",
    "\n",
    "player_href_columns = [\"player_name\", \"role\", \"is_captain\"]\n",
    "\n",
    "player_href_df = spark.createDataFrame(player_href_data, player_href_columns)\n",
    "\n",
    "player_href_df.show(truncate=False)\n"
   ]
  },
  {
   "cell_type": "code",
   "execution_count": 0,
   "metadata": {
    "application/vnd.databricks.v1+cell": {
     "cellMetadata": {
      "byteLimit": 2048000,
      "rowLimit": 10000
     },
     "inputWidgets": {},
     "nuid": "a69bca42-4daf-48b4-9bb0-3ef4b9f12a57",
     "showTitle": false,
     "tableResultSettingsMap": {},
     "title": ""
    }
   },
   "outputs": [
    {
     "output_type": "stream",
     "name": "stdout",
     "output_type": "stream",
     "text": [
      "+--------+------+-----------+-------+----------+\n|match_id|team  |player_name|role   |is_captain|\n+--------+------+-----------+-------+----------+\n|1       |Team A|Captain A  |Batsman|Yes       |\n|2       |Team B|Captain B  |Batsman|Yes       |\n+--------+------+-----------+-------+----------+\n\n"
     ]
    }
   ],
   "source": [
    "exploded_df = commentary_df.select(\n",
    "    \"match_id\",\n",
    "    \"team\",\n",
    "    explode(\"playing11\").alias(\"player_name\")\n",
    ")\n",
    "\n",
    "joined_df = exploded_df.join(\n",
    "    player_href_df,\n",
    "    on=\"player_name\",\n",
    "    how=\"left\"\n",
    ")\n",
    "\n",
    "captains_df = joined_df.filter(joined_df.is_captain == \"Yes\")\n",
    "\n",
    "captains_df.select(\"match_id\", \"team\", \"player_name\", \"role\", \"is_captain\").show(truncate=False)\n"
   ]
  },
  {
   "cell_type": "code",
   "execution_count": 0,
   "metadata": {
    "application/vnd.databricks.v1+cell": {
     "cellMetadata": {},
     "inputWidgets": {},
     "nuid": "a7ce53f3-4870-4344-b051-25a708c68913",
     "showTitle": false,
     "tableResultSettingsMap": {},
     "title": ""
    }
   },
   "outputs": [],
   "source": []
  }
 ],
 "metadata": {
  "application/vnd.databricks.v1+notebook": {
   "computePreferences": null,
   "dashboards": [],
   "environmentMetadata": {
    "base_environment": "",
    "environment_version": "1"
   },
   "inputWidgetPreferences": null,
   "language": "python",
   "notebookMetadata": {
    "pythonIndentUnit": 4
   },
   "notebookName": "Explode and Join",
   "widgets": {}
  }
 },
 "nbformat": 4,
 "nbformat_minor": 0
}