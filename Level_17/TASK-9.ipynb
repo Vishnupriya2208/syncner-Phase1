{
 "cells": [
  {
   "cell_type": "code",
   "execution_count": 0,
   "metadata": {
    "application/vnd.databricks.v1+cell": {
     "cellMetadata": {
      "byteLimit": 2048000,
      "rowLimit": 10000
     },
     "inputWidgets": {},
     "nuid": "0423602d-783b-4e5d-951b-d3ce517fcc0e",
     "showTitle": false,
     "tableResultSettingsMap": {},
     "title": ""
    }
   },
   "outputs": [
    {
     "output_type": "stream",
     "name": "stdout",
     "output_type": "stream",
     "text": [
      "+--------+------+--------------------+--------------------+----+----+-----------+-------+-----------+------------+----------+----------+-----------+---------+----------------+--------------+-------+\n|match_id|inning|        batting_team|        bowling_team|over|ball|     batter| bowler|non_striker|batsman_runs|extra_runs|total_runs|extras_type|is_wicket|player_dismissed|dismissal_kind|fielder|\n+--------+------+--------------------+--------------------+----+----+-----------+-------+-----------+------------+----------+----------+-----------+---------+----------------+--------------+-------+\n|  335982|     1|Kolkata Knight Ri...|Royal Challengers...|   0|   1| SC Ganguly|P Kumar|BB McCullum|           0|         1|         1|    legbyes|        0|              NA|            NA|     NA|\n|  335982|     1|Kolkata Knight Ri...|Royal Challengers...|   0|   2|BB McCullum|P Kumar| SC Ganguly|           0|         0|         0|       null|        0|              NA|            NA|     NA|\n|  335982|     1|Kolkata Knight Ri...|Royal Challengers...|   0|   3|BB McCullum|P Kumar| SC Ganguly|           0|         1|         1|      wides|        0|              NA|            NA|     NA|\n|  335982|     1|Kolkata Knight Ri...|Royal Challengers...|   0|   4|BB McCullum|P Kumar| SC Ganguly|           0|         0|         0|       null|        0|              NA|            NA|     NA|\n|  335982|     1|Kolkata Knight Ri...|Royal Challengers...|   0|   5|BB McCullum|P Kumar| SC Ganguly|           0|         0|         0|       null|        0|              NA|            NA|     NA|\n+--------+------+--------------------+--------------------+----+----+-----------+-------+-----------+------------+----------+----------+-----------+---------+----------------+--------------+-------+\nonly showing top 5 rows\n\n"
     ]
    }
   ],
   "source": [
    "from pyspark.sql import SparkSession\n",
    "from pyspark.sql.functions import sum as _sum\n",
    "from pyspark.sql.window import Window\n",
    "spark = SparkSession.builder.appName(\"Cumulative Score\").getOrCreate()\n",
    "deliveries_df = spark.read.option(\"header\", True).csv(\"/FileStore/tables/deliveries.csv\")\n",
    "\n",
    "deliveries_df.show(5)\n"
   ]
  },
  {
   "cell_type": "code",
   "execution_count": 0,
   "metadata": {
    "application/vnd.databricks.v1+cell": {
     "cellMetadata": {
      "byteLimit": 2048000,
      "rowLimit": 10000
     },
     "inputWidgets": {},
     "nuid": "4c3f195b-e437-4019-a14c-f24ea115dbf1",
     "showTitle": false,
     "tableResultSettingsMap": {},
     "title": ""
    }
   },
   "outputs": [
    {
     "output_type": "stream",
     "name": "stdout",
     "output_type": "stream",
     "text": [
      "+--------+------+----+----+----------+----------------+\n|match_id|inning|over|ball|total_runs|cumulative_score|\n+--------+------+----+----+----------+----------------+\n|1082593 |2     |0   |1   |1         |1               |\n|1082593 |2     |0   |2   |0         |1               |\n|1082593 |2     |0   |3   |1         |2               |\n|1082593 |2     |0   |4   |0         |2               |\n|1082593 |2     |0   |5   |1         |3               |\n|1082593 |2     |0   |6   |4         |7               |\n|1082593 |2     |1   |1   |1         |8               |\n|1082593 |2     |1   |2   |6         |14              |\n|1082593 |2     |1   |3   |1         |15              |\n|1082593 |2     |1   |4   |4         |19              |\n|1082593 |2     |1   |5   |0         |19              |\n|1082593 |2     |1   |6   |1         |20              |\n|1082593 |2     |2   |1   |4         |24              |\n|1082593 |2     |2   |2   |1         |25              |\n|1082593 |2     |2   |3   |1         |26              |\n|1082593 |2     |2   |4   |4         |30              |\n|1082593 |2     |2   |5   |6         |36              |\n|1082593 |2     |2   |6   |0         |36              |\n|1082593 |2     |2   |7   |1         |37              |\n|1082593 |2     |2   |8   |0         |37              |\n+--------+------+----+----+----------+----------------+\nonly showing top 20 rows\n\n"
     ]
    }
   ],
   "source": [
    "from pyspark.sql.functions import col\n",
    "window_spec = Window.partitionBy(\"match_id\", \"inning\").orderBy(col(\"over\").cast(\"int\"), col(\"ball\").cast(\"int\")).rowsBetween(Window.unboundedPreceding, Window.currentRow)\n",
    "deliveries_with_cumulative = deliveries_df.withColumn(\n",
    "    \"cumulative_score\",\n",
    "    _sum(col(\"total_runs\").cast(\"int\")).over(window_spec)\n",
    ")\n",
    "\n",
    "deliveries_with_cumulative.select(\"match_id\", \"inning\", \"over\", \"ball\", \"total_runs\", \"cumulative_score\").show(20, truncate=False)\n"
   ]
  },
  {
   "cell_type": "code",
   "execution_count": 0,
   "metadata": {
    "application/vnd.databricks.v1+cell": {
     "cellMetadata": {},
     "inputWidgets": {},
     "nuid": "b71b8645-a95d-451c-9e1d-153f12d71708",
     "showTitle": false,
     "tableResultSettingsMap": {},
     "title": ""
    }
   },
   "outputs": [],
   "source": []
  }
 ],
 "metadata": {
  "application/vnd.databricks.v1+notebook": {
   "computePreferences": null,
   "dashboards": [],
   "environmentMetadata": {
    "base_environment": "",
    "environment_version": "1"
   },
   "inputWidgetPreferences": null,
   "language": "python",
   "notebookMetadata": {
    "pythonIndentUnit": 4
   },
   "notebookName": "Window Functions",
   "widgets": {}
  }
 },
 "nbformat": 4,
 "nbformat_minor": 0
}