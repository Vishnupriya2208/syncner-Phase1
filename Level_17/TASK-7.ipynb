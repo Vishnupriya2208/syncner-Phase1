{
 "cells": [
  {
   "cell_type": "code",
   "execution_count": 0,
   "metadata": {
    "application/vnd.databricks.v1+cell": {
     "cellMetadata": {
      "byteLimit": 2048000,
      "rowLimit": 10000
     },
     "inputWidgets": {},
     "nuid": "5cf0ccce-df16-468c-afd6-07b9605ebfeb",
     "showTitle": false,
     "tableResultSettingsMap": {},
     "title": ""
    }
   },
   "outputs": [
    {
     "output_type": "stream",
     "name": "stdout",
     "output_type": "stream",
     "text": [
      "Matches Dataset Schema:\nroot\n |-- id: integer (nullable = true)\n |-- season: string (nullable = true)\n |-- city: string (nullable = true)\n |-- date: date (nullable = true)\n |-- match_type: string (nullable = true)\n |-- player_of_match: string (nullable = true)\n |-- venue: string (nullable = true)\n |-- team1: string (nullable = true)\n |-- team2: string (nullable = true)\n |-- toss_winner: string (nullable = true)\n |-- toss_decision: string (nullable = true)\n |-- winner: string (nullable = true)\n |-- result: string (nullable = true)\n |-- result_margin: string (nullable = true)\n |-- target_runs: string (nullable = true)\n |-- target_overs: string (nullable = true)\n |-- super_over: string (nullable = true)\n |-- method: string (nullable = true)\n |-- umpire1: string (nullable = true)\n |-- umpire2: string (nullable = true)\n\nDeliveries Dataset Schema:\nroot\n |-- match_id: integer (nullable = true)\n |-- inning: integer (nullable = true)\n |-- batting_team: string (nullable = true)\n |-- bowling_team: string (nullable = true)\n |-- over: integer (nullable = true)\n |-- ball: integer (nullable = true)\n |-- batter: string (nullable = true)\n |-- bowler: string (nullable = true)\n |-- non_striker: string (nullable = true)\n |-- batsman_runs: integer (nullable = true)\n |-- extra_runs: integer (nullable = true)\n |-- total_runs: integer (nullable = true)\n |-- extras_type: string (nullable = true)\n |-- is_wicket: integer (nullable = true)\n |-- player_dismissed: string (nullable = true)\n |-- dismissal_kind: string (nullable = true)\n |-- fielder: string (nullable = true)\n\nLeft Join - Number of distinct matches in deliveries_df:\n1095\nRight Join - Number of distinct matches in matches_df:\n1095\nInner Join - Number of distinct matches in common:\n1095\nDeliveries with no Match Record:\n+--------+\n|match_id|\n+--------+\n+--------+\n\nMatches with no Deliveries Record:\n+---+\n| id|\n+---+\n+---+\n\n"
     ]
    }
   ],
   "source": [
    "from pyspark.sql import SparkSession\n",
    "spark = SparkSession.builder.appName(\"IPL Joins Task\").getOrCreate()\n",
    "matches_df = spark.read.csv(\"/FileStore/tables/matches.csv\", header=True, inferSchema=True)\n",
    "deliveries_df = spark.read.csv(\"/FileStore/tables/deliveries.csv\", header=True, inferSchema=True)\n",
    "print(\"Matches Dataset Schema:\")\n",
    "matches_df.printSchema()\n",
    "\n",
    "print(\"Deliveries Dataset Schema:\")\n",
    "deliveries_df.printSchema()\n",
    "left_join_df = deliveries_df.join(\n",
    "    matches_df,\n",
    "    deliveries_df.match_id == matches_df.id,\n",
    "    how=\"left\"\n",
    ")\n",
    "\n",
    "print(\"Left Join - Number of distinct matches in deliveries_df:\")\n",
    "print(left_join_df.select(\"match_id\").distinct().count())\n",
    "right_join_df = deliveries_df.join(\n",
    "    matches_df,\n",
    "    deliveries_df.match_id == matches_df.id,\n",
    "    how=\"right\"\n",
    ")\n",
    "\n",
    "print(\"Right Join - Number of distinct matches in matches_df:\")\n",
    "print(right_join_df.select(\"id\").distinct().count())\n",
    "inner_join_df = deliveries_df.join(\n",
    "    matches_df,\n",
    "    deliveries_df.match_id == matches_df.id,\n",
    "    how=\"inner\"\n",
    ")\n",
    "\n",
    "print(\"Inner Join - Number of distinct matches in common:\")\n",
    "print(inner_join_df.select(\"match_id\").distinct().count())\n",
    "\n",
    "mismatch_left = deliveries_df.join(\n",
    "    matches_df,\n",
    "    deliveries_df.match_id == matches_df.id,\n",
    "    how=\"left_anti\"\n",
    ")\n",
    "\n",
    "print(\"Deliveries with no Match Record:\")\n",
    "mismatch_left.select(\"match_id\").distinct().show()\n",
    "mismatch_right = matches_df.join(\n",
    "    deliveries_df,\n",
    "    matches_df.id == deliveries_df.match_id,\n",
    "    how=\"left_anti\"\n",
    ")\n",
    "\n",
    "print(\"Matches with no Deliveries Record:\")\n",
    "mismatch_right.select(\"id\").distinct().show()\n"
   ]
  },
  {
   "cell_type": "code",
   "execution_count": 0,
   "metadata": {
    "application/vnd.databricks.v1+cell": {
     "cellMetadata": {},
     "inputWidgets": {},
     "nuid": "cc2ef23c-c769-4fd3-9e8d-f823a0f02ac6",
     "showTitle": false,
     "tableResultSettingsMap": {},
     "title": ""
    }
   },
   "outputs": [],
   "source": []
  }
 ],
 "metadata": {
  "application/vnd.databricks.v1+notebook": {
   "computePreferences": null,
   "dashboards": [],
   "environmentMetadata": {
    "base_environment": "",
    "environment_version": "1"
   },
   "inputWidgetPreferences": null,
   "language": "python",
   "notebookMetadata": {
    "pythonIndentUnit": 4
   },
   "notebookName": "Joins",
   "widgets": {}
  }
 },
 "nbformat": 4,
 "nbformat_minor": 0
}