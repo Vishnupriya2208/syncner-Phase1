{
 "cells": [
  {
   "cell_type": "code",
   "execution_count": 0,
   "metadata": {
    "application/vnd.databricks.v1+cell": {
     "cellMetadata": {
      "byteLimit": 2048000,
      "rowLimit": 10000
     },
     "inputWidgets": {},
     "nuid": "33b0ece8-ed8d-4b2a-b157-98e9ab5023a3",
     "showTitle": false,
     "tableResultSettingsMap": {},
     "title": ""
    }
   },
   "outputs": [],
   "source": [
    "from pyspark.sql import SparkSession\n",
    "from pyspark.sql.functions import col, regexp_extract\n",
    "from pyspark.sql.functions import explode, split\n",
    "\n",
    "df = spark.read.option(\"header\", \"true\").csv(\"dbfs:/FileStore/shared_uploads/logeshbtech0560@gmail.com/ipl_commentary_data.csv\")"
   ]
  },
  {
   "cell_type": "code",
   "execution_count": 0,
   "metadata": {
    "application/vnd.databricks.v1+cell": {
     "cellMetadata": {
      "byteLimit": 2048000,
      "rowLimit": 10000
     },
     "inputWidgets": {},
     "nuid": "01a90bf3-276f-41aa-ae43-712d1057b550",
     "showTitle": false,
     "tableResultSettingsMap": {},
     "title": ""
    }
   },
   "outputs": [],
   "source": [
    "from pyspark.sql.functions import col\n",
    "\n",
    "team_scores = df.select(\"year\", \n",
    "                        col(\"team1_name\").alias(\"team\"), \n",
    "                        col(\"team1_score\").cast(\"int\").alias(\"score\")) \\\n",
    "    .union(\n",
    "        df.select(\"year\", \n",
    "                  col(\"team2_name\").alias(\"team\"), \n",
    "                  col(\"team2_score\").cast(\"int\").alias(\"score\"))\n",
    "    ).dropna(subset=[\"score\", \"team\", \"year\"])\n"
   ]
  },
  {
   "cell_type": "code",
   "execution_count": 0,
   "metadata": {
    "application/vnd.databricks.v1+cell": {
     "cellMetadata": {
      "byteLimit": 2048000,
      "rowLimit": 10000
     },
     "inputWidgets": {},
     "nuid": "982ec403-d821-42d0-b646-cecb76e41554",
     "showTitle": false,
     "tableResultSettingsMap": {},
     "title": ""
    }
   },
   "outputs": [
    {
     "output_type": "display_data",
     "data": {
      "text/html": [
       "<style scoped>\n",
       "  .table-result-container {\n",
       "    max-height: 300px;\n",
       "    overflow: auto;\n",
       "  }\n",
       "  table, th, td {\n",
       "    border: 1px solid black;\n",
       "    border-collapse: collapse;\n",
       "  }\n",
       "  th, td {\n",
       "    padding: 5px;\n",
       "  }\n",
       "  th {\n",
       "    text-align: left;\n",
       "  }\n",
       "</style><div class='table-result-container'><table class='table-result'><thead style='background-color: white'><tr><th>team</th><th>2017</th><th>2018</th><th>2019</th><th>2020</th><th>2021</th><th>2022</th><th>2023</th><th>2024</th><th>2025</th></tr></thead><tbody><tr><td>KKR</td><td>158.36411101951086</td><td>166.20812182741116</td><td>177.26514697060588</td><td>159.5689349112426</td><td>152.60365853658536</td><td>159.89002403846155</td><td>176.45701624815362</td><td>201.31263858093126</td><td>163.2472647702407</td></tr><tr><td>DC</td><td>161.33690330477356</td><td>170.4295010845987</td><td>157.98445193055196</td><td>163.99326923076924</td><td>155.34796076406815</td><td>168.33185971117007</td><td>155.61205653302568</td><td>186.4934872705743</td><td>211.0</td></tr><tr><td>GL</td><td>172.35221078134464</td><td>null</td><td>null</td><td>null</td><td>null</td><td>null</td><td>null</td><td>null</td><td>null</td></tr><tr><td>RR</td><td>null</td><td>153.99781659388645</td><td>166.42231348391513</td><td>163.7712532865907</td><td>143.3204947989879</td><td>173.6413172234068</td><td>177.03091922005572</td><td>177.23362208987547</td><td>199.06854838709677</td></tr><tr><td>LSG</td><td>null</td><td>null</td><td>null</td><td>null</td><td>null</td><td>170.78957371707847</td><td>169.41053850607992</td><td>177.9854642539306</td><td>201.2171189979123</td></tr><tr><td>MI</td><td>164.34846625766872</td><td>170.29731308411215</td><td>166.72696860524962</td><td>172.54440357330532</td><td>157.8466065123578</td><td>159.40988458123707</td><td>184.30568475452196</td><td>184.83166273584905</td><td>155.0</td></tr><tr><td>GT</td><td>null</td><td>null</td><td>null</td><td>null</td><td>null</td><td>166.926508509541</td><td>180.13431013431014</td><td>172.66300496102056</td><td>232.0</td></tr><tr><td>CSK</td><td>null</td><td>175.780549898167</td><td>152.92725563909775</td><td>157.20361053566143</td><td>171.80102827763497</td><td>164.69067921199647</td><td>181.63744911804613</td><td>180.54862119013063</td><td>151.91480730223122</td></tr><tr><td>SRH</td><td>169.19295047098146</td><td>160.38291676777482</td><td>163.968438538206</td><td>158.21905748316934</td><td>148.55973193473193</td><td>159.35772113943028</td><td>170.4796605209248</td><td>193.61790966386553</td><td>240.8121212121212</td></tr><tr><td>RCB</td><td>143.87269736842106</td><td>168.34315789473683</td><td>166.20727848101265</td><td>153.24136978735157</td><td>158.62442022911426</td><td>167.23402597402597</td><td>179.10242587601078</td><td>202.57186732186733</td><td>187.04228329809726</td></tr><tr><td>RPS</td><td>155.9596412556054</td><td>null</td><td>null</td><td>null</td><td>null</td><td>null</td><td>null</td><td>null</td><td>null</td></tr><tr><td>PBKS</td><td>162.04599129894345</td><td>160.76829268292684</td><td>173.53130434782608</td><td>166.83741516671586</td><td>154.56347773766547</td><td>169.00268176400476</td><td>183.20882990249189</td><td>177.82167832167832</td><td>243.0</td></tr></tbody></table></div>"
      ]
     },
     "metadata": {
      "application/vnd.databricks.v1+output": {
       "addedWidgets": {},
       "aggData": [],
       "aggError": "",
       "aggOverflow": false,
       "aggSchema": [],
       "aggSeriesLimitReached": false,
       "aggType": "",
       "arguments": {},
       "columnCustomDisplayInfos": {},
       "data": [
        [
         "KKR",
         158.36411101951086,
         166.20812182741116,
         177.26514697060588,
         159.5689349112426,
         152.60365853658536,
         159.89002403846155,
         176.45701624815362,
         201.31263858093126,
         163.2472647702407
        ],
        [
         "DC",
         161.33690330477356,
         170.4295010845987,
         157.98445193055196,
         163.99326923076924,
         155.34796076406815,
         168.33185971117007,
         155.61205653302568,
         186.4934872705743,
         211.0
        ],
        [
         "GL",
         172.35221078134464,
         null,
         null,
         null,
         null,
         null,
         null,
         null,
         null
        ],
        [
         "RR",
         null,
         153.99781659388645,
         166.42231348391513,
         163.7712532865907,
         143.3204947989879,
         173.6413172234068,
         177.03091922005572,
         177.23362208987547,
         199.06854838709677
        ],
        [
         "LSG",
         null,
         null,
         null,
         null,
         null,
         170.78957371707847,
         169.41053850607992,
         177.9854642539306,
         201.2171189979123
        ],
        [
         "MI",
         164.34846625766872,
         170.29731308411215,
         166.72696860524962,
         172.54440357330532,
         157.8466065123578,
         159.40988458123707,
         184.30568475452196,
         184.83166273584905,
         155.0
        ],
        [
         "GT",
         null,
         null,
         null,
         null,
         null,
         166.926508509541,
         180.13431013431014,
         172.66300496102056,
         232.0
        ],
        [
         "CSK",
         null,
         175.780549898167,
         152.92725563909775,
         157.20361053566143,
         171.80102827763497,
         164.69067921199647,
         181.63744911804613,
         180.54862119013063,
         151.91480730223122
        ],
        [
         "SRH",
         169.19295047098146,
         160.38291676777482,
         163.968438538206,
         158.21905748316934,
         148.55973193473193,
         159.35772113943028,
         170.4796605209248,
         193.61790966386553,
         240.8121212121212
        ],
        [
         "RCB",
         143.87269736842106,
         168.34315789473683,
         166.20727848101265,
         153.24136978735157,
         158.62442022911426,
         167.23402597402597,
         179.10242587601078,
         202.57186732186733,
         187.04228329809726
        ],
        [
         "RPS",
         155.9596412556054,
         null,
         null,
         null,
         null,
         null,
         null,
         null,
         null
        ],
        [
         "PBKS",
         162.04599129894345,
         160.76829268292684,
         173.53130434782608,
         166.83741516671586,
         154.56347773766547,
         169.00268176400476,
         183.20882990249189,
         177.82167832167832,
         243.0
        ]
       ],
       "datasetInfos": [],
       "dbfsResultPath": null,
       "isJsonSchema": true,
       "metadata": {},
       "overflow": false,
       "plotOptions": {
        "customPlotOptions": {},
        "displayType": "table",
        "pivotAggregation": null,
        "pivotColumns": null,
        "xColumns": null,
        "yColumns": null
       },
       "removedWidgets": [],
       "schema": [
        {
         "metadata": "{}",
         "name": "team",
         "type": "\"string\""
        },
        {
         "metadata": "{}",
         "name": "2017",
         "type": "\"double\""
        },
        {
         "metadata": "{}",
         "name": "2018",
         "type": "\"double\""
        },
        {
         "metadata": "{}",
         "name": "2019",
         "type": "\"double\""
        },
        {
         "metadata": "{}",
         "name": "2020",
         "type": "\"double\""
        },
        {
         "metadata": "{}",
         "name": "2021",
         "type": "\"double\""
        },
        {
         "metadata": "{}",
         "name": "2022",
         "type": "\"double\""
        },
        {
         "metadata": "{}",
         "name": "2023",
         "type": "\"double\""
        },
        {
         "metadata": "{}",
         "name": "2024",
         "type": "\"double\""
        },
        {
         "metadata": "{}",
         "name": "2025",
         "type": "\"double\""
        }
       ],
       "type": "table"
      }
     },
     "output_type": "display_data"
    }
   ],
   "source": [
    "avg_score_pivot = team_scores.groupBy(\"team\").pivot(\"year\").avg(\"score\")\n",
    "display(avg_score_pivot)\n"
   ]
  },
  {
   "cell_type": "code",
   "execution_count": 0,
   "metadata": {
    "application/vnd.databricks.v1+cell": {
     "cellMetadata": {
      "byteLimit": 2048000,
      "rowLimit": 10000
     },
     "inputWidgets": {},
     "nuid": "9a7923d8-ec79-40ec-a173-37c2f8f4bf90",
     "showTitle": false,
     "tableResultSettingsMap": {},
     "title": ""
    }
   },
   "outputs": [
    {
     "output_type": "display_data",
     "data": {
      "text/html": [
       "<style scoped>\n",
       "  .table-result-container {\n",
       "    max-height: 300px;\n",
       "    overflow: auto;\n",
       "  }\n",
       "  table, th, td {\n",
       "    border: 1px solid black;\n",
       "    border-collapse: collapse;\n",
       "  }\n",
       "  th, td {\n",
       "    padding: 5px;\n",
       "  }\n",
       "  th {\n",
       "    text-align: left;\n",
       "  }\n",
       "</style><div class='table-result-container'><table class='table-result'><thead style='background-color: white'><tr><th>team</th><th>2017</th><th>2018</th><th>2019</th><th>2020</th><th>2021</th><th>2022</th><th>2023</th><th>2024</th><th>2025</th></tr></thead><tbody><tr><td>KKR</td><td>187</td><td>245</td><td>232</td><td>210</td><td>202</td><td>210</td><td>207</td><td>272</td><td>174</td></tr><tr><td>DC</td><td>214</td><td>219</td><td>213</td><td>228</td><td>198</td><td>215</td><td>213</td><td>257</td><td>211</td></tr><tr><td>GL</td><td>208</td><td>null</td><td>null</td><td>null</td><td>null</td><td>null</td><td>null</td><td>null</td><td>null</td></tr><tr><td>RR</td><td>null</td><td>217</td><td>198</td><td>226</td><td>220</td><td>222</td><td>214</td><td>224</td><td>242</td></tr><tr><td>LSG</td><td>null</td><td>null</td><td>null</td><td>null</td><td>null</td><td>211</td><td>257</td><td>214</td><td>209</td></tr><tr><td>MI</td><td>223</td><td>213</td><td>198</td><td>208</td><td>235</td><td>190</td><td>218</td><td>247</td><td>155</td></tr><tr><td>GT</td><td>null</td><td>null</td><td>null</td><td>null</td><td>null</td><td>199</td><td>233</td><td>231</td><td>232</td></tr><tr><td>CSK</td><td>null</td><td>211</td><td>179</td><td>200</td><td>220</td><td>216</td><td>235</td><td>212</td><td>158</td></tr><tr><td>SRH</td><td>209</td><td>204</td><td>231</td><td>219</td><td>193</td><td>195</td><td>228</td><td>287</td><td>286</td></tr><tr><td>RCB</td><td>213</td><td>218</td><td>213</td><td>201</td><td>204</td><td>207</td><td>218</td><td>262</td><td>196</td></tr><tr><td>RPS</td><td>187</td><td>null</td><td>null</td><td>null</td><td>null</td><td>null</td><td>null</td><td>null</td><td>null</td></tr><tr><td>PBKS</td><td>230</td><td>214</td><td>197</td><td>223</td><td>221</td><td>209</td><td>214</td><td>262</td><td>243</td></tr></tbody></table></div>"
      ]
     },
     "metadata": {
      "application/vnd.databricks.v1+output": {
       "addedWidgets": {},
       "aggData": [],
       "aggError": "",
       "aggOverflow": false,
       "aggSchema": [],
       "aggSeriesLimitReached": false,
       "aggType": "",
       "arguments": {},
       "columnCustomDisplayInfos": {},
       "data": [
        [
         "KKR",
         187,
         245,
         232,
         210,
         202,
         210,
         207,
         272,
         174
        ],
        [
         "DC",
         214,
         219,
         213,
         228,
         198,
         215,
         213,
         257,
         211
        ],
        [
         "GL",
         208,
         null,
         null,
         null,
         null,
         null,
         null,
         null,
         null
        ],
        [
         "RR",
         null,
         217,
         198,
         226,
         220,
         222,
         214,
         224,
         242
        ],
        [
         "LSG",
         null,
         null,
         null,
         null,
         null,
         211,
         257,
         214,
         209
        ],
        [
         "MI",
         223,
         213,
         198,
         208,
         235,
         190,
         218,
         247,
         155
        ],
        [
         "GT",
         null,
         null,
         null,
         null,
         null,
         199,
         233,
         231,
         232
        ],
        [
         "CSK",
         null,
         211,
         179,
         200,
         220,
         216,
         235,
         212,
         158
        ],
        [
         "SRH",
         209,
         204,
         231,
         219,
         193,
         195,
         228,
         287,
         286
        ],
        [
         "RCB",
         213,
         218,
         213,
         201,
         204,
         207,
         218,
         262,
         196
        ],
        [
         "RPS",
         187,
         null,
         null,
         null,
         null,
         null,
         null,
         null,
         null
        ],
        [
         "PBKS",
         230,
         214,
         197,
         223,
         221,
         209,
         214,
         262,
         243
        ]
       ],
       "datasetInfos": [],
       "dbfsResultPath": null,
       "isJsonSchema": true,
       "metadata": {},
       "overflow": false,
       "plotOptions": {
        "customPlotOptions": {},
        "displayType": "table",
        "pivotAggregation": null,
        "pivotColumns": null,
        "xColumns": null,
        "yColumns": null
       },
       "removedWidgets": [],
       "schema": [
        {
         "metadata": "{}",
         "name": "team",
         "type": "\"string\""
        },
        {
         "metadata": "{}",
         "name": "2017",
         "type": "\"integer\""
        },
        {
         "metadata": "{}",
         "name": "2018",
         "type": "\"integer\""
        },
        {
         "metadata": "{}",
         "name": "2019",
         "type": "\"integer\""
        },
        {
         "metadata": "{}",
         "name": "2020",
         "type": "\"integer\""
        },
        {
         "metadata": "{}",
         "name": "2021",
         "type": "\"integer\""
        },
        {
         "metadata": "{}",
         "name": "2022",
         "type": "\"integer\""
        },
        {
         "metadata": "{}",
         "name": "2023",
         "type": "\"integer\""
        },
        {
         "metadata": "{}",
         "name": "2024",
         "type": "\"integer\""
        },
        {
         "metadata": "{}",
         "name": "2025",
         "type": "\"integer\""
        }
       ],
       "type": "table"
      }
     },
     "output_type": "display_data"
    }
   ],
   "source": [
    "max_score_pivot = team_scores.groupBy(\"team\").pivot(\"year\").max(\"score\")\n",
    "display(max_score_pivot)\n"
   ]
  },
  {
   "cell_type": "code",
   "execution_count": 0,
   "metadata": {
    "application/vnd.databricks.v1+cell": {
     "cellMetadata": {},
     "inputWidgets": {},
     "nuid": "c9ef279b-6e8b-4d9b-b8d1-236eebf9a586",
     "showTitle": false,
     "tableResultSettingsMap": {},
     "title": ""
    }
   },
   "outputs": [],
   "source": []
  }
 ],
 "metadata": {
  "application/vnd.databricks.v1+notebook": {
   "computePreferences": null,
   "dashboards": [],
   "environmentMetadata": {
    "base_environment": "",
    "environment_version": "1"
   },
   "inputWidgetPreferences": null,
   "language": "python",
   "notebookMetadata": {
    "pythonIndentUnit": 4
   },
   "notebookName": "Task_6",
   "widgets": {}
  }
 },
 "nbformat": 4,
 "nbformat_minor": 0
}