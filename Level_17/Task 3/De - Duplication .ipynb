{
 "cells": [
  {
   "cell_type": "code",
   "execution_count": 1,
   "id": "9223c281",
   "metadata": {},
   "outputs": [
    {
     "name": "stdout",
     "output_type": "stream",
     "text": [
      "Different tie-breakers used for tied matches:\n",
      "- Super Over\n",
      "- one - over eliminator\n",
      "- 2nd Super Over\n"
     ]
    },
    {
     "name": "stderr",
     "output_type": "stream",
     "text": [
      "C:\\Users\\sures\\AppData\\Local\\Temp\\ipykernel_23612\\1948090039.py:2: DtypeWarning: Columns (21,24,25,28) have mixed types. Specify dtype option on import or set low_memory=False.\n",
      "  over_df = pd.read_csv(\"C:\\\\Users\\\\sures\\\\OneDrive\\\\Desktop\\\\P1L17\\\\ipl_over_data.csv\")\n"
     ]
    }
   ],
   "source": [
    "import pandas as pd\n",
    "over_df = pd.read_csv(\"C:\\\\Users\\\\sures\\\\OneDrive\\\\Desktop\\\\P1L17\\\\ipl_over_data.csv\")\n",
    "tie_breakers = over_df[over_df['match_tie_breaker'].notna()]['match_tie_breaker'].unique()\n",
    "print(\"Different tie-breakers used for tied matches:\")\n",
    "for tb in tie_breakers:\n",
    "    print(\"-\", tb)"
   ]
  },
  {
   "cell_type": "code",
   "execution_count": null,
   "id": "c1ae8fe9",
   "metadata": {},
   "outputs": [],
   "source": []
  }
 ],
 "metadata": {
  "kernelspec": {
   "display_name": "base",
   "language": "python",
   "name": "python3"
  },
  "language_info": {
   "codemirror_mode": {
    "name": "ipython",
    "version": 3
   },
   "file_extension": ".py",
   "mimetype": "text/x-python",
   "name": "python",
   "nbconvert_exporter": "python",
   "pygments_lexer": "ipython3",
   "version": "3.12.4"
  }
 },
 "nbformat": 4,
 "nbformat_minor": 5
}
