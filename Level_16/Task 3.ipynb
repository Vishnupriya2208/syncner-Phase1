{
 "cells": [
  {
   "cell_type": "code",
   "execution_count": 1,
   "id": "5412c89a",
   "metadata": {},
   "outputs": [
    {
     "name": "stdout",
     "output_type": "stream",
     "text": [
      " show() - Displaying the first 5 rows:\n",
      "  player  runs team   status\n",
      "0  Kohli    45  RCB  Not Out\n",
      "1  Rohit    30   MI      Out\n",
      "2  Dhoni    65  CSK  Not Out\n",
      "📋 display() - Displaying data in tabular format:\n"
     ]
    },
    {
     "data": {
      "text/html": [
       "<div>\n",
       "<style scoped>\n",
       "    .dataframe tbody tr th:only-of-type {\n",
       "        vertical-align: middle;\n",
       "    }\n",
       "\n",
       "    .dataframe tbody tr th {\n",
       "        vertical-align: top;\n",
       "    }\n",
       "\n",
       "    .dataframe thead th {\n",
       "        text-align: right;\n",
       "    }\n",
       "</style>\n",
       "<table border=\"1\" class=\"dataframe\">\n",
       "  <thead>\n",
       "    <tr style=\"text-align: right;\">\n",
       "      <th></th>\n",
       "      <th>player</th>\n",
       "      <th>runs</th>\n",
       "      <th>team</th>\n",
       "      <th>status</th>\n",
       "    </tr>\n",
       "  </thead>\n",
       "  <tbody>\n",
       "    <tr>\n",
       "      <th>0</th>\n",
       "      <td>Kohli</td>\n",
       "      <td>45</td>\n",
       "      <td>RCB</td>\n",
       "      <td>Not Out</td>\n",
       "    </tr>\n",
       "    <tr>\n",
       "      <th>1</th>\n",
       "      <td>Rohit</td>\n",
       "      <td>30</td>\n",
       "      <td>MI</td>\n",
       "      <td>Out</td>\n",
       "    </tr>\n",
       "    <tr>\n",
       "      <th>2</th>\n",
       "      <td>Dhoni</td>\n",
       "      <td>65</td>\n",
       "      <td>CSK</td>\n",
       "      <td>Not Out</td>\n",
       "    </tr>\n",
       "    <tr>\n",
       "      <th>3</th>\n",
       "      <td>Smith</td>\n",
       "      <td>50</td>\n",
       "      <td>RR</td>\n",
       "      <td>Out</td>\n",
       "    </tr>\n",
       "    <tr>\n",
       "      <th>4</th>\n",
       "      <td>Warner</td>\n",
       "      <td>85</td>\n",
       "      <td>DC</td>\n",
       "      <td>Not Out</td>\n",
       "    </tr>\n",
       "  </tbody>\n",
       "</table>\n",
       "</div>"
      ],
      "text/plain": [
       "   player  runs team   status\n",
       "0   Kohli    45  RCB  Not Out\n",
       "1   Rohit    30   MI      Out\n",
       "2   Dhoni    65  CSK  Not Out\n",
       "3   Smith    50   RR      Out\n",
       "4  Warner    85   DC  Not Out"
      ]
     },
     "metadata": {},
     "output_type": "display_data"
    }
   ],
   "source": [
    "import pandas as pd\n",
    "\n",
    "data = {\n",
    "    'player': ['Kohli', 'Rohit', 'Dhoni', 'Smith', 'Warner'],\n",
    "    'runs': [45, 30, 65, 50, 85],\n",
    "    'team': ['RCB', 'MI', 'CSK', 'RR', 'DC'],\n",
    "    'status': ['Not Out', 'Out', 'Not Out', 'Out', 'Not Out']\n",
    "}\n",
    "\n",
    "df = pd.DataFrame(data)\n",
    "\n",
    "def show(df, n=5):\n",
    "    \"\"\"Simulate PySpark's show() - display first n rows\"\"\"\n",
    "    print(\" show() - Displaying the first 5 rows:\")\n",
    "    print(df.head(n))  \n",
    "\n",
    "def display(df):\n",
    "    \"\"\"Simulate display() in Jupyter or Databricks\"\"\"\n",
    "    print(\"📋 display() - Displaying data in tabular format:\")\n",
    "    from IPython.display import display as ipython_display\n",
    "    ipython_display(df)\n",
    "show(df, 3)\n",
    "display(df)\n"
   ]
  }
 ],
 "metadata": {
  "kernelspec": {
   "display_name": "base",
   "language": "python",
   "name": "python3"
  },
  "language_info": {
   "codemirror_mode": {
    "name": "ipython",
    "version": 3
   },
   "file_extension": ".py",
   "mimetype": "text/x-python",
   "name": "python",
   "nbconvert_exporter": "python",
   "pygments_lexer": "ipython3",
   "version": "3.12.4"
  }
 },
 "nbformat": 4,
 "nbformat_minor": 5
}
