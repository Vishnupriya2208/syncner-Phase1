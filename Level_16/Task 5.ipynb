{
 "cells": [
  {
   "cell_type": "code",
   "execution_count": 1,
   "id": "d126ff1f",
   "metadata": {},
   "outputs": [
    {
     "name": "stdout",
     "output_type": "stream",
     "text": [
      "\n",
      "Delta Table after appending new data:\n",
      "   match_id team1 team2 match_result  tiebreaker match_status  runs_team1  \\\n",
      "0         1   RCB    MI      RCB won         NaN    Completed         180   \n",
      "1         2    MI   KKR       MI won         NaN    Completed         175   \n",
      "2         3   CSK    DC         Tied  Super Over    Completed         160   \n",
      "3         4    RR    DC       RR won         NaN    Completed         155   \n",
      "\n",
      "   runs_team2  \n",
      "0         170  \n",
      "1         175  \n",
      "2         160  \n",
      "3         150  \n"
     ]
    }
   ],
   "source": [
    "import pandas as pd\n",
    "import os\n",
    "\n",
    "data = {\n",
    "    'match_id': [1, 2, 3],\n",
    "    'team1': ['RCB', 'MI', 'CSK'],\n",
    "    'team2': ['MI', 'KKR', 'DC'],\n",
    "    'match_result': ['RCB won', 'MI won', 'Tied'],\n",
    "    'tiebreaker': [None, None, 'Super Over'],\n",
    "    'match_status': ['Completed', 'Completed', 'Completed'],\n",
    "    'runs_team1': [180, 175, 160],\n",
    "    'runs_team2': [170, 175, 160]\n",
    "}\n",
    "\n",
    "df = pd.DataFrame(data)\n",
    "\n",
    "delta_table_path = \"delta_table.csv\"\n",
    "\n",
    "def write_to_delta_table(df, delta_table_path, mode='overwrite'):\n",
    "    if mode == 'overwrite' and os.path.exists(delta_table_path):\n",
    "        os.remove(delta_table_path)  # Remove existing Delta Table (CSV)\n",
    "    \n",
    "    df.to_csv(delta_table_path, index=False, mode='w', header=True)  \n",
    "\n",
    "def append_to_delta_table(df, delta_table_path):\n",
    "    \"\"\"Simulate appending to a Delta Table (with schema enforcement)\"\"\"\n",
    "    if os.path.exists(delta_table_path):\n",
    "        existing_df = pd.read_csv(delta_table_path)\n",
    "        combined_df = pd.concat([existing_df, df], ignore_index=True)\n",
    "        combined_df.to_csv(delta_table_path, index=False, mode='w', header=True)  \n",
    "    else:\n",
    "        write_to_delta_table(df, delta_table_path, mode='overwrite')  \n",
    "\n",
    "write_to_delta_table(df, delta_table_path, mode='overwrite')\n",
    "\n",
    "new_data = {\n",
    "    'match_id': [4],\n",
    "    'team1': ['RR'],\n",
    "    'team2': ['DC'],\n",
    "    'match_result': ['RR won'],\n",
    "    'tiebreaker': [None],\n",
    "    'match_status': ['Completed'],\n",
    "    'runs_team1': [155],\n",
    "    'runs_team2': [150]\n",
    "}\n",
    "\n",
    "new_df = pd.DataFrame(new_data)\n",
    "\n",
    "append_to_delta_table(new_df, delta_table_path)\n",
    "\n",
    "delta_df = pd.read_csv(delta_table_path)\n",
    "print(\"\\nDelta Table after appending new data:\")\n",
    "print(delta_df)\n"
   ]
  }
 ],
 "metadata": {
  "kernelspec": {
   "display_name": "base",
   "language": "python",
   "name": "python3"
  },
  "language_info": {
   "codemirror_mode": {
    "name": "ipython",
    "version": 3
   },
   "file_extension": ".py",
   "mimetype": "text/x-python",
   "name": "python",
   "nbconvert_exporter": "python",
   "pygments_lexer": "ipython3",
   "version": "3.12.4"
  }
 },
 "nbformat": 4,
 "nbformat_minor": 5
}
