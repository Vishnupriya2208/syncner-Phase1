{
 "cells": [
  {
   "cell_type": "code",
   "execution_count": 1,
   "id": "501710a3",
   "metadata": {},
   "outputs": [
    {
     "name": "stdout",
     "output_type": "stream",
     "text": [
      "Number of Teams: 6\n",
      "Teams: ['RCB' 'MI' 'KKR' 'CSK' 'DC' 'RR']\n",
      "\n",
      "Different Tie-Breaker Techniques Used for Tied Matches: ['Super Over']\n",
      "\n",
      "Completed Matches DataFrame:\n",
      "   match_id team1 team2 match_result  tiebreaker match_status  runs_team1  \\\n",
      "0         1   RCB    MI      RCB won        None    Completed         180   \n",
      "1         2    MI   KKR       MI won        None    Completed         175   \n",
      "2         3   CSK    DC         Tied  Super Over    Completed         160   \n",
      "3         4    RR   RCB       RR won        None    Completed         155   \n",
      "4         5    DC   CSK      CSK won        None    Completed         170   \n",
      "\n",
      "   runs_team2      venue player_of_the_match            umpires  \n",
      "0         170  Bangalore               Kohli   Umpire1, Umpire2  \n",
      "1         175     Mumbai               Rohit   Umpire3, Umpire4  \n",
      "2         160    Chennai               Dhoni   Umpire5, Umpire6  \n",
      "3         150     Jaipur               Smith   Umpire7, Umpire8  \n",
      "4         165      Delhi              Warner  Umpire9, Umpire10  \n",
      "\n",
      "DataFrame After Dropping Unnecessary Columns:\n",
      "   match_id team1 team2 match_result  tiebreaker match_status  runs_team1  \\\n",
      "0         1   RCB    MI      RCB won        None    Completed         180   \n",
      "1         2    MI   KKR       MI won        None    Completed         175   \n",
      "2         3   CSK    DC         Tied  Super Over    Completed         160   \n",
      "3         4    RR   RCB       RR won        None    Completed         155   \n",
      "4         5    DC   CSK      CSK won        None    Completed         170   \n",
      "\n",
      "   runs_team2  \n",
      "0         170  \n",
      "1         175  \n",
      "2         160  \n",
      "3         150  \n",
      "4         165  \n"
     ]
    }
   ],
   "source": [
    "import pandas as pd\n",
    "\n",
    "data = {\n",
    "    'match_id': [1, 2, 3, 4, 5],\n",
    "    'team1': ['RCB', 'MI', 'CSK', 'RR', 'DC'],\n",
    "    'team2': ['MI', 'KKR', 'DC', 'RCB', 'CSK'],\n",
    "    'match_result': ['RCB won', 'MI won', 'Tied', 'RR won', 'CSK won'],\n",
    "    'tiebreaker': [None, None, 'Super Over', None, None],\n",
    "    'match_status': ['Completed', 'Completed', 'Completed', 'Completed', 'Completed'],\n",
    "    'runs_team1': [180, 175, 160, 155, 170],\n",
    "    'runs_team2': [170, 175, 160, 150, 165],\n",
    "    'venue': ['Bangalore', 'Mumbai', 'Chennai', 'Jaipur', 'Delhi'],\n",
    "    'player_of_the_match': ['Kohli', 'Rohit', 'Dhoni', 'Smith', 'Warner'],\n",
    "    'umpires': ['Umpire1, Umpire2', 'Umpire3, Umpire4', 'Umpire5, Umpire6', 'Umpire7, Umpire8', 'Umpire9, Umpire10']\n",
    "}\n",
    "\n",
    "df = pd.DataFrame(data)\n",
    "\n",
    "teams = pd.unique(df[['team1', 'team2']].values.ravel())  \n",
    "num_teams = len(teams)\n",
    "print(f\"Number of Teams: {num_teams}\")\n",
    "print(\"Teams:\", teams)\n",
    "\n",
    "tied_matches = df[df['match_result'] == 'Tied']\n",
    "\n",
    "tie_breakers = tied_matches['tiebreaker'].dropna().unique()\n",
    "print(f\"\\nDifferent Tie-Breaker Techniques Used for Tied Matches: {tie_breakers}\")\n",
    "\n",
    "completed_matches = df[df['match_status'] == 'Completed']\n",
    "print(f\"\\nCompleted Matches DataFrame:\\n{completed_matches}\")\n",
    "\n",
    "columns_to_drop = ['umpires', 'venue', 'player_of_the_match']\n",
    "df_cleaned = df.drop(columns=columns_to_drop)\n",
    "\n",
    "print(f\"\\nDataFrame After Dropping Unnecessary Columns:\\n{df_cleaned}\")\n"
   ]
  }
 ],
 "metadata": {
  "kernelspec": {
   "display_name": "base",
   "language": "python",
   "name": "python3"
  },
  "language_info": {
   "codemirror_mode": {
    "name": "ipython",
    "version": 3
   },
   "file_extension": ".py",
   "mimetype": "text/x-python",
   "name": "python",
   "nbconvert_exporter": "python",
   "pygments_lexer": "ipython3",
   "version": "3.12.4"
  }
 },
 "nbformat": 4,
 "nbformat_minor": 5
}
