{
 "cells": [
  {
   "cell_type": "code",
   "execution_count": null,
   "metadata": {},
   "outputs": [
    {
     "name": "stdout",
     "output_type": "stream",
     "text": [
      "Z-score: 15.08\n",
      "P-value: 0.00000\n",
      "Reject H₀: Medication affects IQ, likely increasing it.\n"
     ]
    }
   ],
   "source": [
    "import numpy as np\n",
    "import statsmodels.stats.weightstats as st\n",
    "population_mean = 100 \n",
    "population_std = 15   \n",
    "sample_size = 30      \n",
    "alpha = 0.05        \n",
    "np.random.seed(42)\n",
    "sample_data = np.random.normal(loc=140, scale=15, size=sample_size)\n",
    "z_score, p_value = st.ztest(sample_data, value=population_mean, alternative='two-sided')\n",
    "print(f\"Z-score: {z_score:.2f}\")\n",
    "print(f\"P-value: {p_value:.5f}\")\n",
    "if p_value < alpha:\n",
    "    print(\"Reject H₀: Medication affects IQ, likely increasing it.\")\n",
    "else:\n",
    "    print(\"Fail to reject H₀: No significant evidence that medication affects IQ.\")\n"
   ]
  }
 ],
 "metadata": {
  "kernelspec": {
   "display_name": "base",
   "language": "python",
   "name": "python3"
  },
  "language_info": {
   "codemirror_mode": {
    "name": "ipython",
    "version": 3
   },
   "file_extension": ".py",
   "mimetype": "text/x-python",
   "name": "python",
   "nbconvert_exporter": "python",
   "pygments_lexer": "ipython3",
   "version": "3.12.4"
  }
 },
 "nbformat": 4,
 "nbformat_minor": 2
}
