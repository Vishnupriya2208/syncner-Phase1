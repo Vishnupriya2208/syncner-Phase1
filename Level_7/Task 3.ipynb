{
 "cells": [
  {
   "cell_type": "code",
   "execution_count": null,
   "metadata": {},
   "outputs": [
    {
     "name": "stdout",
     "output_type": "stream",
     "text": [
      "T-score: 11.03\n",
      "P-value: 0.0000\n",
      "Reject H₀: Medication significantly affects IQ (mean = 140 > 100).\n"
     ]
    }
   ],
   "source": [
    "import numpy as np\n",
    "import scipy.stats as stats\n",
    "pop_mean = 100 \n",
    "sample_mean = 140\n",
    "sample_std = 20 \n",
    "n = 30 \n",
    "np.random.seed(42)\n",
    "sample_data = np.random.normal(sample_mean, sample_std, n)\n",
    "t_stat, p_value = stats.ttest_1samp(sample_data, pop_mean)\n",
    "alpha = 0.05 \n",
    "print(f\"T-score: {t_stat:.2f}\")\n",
    "print(f\"P-value: {p_value:.4f}\")\n",
    "if p_value < alpha:\n",
    "    print(\"Reject H₀: Medication significantly affects IQ (mean = 140 > 100).\")\n",
    "else:\n",
    "    print(\"Fail to reject H₀: No strong evidence that medication affects IQ.\")"
   ]
  }
 ],
 "metadata": {
  "kernelspec": {
   "display_name": "base",
   "language": "python",
   "name": "python3"
  },
  "language_info": {
   "codemirror_mode": {
    "name": "ipython",
    "version": 3
   },
   "file_extension": ".py",
   "mimetype": "text/x-python",
   "name": "python",
   "nbconvert_exporter": "python",
   "pygments_lexer": "ipython3",
   "version": "3.12.4"
  }
 },
 "nbformat": 4,
 "nbformat_minor": 2
}
