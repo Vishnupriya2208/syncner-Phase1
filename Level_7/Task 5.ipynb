{
 "cells": [
  {
   "cell_type": "code",
   "execution_count": 2,
   "metadata": {},
   "outputs": [
    {
     "name": "stdout",
     "output_type": "stream",
     "text": [
      "Covariance: 45.83\n",
      "Positive covariance: As height increases, weight tends to increase.\n"
     ]
    }
   ],
   "source": [
    "import numpy as np\n",
    "height = np.array([160, 170, 180, 175])\n",
    "weight = np.array([60, 70, 75, 65])\n",
    "covariance = np.cov(height, weight, ddof=1)[0, 1]\n",
    "print(f\"Covariance: {covariance:.2f}\")\n",
    "if covariance > 0:\n",
    "    print(\"Positive covariance: As height increases, weight tends to increase.\")\n",
    "elif covariance < 0:\n",
    "    print(\"Negative covariance: As height increases, weight tends to decrease.\")\n",
    "else:\n",
    "    print(\"No significant relationship between height and weight.\")\n"
   ]
  }
 ],
 "metadata": {
  "kernelspec": {
   "display_name": "base",
   "language": "python",
   "name": "python3"
  },
  "language_info": {
   "codemirror_mode": {
    "name": "ipython",
    "version": 3
   },
   "file_extension": ".py",
   "mimetype": "text/x-python",
   "name": "python",
   "nbconvert_exporter": "python",
   "pygments_lexer": "ipython3",
   "version": "3.12.4"
  }
 },
 "nbformat": 4,
 "nbformat_minor": 2
}
