{
 "cells": [
  {
   "cell_type": "code",
   "execution_count": null,
   "metadata": {},
   "outputs": [
    {
     "name": "stdout",
     "output_type": "stream",
     "text": [
      "Simulated Probability of Success: 0.29\n",
      "Matches theoretical P = 0.3 for Bernoulli trial.\n"
     ]
    }
   ],
   "source": [
    "import numpy as np\n",
    "p_success = 0.3 \n",
    "num_trials = 1000 \n",
    "trials = np.random.binomial(n=1, p=p_success, size=num_trials)\n",
    "simulated_p = np.mean(trials)\n",
    "print(f\"Simulated Probability of Success: {simulated_p:.2f}\")\n",
    "print(\"Matches theoretical P = 0.3 for Bernoulli trial.\" if abs(simulated_p - p_success) < 0.05 else \"Deviation observed from theoretical P = 0.3.\")"
   ]
  }
 ],
 "metadata": {
  "kernelspec": {
   "display_name": "base",
   "language": "python",
   "name": "python3"
  },
  "language_info": {
   "codemirror_mode": {
    "name": "ipython",
    "version": 3
   },
   "file_extension": ".py",
   "mimetype": "text/x-python",
   "name": "python",
   "nbconvert_exporter": "python",
   "pygments_lexer": "ipython3",
   "version": "3.12.4"
  }
 },
 "nbformat": 4,
 "nbformat_minor": 2
}
