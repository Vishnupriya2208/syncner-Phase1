{
 "cells": [
  {
   "cell_type": "code",
   "execution_count": 2,
   "metadata": {},
   "outputs": [
    {
     "name": "stdout",
     "output_type": "stream",
     "text": [
      "Z-score: 3.79\n",
      "P-value: 0.0001\n",
      "Reject H₀: The new teaching method significantly improves test scores.\n"
     ]
    }
   ],
   "source": [
    "import numpy as np\n",
    "import statsmodels.stats.weightstats as st\n",
    "\n",
    "# Given data\n",
    "mean_traditional = 75\n",
    "std_traditional = 10\n",
    "n_traditional = 40\n",
    "\n",
    "mean_new = 82\n",
    "std_new = 12\n",
    "n_new = 35\n",
    "\n",
    "# Generate random samples (optional, for simulation purposes)\n",
    "np.random.seed(42)\n",
    "traditional_scores = np.random.normal(mean_traditional, std_traditional, n_traditional)\n",
    "new_method_scores = np.random.normal(mean_new, std_new, n_new)\n",
    "\n",
    "# Perform two-sample Z-test\n",
    "z_stat, p_value = st.ztest(new_method_scores, traditional_scores, alternative='larger')\n",
    "\n",
    "# Significance level\n",
    "alpha = 0.05\n",
    "\n",
    "# Output results\n",
    "print(f\"Z-score: {z_stat:.2f}\")\n",
    "print(f\"P-value: {p_value:.4f}\")\n",
    "if p_value < alpha:\n",
    "    print(\"Reject H₀: The new teaching method significantly improves test scores.\")\n",
    "else:\n",
    "    print(\"Fail to reject H₀: No strong evidence that the new method improves scores.\")"
   ]
  }
 ],
 "metadata": {
  "kernelspec": {
   "display_name": "base",
   "language": "python",
   "name": "python3"
  },
  "language_info": {
   "codemirror_mode": {
    "name": "ipython",
    "version": 3
   },
   "file_extension": ".py",
   "mimetype": "text/x-python",
   "name": "python",
   "nbconvert_exporter": "python",
   "pygments_lexer": "ipython3",
   "version": "3.12.4"
  }
 },
 "nbformat": 4,
 "nbformat_minor": 2
}
