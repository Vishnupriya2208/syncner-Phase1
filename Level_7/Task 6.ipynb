{
 "cells": [
  {
   "cell_type": "code",
   "execution_count": null,
   "metadata": {},
   "outputs": [
    {
     "name": "stdout",
     "output_type": "stream",
     "text": [
      "Pearson Correlation: 0.83\n",
      "Spearman Correlation: 0.80\n",
      "Both show a positive correlation; Pearson is higher due to a near-linear relationship.\n"
     ]
    }
   ],
   "source": [
    "import numpy as np\n",
    "import scipy.stats as stats\n",
    "height = np.array([160, 170, 180, 175])\n",
    "weight = np.array([60, 70, 75, 65])\n",
    "pearson_corr, pearson_p = stats.pearsonr(height, weight)\n",
    "spearman_corr, spearman_p = stats.spearmanr(height, weight)\n",
    "print(f\"Pearson Correlation: {pearson_corr:.2f}\")\n",
    "print(f\"Spearman Correlation: {spearman_corr:.2f}\")\n",
    "if pearson_corr > spearman_corr:\n",
    "    print(\"Both show a positive correlation; Pearson is higher due to a near-linear relationship.\")\n",
    "elif pearson_corr < spearman_corr:\n",
    "    print(\"Spearman correlation is higher, suggesting a stronger monotonic but non-linear relationship.\")\n",
    "else:\n",
    "    print(\"Pearson and Spearman correlations are equal, indicating both linear and monotonic relationships are strong.\")\n"
   ]
  }
 ],
 "metadata": {
  "kernelspec": {
   "display_name": "base",
   "language": "python",
   "name": "python3"
  },
  "language_info": {
   "codemirror_mode": {
    "name": "ipython",
    "version": 3
   },
   "file_extension": ".py",
   "mimetype": "text/x-python",
   "name": "python",
   "nbconvert_exporter": "python",
   "pygments_lexer": "ipython3",
   "version": "3.12.4"
  }
 },
 "nbformat": 4,
 "nbformat_minor": 2
}
