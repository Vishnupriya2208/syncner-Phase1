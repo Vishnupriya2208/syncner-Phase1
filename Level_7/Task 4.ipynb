{
 "cells": [
  {
   "cell_type": "code",
   "execution_count": 1,
   "metadata": {},
   "outputs": [
    {
     "name": "stdout",
     "output_type": "stream",
     "text": [
      "Chi-Square Statistic: 232.49\n",
      "P-value: 0.00000\n",
      "Reject H₀: Age distribution has changed from 2000 to 2010.\n"
     ]
    }
   ],
   "source": [
    "import scipy.stats as stats\n",
    "observed = [121, 288, 91]  \n",
    "expected = [100, 150, 250]\n",
    "chi2_stat, p_value = stats.chisquare(f_obs=observed, f_exp=expected)\n",
    "print(f\"Chi-Square Statistic: {chi2_stat:.2f}\")\n",
    "print(f\"P-value: {p_value:.5f}\")\n",
    "alpha = 0.05\n",
    "if p_value < alpha:\n",
    "    print(\"Reject H₀: Age distribution has changed from 2000 to 2010.\")\n",
    "else:\n",
    "    print(\"Fail to reject H₀: No significant change in age distribution.\")\n"
   ]
  }
 ],
 "metadata": {
  "kernelspec": {
   "display_name": "base",
   "language": "python",
   "name": "python3"
  },
  "language_info": {
   "codemirror_mode": {
    "name": "ipython",
    "version": 3
   },
   "file_extension": ".py",
   "mimetype": "text/x-python",
   "name": "python",
   "nbconvert_exporter": "python",
   "pygments_lexer": "ipython3",
   "version": "3.12.4"
  }
 },
 "nbformat": 4,
 "nbformat_minor": 2
}
