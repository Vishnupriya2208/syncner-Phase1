{
 "cells": [
  {
   "cell_type": "code",
   "execution_count": 1,
   "metadata": {},
   "outputs": [
    {
     "name": "stdout",
     "output_type": "stream",
     "text": [
      "Requirement already satisfied: pandas in c:\\users\\sures\\onedrive\\desktop\\python data analyst\\venv\\lib\\site-packages (2.2.3)Note: you may need to restart the kernel to use updated packages.\n",
      "\n",
      "Requirement already satisfied: numpy>=1.26.0 in c:\\users\\sures\\onedrive\\desktop\\python data analyst\\venv\\lib\\site-packages (from pandas) (2.2.3)\n",
      "Requirement already satisfied: python-dateutil>=2.8.2 in c:\\users\\sures\\onedrive\\desktop\\python data analyst\\venv\\lib\\site-packages (from pandas) (2.9.0.post0)\n",
      "Requirement already satisfied: pytz>=2020.1 in c:\\users\\sures\\onedrive\\desktop\\python data analyst\\venv\\lib\\site-packages (from pandas) (2025.1)\n",
      "Requirement already satisfied: tzdata>=2022.7 in c:\\users\\sures\\onedrive\\desktop\\python data analyst\\venv\\lib\\site-packages (from pandas) (2025.1)\n",
      "Requirement already satisfied: six>=1.5 in c:\\users\\sures\\onedrive\\desktop\\python data analyst\\venv\\lib\\site-packages (from python-dateutil>=2.8.2->pandas) (1.17.0)\n"
     ]
    }
   ],
   "source": [
    "pip install pandas\n"
   ]
  },
  {
   "cell_type": "code",
   "execution_count": 9,
   "metadata": {},
   "outputs": [
    {
     "name": "stdout",
     "output_type": "stream",
     "text": [
      "Collecting scikit-learn\n",
      "  Using cached scikit_learn-1.6.1-cp312-cp312-win_amd64.whl.metadata (15 kB)\n",
      "Requirement already satisfied: numpy>=1.19.5 in c:\\users\\sures\\onedrive\\desktop\\python data analyst\\venv\\lib\\site-packages (from scikit-learn) (2.2.3)\n",
      "Requirement already satisfied: scipy>=1.6.0 in c:\\users\\sures\\onedrive\\desktop\\python data analyst\\venv\\lib\\site-packages (from scikit-learn) (1.15.2)\n",
      "Collecting joblib>=1.2.0 (from scikit-learn)\n",
      "  Using cached joblib-1.4.2-py3-none-any.whl.metadata (5.4 kB)\n",
      "Requirement already satisfied: threadpoolctl>=3.1.0 in c:\\users\\sures\\onedrive\\desktop\\python data analyst\\venv\\lib\\site-packages (from scikit-learn) (3.5.0)\n",
      "Using cached scikit_learn-1.6.1-cp312-cp312-win_amd64.whl (11.1 MB)\n",
      "Using cached joblib-1.4.2-py3-none-any.whl (301 kB)\n",
      "Installing collected packages: joblib, scikit-learn\n",
      "Successfully installed joblib-1.4.2 scikit-learn-1.6.1\n",
      "Note: you may need to restart the kernel to use updated packages.\n"
     ]
    }
   ],
   "source": [
    "pip install scikit-learn"
   ]
  },
  {
   "cell_type": "code",
   "execution_count": null,
   "metadata": {},
   "outputs": [
    {
     "name": "stdout",
     "output_type": "stream",
     "text": [
      "           Bowler        Batter    Ball Type Shot Type Speed (kph) Runs Scored\n",
      "0  Jasprit Bumrah   Virat Kohli  good length    single        None        None\n",
      "1  Mitchell Starc  Rohit Sharma       yorker      four         145        None\n",
      "2     Pat Cummins      KL Rahul   short ball       six        None        None\n",
      "3     Rashid Khan      MS Dhoni    full toss    double        None        None\n",
      "\n",
      "Count Vectorizer Output:\n",
      "    145  at  ball  bumrah  cummins  dhoni  double  driven  flicked  for  ...  \\\n",
      "0    0   0     1       1        0      0       0       0        0    1  ...   \n",
      "1    1   1     0       0        0      0       0       1        0    1  ...   \n",
      "2    0   0     1       0        1      0       0       0        0    1  ...   \n",
      "3    0   0     0       0        0      1       1       0        1    1  ...   \n",
      "\n",
      "   runs  sharma  short  single  six  starc  to  toss  virat  yorker  \n",
      "0     0       0      0       1    0      0   1     0      1       0  \n",
      "1     1       1      0       0    0      1   1     0      0       1  \n",
      "2     0       0      1       0    1      0   1     0      0       0  \n",
      "3     0       0      0       0    0      0   1     1      0       0  \n",
      "\n",
      "[4 rows x 37 columns]\n",
      "\n",
      "TF-IDF Vectorizer Output:\n",
      "         145        at      ball    bumrah   cummins   dhoni  double    driven  \\\n",
      "0  0.000000  0.000000  0.260410  0.330297  0.000000  0.0000  0.0000  0.000000   \n",
      "1  0.294313  0.294313  0.000000  0.000000  0.000000  0.0000  0.0000  0.294313   \n",
      "2  0.000000  0.000000  0.275894  0.000000  0.349936  0.0000  0.0000  0.000000   \n",
      "3  0.000000  0.000000  0.000000  0.000000  0.000000  0.3421  0.3421  0.000000   \n",
      "\n",
      "   flicked       for  ...      runs    sharma     short    single       six  \\\n",
      "0   0.0000  0.172363  ...  0.000000  0.000000  0.000000  0.330297  0.000000   \n",
      "1   0.0000  0.153585  ...  0.294313  0.294313  0.000000  0.000000  0.000000   \n",
      "2   0.0000  0.182611  ...  0.000000  0.000000  0.349936  0.000000  0.349936   \n",
      "3   0.3421  0.178522  ...  0.000000  0.000000  0.000000  0.000000  0.000000   \n",
      "\n",
      "      starc        to    toss     virat    yorker  \n",
      "0  0.000000  0.172363  0.0000  0.330297  0.000000  \n",
      "1  0.294313  0.153585  0.0000  0.000000  0.294313  \n",
      "2  0.000000  0.182611  0.0000  0.000000  0.000000  \n",
      "3  0.000000  0.178522  0.3421  0.000000  0.000000  \n",
      "\n",
      "[4 rows x 37 columns]\n"
     ]
    }
   ],
   "source": [
    "import re\n",
    "import pandas as pd\n",
    "from sklearn.feature_extraction.text import CountVectorizer, TfidfVectorizer\n",
    "\n",
    "def extract_info(commentary):\n",
    "    bowler_pattern = r'([A-Za-z]+\\s[A-Za-z]+) to'\n",
    "    batter_pattern = r'to ([A-Za-z]+\\s[A-Za-z]+)'\n",
    "    ball_type_pattern = r'\\b(yorker|bouncer|full toss|good length|short ball)\\b'\n",
    "    shot_type_pattern = r'\\b(boundary|six|four|single|double|triple)\\b'\n",
    "    speed_pattern = r'\\b(\\d{2,3})\\s?kph\\b'\n",
    "    runs_pattern = r'\\b(\\d+) runs?\\b'\n",
    "    \n",
    "    bowler = re.search(bowler_pattern, commentary)\n",
    "    batter = re.search(batter_pattern, commentary)\n",
    "    ball_type = re.search(ball_type_pattern, commentary, re.IGNORECASE)\n",
    "    shot_type = re.search(shot_type_pattern, commentary, re.IGNORECASE)\n",
    "    speed = re.search(speed_pattern, commentary)\n",
    "    runs = re.search(runs_pattern, commentary)\n",
    "    \n",
    "    return {\n",
    "        \"Bowler\": bowler.group(1) if bowler else None,\n",
    "        \"Batter\": batter.group(1) if batter else None,\n",
    "        \"Ball Type\": ball_type.group(1) if ball_type else None,\n",
    "        \"Shot Type\": shot_type.group(1) if shot_type else None,\n",
    "        \"Speed (kph)\": speed.group(1) if speed else None,\n",
    "        \"Runs Scored\": runs.group(1) if runs else None\n",
    "    }\n",
    "\n",
    "\n",
    "commentary_data = [\n",
    "    \"Jasprit Bumrah to Virat Kohli, good length ball, played for a single.\",\n",
    "    \"Mitchell Starc to Rohit Sharma, yorker at 145 kph, driven for four runs!\",\n",
    "    \"Pat Cummins to KL Rahul, short ball, pulled for a six!\",\n",
    "    \"Rashid Khan to MS Dhoni, full toss, flicked for a double.\"\n",
    "]\n",
    "\n",
    "\n",
    "data = [extract_info(comment) for comment in commentary_data]\n",
    "\n",
    "\n",
    "df = pd.DataFrame(data)\n",
    "print(df)\n",
    "\n",
    "count_vectorizer = CountVectorizer()\n",
    "tfidf_vectorizer = TfidfVectorizer()\n",
    "\n",
    "\n",
    "count_matrix = count_vectorizer.fit_transform(commentary_data)\n",
    "tfidf_matrix = tfidf_vectorizer.fit_transform(commentary_data)\n",
    "\n",
    "\n",
    "count_df = pd.DataFrame(count_matrix.toarray(), columns=count_vectorizer.get_feature_names_out())\n",
    "tfidf_df = pd.DataFrame(tfidf_matrix.toarray(), columns=tfidf_vectorizer.get_feature_names_out())\n",
    "\n",
    "print(\"\\nCount Vectorizer Output:\\n\", count_df)\n",
    "print(\"\\nTF-IDF Vectorizer Output:\\n\", tfidf_df)"
   ]
  }
 ],
 "metadata": {
  "kernelspec": {
   "display_name": "Python 3",
   "language": "python",
   "name": "python3"
  },
  "language_info": {
   "codemirror_mode": {
    "name": "ipython",
    "version": 3
   },
   "file_extension": ".py",
   "mimetype": "text/x-python",
   "name": "python",
   "nbconvert_exporter": "python",
   "pygments_lexer": "ipython3",
   "version": "3.12.0"
  }
 },
 "nbformat": 4,
 "nbformat_minor": 2
}
