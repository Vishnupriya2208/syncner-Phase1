{
 "cells": [
  {
   "cell_type": "code",
   "execution_count": 2,
   "metadata": {},
   "outputs": [
    {
     "name": "stdout",
     "output_type": "stream",
     "text": [
      "Income: $4200, Expenses: $2200, Balance: $2000\n"
     ]
    }
   ],
   "source": [
    "\n",
    "income = {\n",
    "    \"Salary\": 3000,\n",
    "    \"Freelance\": 1200\n",
    "}\n",
    "expenses = {\n",
    "    \"Rent\": 1200,\n",
    "    \"Food\": 500,\n",
    "    \"Utilities\": 300,\n",
    "    \"Transport\": 200\n",
    "}\n",
    "def calculate_total_income(income_dict):\n",
    "    return sum(income_dict.values())\n",
    "def calculate_total_expenses(expense_dict):\n",
    "    return sum(expense_dict.values())\n",
    "total_income = calculate_total_income(income)\n",
    "total_expenses = calculate_total_expenses(expenses)\n",
    "balance = total_income - total_expenses\n",
    "print(f\"Income: ${total_income}, Expenses: ${total_expenses}, Balance: ${balance}\")\n"
   ]
  }
 ],
 "metadata": {
  "kernelspec": {
   "display_name": "base",
   "language": "python",
   "name": "python3"
  },
  "language_info": {
   "codemirror_mode": {
    "name": "ipython",
    "version": 3
   },
   "file_extension": ".py",
   "mimetype": "text/x-python",
   "name": "python",
   "nbconvert_exporter": "python",
   "pygments_lexer": "ipython3",
   "version": "3.12.4"
  }
 },
 "nbformat": 4,
 "nbformat_minor": 2
}
