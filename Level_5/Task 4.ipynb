{
 "cells": [
  {
   "cell_type": "code",
   "execution_count": null,
   "metadata": {},
   "outputs": [
    {
     "name": "stdout",
     "output_type": "stream",
     "text": [
      "Error processing data1.csv: [Errno 2] No such file or directory: 'data1.csv'\n",
      "Error processing data2.csv: [Errno 2] No such file or directory: 'data2.csv'\n",
      "\n",
      "Processing complete. Check 'processing.log' for details.\n"
     ]
    }
   ],
   "source": [
    "import pandas as pd  \n",
    "import threading \n",
    "import logging  \n",
    "from dataclasses import dataclass \n",
    "logging.basicConfig(filename=\"processing.log\", level=logging.INFO, format=\"%(asctime)s - %(message)s\")\n",
    "@dataclass\n",
    "class CSVProcessor:\n",
    "    filename: str\n",
    "\n",
    "    def process(self, column: str):\n",
    "        \"\"\"Reads CSV and calculates mean of the specified column.\"\"\"\n",
    "        logging.info(f\"Started processing {self.filename}\")\n",
    "        \n",
    "        try:\n",
    "            df = pd.read_csv(self.filename)\n",
    "            mean_value = df[column].mean()\n",
    "            logging.info(f\"Completed processing {self.filename}, Mean: {mean_value:.2f}\")\n",
    "            print(f\"Mean of {column} in {self.filename}: {mean_value:.2f}\")\n",
    "        except Exception as e:\n",
    "            logging.error(f\"Error processing {self.filename}: {e}\")\n",
    "            print(f\"Error processing {self.filename}: {e}\")\n",
    "processor1 = CSVProcessor(\"data1.csv\")\n",
    "processor2 = CSVProcessor(\"data2.csv\")\n",
    "thread1 = threading.Thread(target=processor1.process, args=(\"Value\",))\n",
    "thread2 = threading.Thread(target=processor2.process, args=(\"Value\",))\n",
    "thread1.start()\n",
    "thread2.start()\n",
    "thread1.join()\n",
    "thread2.join()\n",
    "print(\"\\nProcessing complete. Check 'processing.log' for details.\")\n"
   ]
  }
 ],
 "metadata": {
  "kernelspec": {
   "display_name": "base",
   "language": "python",
   "name": "python3"
  },
  "language_info": {
   "codemirror_mode": {
    "name": "ipython",
    "version": 3
   },
   "file_extension": ".py",
   "mimetype": "text/x-python",
   "name": "python",
   "nbconvert_exporter": "python",
   "pygments_lexer": "ipython3",
   "version": "3.12.4"
  }
 },
 "nbformat": 4,
 "nbformat_minor": 2
}
