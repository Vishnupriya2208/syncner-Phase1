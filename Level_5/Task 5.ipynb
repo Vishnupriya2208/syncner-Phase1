{
 "cells": [
  {
   "cell_type": "code",
   "execution_count": 1,
   "metadata": {},
   "outputs": [
    {
     "name": "stdout",
     "output_type": "stream",
     "text": [
      " House Price Statistics:\n",
      "Mean: 4766729.247706422\n",
      "Max: 13300000\n",
      "Min: 1750000\n",
      "\n",
      " House Price Statistics:\n",
      "Mean: 4766729.247706422\n",
      "Max: 13300000\n",
      "Min: 1750000\n"
     ]
    },
    {
     "data": {
      "image/png": "[encoded data removed]",
      "text/plain": [
       "<Figure size 800x500 with 1 Axes>"
      ]
     },
     "metadata": {},
     "output_type": "display_data"
    },
    {
     "name": "stdout",
     "output_type": "stream",
     "text": [
      "Exiting dashboard...\n"
     ]
    }
   ],
   "source": [
    "import threading\n",
    "import logging\n",
    "import pandas as pd\n",
    "import matplotlib.pyplot as plt\n",
    "from dataclasses import dataclass\n",
    "logging.basicConfig(filename=\"data_processing.log\", level=logging.INFO, format=\"%(asctime)s - %(message)s\")\n",
    "@dataclass\n",
    "class DatasetStats:\n",
    "    mean: float\n",
    "    max_value: float\n",
    "    min_value: float\n",
    "\n",
    "    def plot_histogram(self, column, df):\n",
    "        \"\"\"Plots a histogram of a specified column.\"\"\"\n",
    "        plt.figure(figsize=(8, 5))\n",
    "        plt.hist(df[column], bins=20, color='blue', alpha=0.7)\n",
    "        plt.xlabel(column.capitalize())\n",
    "        plt.ylabel(\"Frequency\")\n",
    "        plt.title(f\"Histogram of {column.capitalize()}\")\n",
    "        plt.grid(True)\n",
    "        plt.show()\n",
    "def process_file(file_path, column):\n",
    "    logging.info(f\"Starting processing for {file_path}\")\n",
    "    df = pd.read_csv(file_path)\n",
    "    \n",
    "    if column not in df.columns:\n",
    "        logging.error(f\"Column '{column}' not found in {file_path}\")\n",
    "        return None\n",
    "    \n",
    "    mean_value = df[column].mean()\n",
    "    max_value = df[column].max()\n",
    "    min_value = df[column].min()\n",
    "\n",
    "    logging.info(f\"Completed processing for {file_path}\")\n",
    "    \n",
    "    return DatasetStats(mean_value, max_value, min_value), df\n",
    "file_path = \"C:\\\\Users\\\\sures\\\\OneDrive\\\\Desktop\\\\P1L5\\\\Housing_Price_Data.csv\"\n",
    "column_name = \"price\"\n",
    "thread = threading.Thread(target=process_file, args=(file_path, column_name))\n",
    "thread.start()\n",
    "thread.join()\n",
    "stats, df = process_file(file_path, column_name)\n",
    "print(f\" House Price Statistics:\\nMean: {stats.mean}\\nMax: {stats.max_value}\\nMin: {stats.min_value}\")\n",
    "while True:\n",
    "    user_input = input(\"\\nType 'stats' to view statistics or 'plot' to see a histogram of prices (or 'exit' to quit): \").strip().lower()\n",
    "    if user_input == \"stats\":\n",
    "        print(f\"\\n House Price Statistics:\\nMean: {stats.mean}\\nMax: {stats.max_value}\\nMin: {stats.min_value}\")\n",
    "    elif user_input == \"plot\":\n",
    "        stats.plot_histogram(column_name, df)\n",
    "    elif user_input == \"exit\":\n",
    "        print(\"Exiting dashboard...\")\n",
    "        break\n",
    "    else:\n",
    "        print(\"Invalid input. Please type 'stats', 'plot', or 'exit'.\")"
   ]
  }
 ],
 "metadata": {
  "kernelspec": {
   "display_name": "base",
   "language": "python",
   "name": "python3"
  },
  "language_info": {
   "codemirror_mode": {
    "name": "ipython",
    "version": 3
   },
   "file_extension": ".py",
   "mimetype": "text/x-python",
   "name": "python",
   "nbconvert_exporter": "python",
   "pygments_lexer": "ipython3",
   "version": "3.12.4"
  }
 },
 "nbformat": 4,
 "nbformat_minor": 2
}
