{
 "cells": [
  {
   "cell_type": "code",
   "execution_count": 1,
   "metadata": {},
   "outputs": [
    {
     "name": "stdout",
     "output_type": "stream",
     "text": [
      "Requirement already satisfied: pandas in c:\\users\\sures\\anaconda3\\lib\\site-packages (2.2.2)\n",
      "Requirement already satisfied: numpy>=1.26.0 in c:\\users\\sures\\anaconda3\\lib\\site-packages (from pandas) (1.26.4)\n",
      "Requirement already satisfied: python-dateutil>=2.8.2 in c:\\users\\sures\\anaconda3\\lib\\site-packages (from pandas) (2.9.0.post0)\n",
      "Requirement already satisfied: pytz>=2020.1 in c:\\users\\sures\\anaconda3\\lib\\site-packages (from pandas) (2024.1)\n",
      "Requirement already satisfied: tzdata>=2022.7 in c:\\users\\sures\\anaconda3\\lib\\site-packages (from pandas) (2023.3)\n",
      "Requirement already satisfied: six>=1.5 in c:\\users\\sures\\anaconda3\\lib\\site-packages (from python-dateutil>=2.8.2->pandas) (1.16.0)\n",
      "Note: you may need to restart the kernel to use updated packages.\n"
     ]
    }
   ],
   "source": [
    "pip install pandas"
   ]
  },
  {
   "cell_type": "code",
   "execution_count": null,
   "metadata": {},
   "outputs": [
    {
     "name": "stdout",
     "output_type": "stream",
     "text": [
      "DataFrame Head:\n",
      "        Team   Opponent Format   Ground  Year  Toss Selection  Run Scored  \\\n",
      "0   Pakistan  Sri Lanka    ODI  Sharjah  1984  Lose   Batting       187.0   \n",
      "1  Sri Lanka   Pakistan    ODI  Sharjah  1984   Win   Bowling       190.0   \n",
      "2      India  Sri Lanka    ODI  Sharjah  1984   Win   Bowling        97.0   \n",
      "3  Sri Lanka      India    ODI  Sharjah  1984  Lose   Batting        96.0   \n",
      "4      India   Pakistan    ODI  Sharjah  1984   Win   Batting       188.0   \n",
      "\n",
      "   Wicket Lost  Fours  Sixes  Extras  Run Rate  Avg Bat Strike Rate  \\\n",
      "0          9.0    9.0    3.0    21.0      4.06                52.04   \n",
      "1          5.0   11.0    1.0    26.0      4.36                68.51   \n",
      "2          0.0    9.0    0.0    14.0      4.47                60.48   \n",
      "3         10.0    7.0    0.0     8.0      2.34                25.74   \n",
      "4          4.0   13.0    3.0    17.0      4.08                60.21   \n",
      "\n",
      "   Highest Score  Wicket Taken  Given Extras  Highest Individual wicket  \\\n",
      "0           47.0           5.0          26.0                        2.0   \n",
      "1           57.0           9.0          21.0                        3.0   \n",
      "2           51.0          10.0           8.0                        3.0   \n",
      "3           38.0           0.0          14.0                        0.0   \n",
      "4           56.0          10.0           5.0                        3.0   \n",
      "\n",
      "  Player Of The Match Result  \n",
      "0            Roy Dias   Lose  \n",
      "1            Roy Dias    Win  \n",
      "2     Surinder Khanna    Win  \n",
      "3     Surinder Khanna   Lose  \n",
      "4     Surinder Khanna    Win  \n",
      "\n",
      "DataFrame Info:\n",
      "<class 'pandas.core.frame.DataFrame'>\n",
      "RangeIndex: 254 entries, 0 to 253\n",
      "Data columns (total 20 columns):\n",
      " #   Column                     Non-Null Count  Dtype  \n",
      "---  ------                     --------------  -----  \n",
      " 0   Team                       254 non-null    object \n",
      " 1   Opponent                   254 non-null    object \n",
      " 2   Format                     254 non-null    object \n",
      " 3   Ground                     254 non-null    object \n",
      " 4   Year                       254 non-null    int64  \n",
      " 5   Toss                       254 non-null    object \n",
      " 6   Selection                  254 non-null    object \n",
      " 7   Run Scored                 252 non-null    float64\n",
      " 8   Wicket Lost                252 non-null    float64\n",
      " 9   Fours                      252 non-null    float64\n",
      " 10  Sixes                      252 non-null    float64\n",
      " 11  Extras                     252 non-null    float64\n",
      " 12  Run Rate                   252 non-null    float64\n",
      " 13  Avg Bat Strike Rate        252 non-null    float64\n",
      " 14  Highest Score              252 non-null    float64\n",
      " 15  Wicket Taken               252 non-null    float64\n",
      " 16  Given Extras               252 non-null    float64\n",
      " 17  Highest Individual wicket  252 non-null    float64\n",
      " 18  Player Of The Match        252 non-null    object \n",
      " 19  Result                     254 non-null    object \n",
      "dtypes: float64(11), int64(1), object(8)\n",
      "memory usage: 39.8+ KB\n",
      "None\n"
     ]
    }
   ],
   "source": [
    "import pandas as pd\n",
    "df = pd.read_csv(\"C:\\\\Users\\\\sures\\\\OneDrive\\\\Desktop\\\\P1L1\\\\asiacup.csv\")\n",
    "print(\"DataFrame Head:\")\n",
    "print(df.head())\n",
    "print(\"\\nDataFrame Info:\")\n",
    "print(df.info())\n"
   ]
  }
 ],
 "metadata": {
  "kernelspec": {
   "display_name": "base",
   "language": "python",
   "name": "python3"
  },
  "language_info": {
   "codemirror_mode": {
    "name": "ipython",
    "version": 3
   },
   "file_extension": ".py",
   "mimetype": "text/x-python",
   "name": "python",
   "nbconvert_exporter": "python",
   "pygments_lexer": "ipython3",
   "version": "3.12.4"
  }
 },
 "nbformat": 4,
 "nbformat_minor": 2
}
