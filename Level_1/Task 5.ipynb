{
 "cells": [
  {
   "cell_type": "code",
   "execution_count": 1,
   "metadata": {},
   "outputs": [
    {
     "name": "stdout",
     "output_type": "stream",
     "text": [
      "Sum: [[ 6  8]\n",
      " [10 12]]\n",
      "Dot Product: [[19 22]\n",
      " [43 50]]\n",
      "Element-wise Multiplication: [[ 5 12]\n",
      " [21 32]]\n",
      "Matrix Multiplication: [[19 22]\n",
      " [43 50]]\n"
     ]
    }
   ],
   "source": [
    "import numpy as np\n",
    "A = np.array([[1, 2], [3, 4]])\n",
    "B = np.array([[5, 6], [7, 8]])\n",
    "sum_matrix = A + B\n",
    "dot_product = np.dot(A, B)\n",
    "elementwise_multiplication = A * B\n",
    "matrix_multiplication = A @ B\n",
    "print(\"Sum:\", sum_matrix)\n",
    "print(\"Dot Product:\", dot_product)\n",
    "print(\"Element-wise Multiplication:\", elementwise_multiplication)\n",
    "print(\"Matrix Multiplication:\", matrix_multiplication)"
   ]
  }
 ],
 "metadata": {
  "kernelspec": {
   "display_name": "base",
   "language": "python",
   "name": "python3"
  },
  "language_info": {
   "codemirror_mode": {
    "name": "ipython",
    "version": 3
   },
   "file_extension": ".py",
   "mimetype": "text/x-python",
   "name": "python",
   "nbconvert_exporter": "python",
   "pygments_lexer": "ipython3",
   "version": "3.12.4"
  }
 },
 "nbformat": 4,
 "nbformat_minor": 2
}
