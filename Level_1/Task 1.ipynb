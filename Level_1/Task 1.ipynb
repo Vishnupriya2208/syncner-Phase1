{
 "cells": [
  {
   "cell_type": "code",
   "execution_count": 1,
   "metadata": {},
   "outputs": [
    {
     "name": "stdout",
     "output_type": "stream",
     "text": [
      "Modified List: [1, 2, 3, 4, 5]\n",
      "Modified Set: {2, 4, 6, 8, 10}\n",
      "Modified Tuple: (1, 5, 3, 7)\n",
      "Modified Dictionary: {'a': 1, 'b': 2, 'c': 3}\n"
     ]
    }
   ],
   "source": [
    "my_list = [1, 2, 3, 4]\n",
    "my_list.append(5) \n",
    "print(\"Modified List:\", my_list)\n",
    "my_set = {4,6,8,2}\n",
    "my_set.add(10)    \n",
    "print(\"Modified Set:\", my_set)\n",
    "my_tuple = (1, 5, 3, 7)\n",
    "print(\"Modified Tuple:\", my_tuple)\n",
    "my_dict = {\"a\": 1, \"b\": 2,}\n",
    "my_dict[\"c\"] = 3\n",
    "print(\"Modified Dictionary:\", my_dict)\n",
    "\n",
    "\n"
   ]
  }
 ],
 "metadata": {
  "kernelspec": {
   "display_name": "base",
   "language": "python",
   "name": "python3"
  },
  "language_info": {
   "codemirror_mode": {
    "name": "ipython",
    "version": 3
   },
   "file_extension": ".py",
   "mimetype": "text/x-python",
   "name": "python",
   "nbconvert_exporter": "python",
   "pygments_lexer": "ipython3",
   "version": "3.12.4"
  }
 },
 "nbformat": 4,
 "nbformat_minor": 2
}
