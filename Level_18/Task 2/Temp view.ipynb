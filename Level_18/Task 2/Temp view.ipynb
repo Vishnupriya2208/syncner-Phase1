{
 "cells": [
  {
   "cell_type": "code",
   "execution_count": 0,
   "metadata": {
    "application/vnd.databricks.v1+cell": {
     "cellMetadata": {
      "byteLimit": 2048000,
      "rowLimit": 10000
     },
     "inputWidgets": {},
     "nuid": "5a8adc88-40cb-4d18-aa60-db12dc84a92a",
     "showTitle": false,
     "tableResultSettingsMap": {},
     "title": ""
    }
   },
   "outputs": [],
   "source": [
    "df1 = spark.read.format(\"csv\").option(\"header\", \"true\").load(\"dbfs:/FileStore/shared_uploads/vishnupriyarajaraman22@gmail.com/cricket_data-2.csv\")"
   ]
  },
  {
   "cell_type": "code",
   "execution_count": 0,
   "metadata": {
    "application/vnd.databricks.v1+cell": {
     "cellMetadata": {
      "byteLimit": 2048000,
      "rowLimit": 10000
     },
     "inputWidgets": {},
     "nuid": "3f501b09-bf36-46d2-bd2d-793050abaeb3",
     "showTitle": false,
     "tableResultSettingsMap": {},
     "title": ""
    }
   },
   "outputs": [],
   "source": [
    "df1.createOrReplaceTempView(\"commentary_view\")\n"
   ]
  },
  {
   "cell_type": "code",
   "execution_count": 0,
   "metadata": {
    "application/vnd.databricks.v1+cell": {
     "cellMetadata": {
      "byteLimit": 2048000,
      "implicitDf": true,
      "rowLimit": 10000
     },
     "inputWidgets": {},
     "nuid": "001c0cb5-6c42-499f-8870-7b1e2a8347fa",
     "showTitle": false,
     "tableResultSettingsMap": {},
     "title": ""
    }
   },
   "outputs": [
    {
     "output_type": "display_data",
     "data": {
      "text/html": [
       "<style scoped>\n",
       "  .table-result-container {\n",
       "    max-height: 300px;\n",
       "    overflow: auto;\n",
       "  }\n",
       "  table, th, td {\n",
       "    border: 1px solid black;\n",
       "    border-collapse: collapse;\n",
       "  }\n",
       "  th, td {\n",
       "    padding: 5px;\n",
       "  }\n",
       "  th {\n",
       "    text-align: left;\n",
       "  }\n",
       "</style><div class='table-result-container'><table class='table-result'><thead style='background-color: white'><tr><th>match</th><th>ball</th><th>commentry</th></tr></thead><tbody><tr><td>ENGLAND vs NEW ZEALAND</td><td>36.2</td><td>36.2 Moeen Ali to Ravindra, 1 run, clipped away past mid-wicket and that's some thrashing handed to England by New Zealand</td></tr><tr><td>ENGLAND vs NEW ZEALAND</td><td>36.1</td><td>36.1 Moeen Ali to Conway, 1 run, shortish delivery down leg, flicked to deep mid-wicket. Scores level!</td></tr><tr><td>ENGLAND vs NEW ZEALAND</td><td>35.6</td><td>35.6 Livingstone to Ravindra, FOUR, short and down leg, Ravindra pulls this fine, beats short fine leg and they are just one hit away now</td></tr><tr><td>BANGLADESH vs AFGHANISTAN</td><td>34.4</td><td>34.4Naveen-ul-Haq to Shanto, FOUR, Shanto hits the winning runs! Was a length delivery outside off and Shanto smashes this towards mid-off. The fielder stationed there fails to stop the ball and that's four more. A lot of brute force on that shot. Handshakes between the players as we have an early finish..</td></tr><tr><td>ENGLAND vs NEW ZEALAND</td><td>35.5</td><td>35.5 Livingstone to Conway, 1 run, misfield at mid-off and they get a run</td></tr><tr><td>ENGLAND vs NEW ZEALAND</td><td>35.4</td><td>35.4 Livingstone to Conway, FOUR, four more! 150 now for Devon Conway! Short and on the stumps. Conway rocks back and pulls, deep backward square leg had no chance. Gets a hug from his partner for this outstanding innings</td></tr><tr><td>BANGLADESH vs AFGHANISTAN</td><td>34.3</td><td>34.3 Naveen-ul-Haq to Shanto, FOUR, misfield in the deep. Was a short ball on middle and leg, Shanto pulls this towards deep square leg where Azmatullah misfields, resulting in a boundary</td></tr><tr><td>ENGLAND vs NEW ZEALAND</td><td>35.3</td><td>35.3 Livingstone to Conway, 2 runs, this is racing towards the boundary too, but long-on cuts it off</td></tr><tr><td>ENGLAND vs NEW ZEALAND</td><td>35.2</td><td>35.2 Livingstone to Conway, FOUR, reverse sweep beats the dive at short third man! Full delivery, Conway sends it to the right of the fielder</td></tr><tr><td>BANGLADESH vs AFGHANISTAN</td><td>34.2</td><td>34.2 Naveen-ul-Haq to Mushfiqur, 1 run, 150 up for Bangladesh. Short and quick on middle and leg, tucked to square leg for a single</td></tr></tbody></table></div>"
      ]
     },
     "metadata": {
      "application/vnd.databricks.v1+output": {
       "addedWidgets": {},
       "aggData": [],
       "aggError": "",
       "aggOverflow": false,
       "aggSchema": [],
       "aggSeriesLimitReached": false,
       "aggType": "",
       "arguments": {},
       "columnCustomDisplayInfos": {},
       "data": [
        [
         "ENGLAND vs NEW ZEALAND",
         "36.2",
         "36.2 Moeen Ali to Ravindra, 1 run, clipped away past mid-wicket and that's some thrashing handed to England by New Zealand"
        ],
        [
         "ENGLAND vs NEW ZEALAND",
         "36.1",
         "36.1 Moeen Ali to Conway, 1 run, shortish delivery down leg, flicked to deep mid-wicket. Scores level!"
        ],
        [
         "ENGLAND vs NEW ZEALAND",
         "35.6",
         "35.6 Livingstone to Ravindra, FOUR, short and down leg, Ravindra pulls this fine, beats short fine leg and they are just one hit away now"
        ],
        [
         "BANGLADESH vs AFGHANISTAN",
         "34.4",
         "34.4Naveen-ul-Haq to Shanto, FOUR, Shanto hits the winning runs! Was a length delivery outside off and Shanto smashes this towards mid-off. The fielder stationed there fails to stop the ball and that's four more. A lot of brute force on that shot. Handshakes between the players as we have an early finish.."
        ],
        [
         "ENGLAND vs NEW ZEALAND",
         "35.5",
         "35.5 Livingstone to Conway, 1 run, misfield at mid-off and they get a run"
        ],
        [
         "ENGLAND vs NEW ZEALAND",
         "35.4",
         "35.4 Livingstone to Conway, FOUR, four more! 150 now for Devon Conway! Short and on the stumps. Conway rocks back and pulls, deep backward square leg had no chance. Gets a hug from his partner for this outstanding innings"
        ],
        [
         "BANGLADESH vs AFGHANISTAN",
         "34.3",
         "34.3 Naveen-ul-Haq to Shanto, FOUR, misfield in the deep. Was a short ball on middle and leg, Shanto pulls this towards deep square leg where Azmatullah misfields, resulting in a boundary"
        ],
        [
         "ENGLAND vs NEW ZEALAND",
         "35.3",
         "35.3 Livingstone to Conway, 2 runs, this is racing towards the boundary too, but long-on cuts it off"
        ],
        [
         "ENGLAND vs NEW ZEALAND",
         "35.2",
         "35.2 Livingstone to Conway, FOUR, reverse sweep beats the dive at short third man! Full delivery, Conway sends it to the right of the fielder"
        ],
        [
         "BANGLADESH vs AFGHANISTAN",
         "34.2",
         "34.2 Naveen-ul-Haq to Mushfiqur, 1 run, 150 up for Bangladesh. Short and quick on middle and leg, tucked to square leg for a single"
        ]
       ],
       "datasetInfos": [],
       "dbfsResultPath": null,
       "isJsonSchema": true,
       "metadata": {},
       "overflow": false,
       "plotOptions": {
        "customPlotOptions": {},
        "displayType": "table",
        "pivotAggregation": null,
        "pivotColumns": null,
        "xColumns": null,
        "yColumns": null
       },
       "removedWidgets": [],
       "schema": [
        {
         "metadata": "{}",
         "name": "match",
         "type": "\"string\""
        },
        {
         "metadata": "{}",
         "name": "ball",
         "type": "\"string\""
        },
        {
         "metadata": "{}",
         "name": "commentry",
         "type": "\"string\""
        }
       ],
       "type": "table"
      }
     },
     "output_type": "display_data"
    }
   ],
   "source": [
    "%sql\n",
    "SELECT * FROM commentary_view LIMIT 10\n"
   ]
  },
  {
   "cell_type": "code",
   "execution_count": 0,
   "metadata": {
    "application/vnd.databricks.v1+cell": {
     "cellMetadata": {
      "byteLimit": 2048000,
      "rowLimit": 10000
     },
     "inputWidgets": {},
     "nuid": "58a342ae-bd1a-4908-8e99-bd10c0182743",
     "showTitle": false,
     "tableResultSettingsMap": {},
     "title": ""
    }
   },
   "outputs": [
    {
     "output_type": "stream",
     "name": "stdout",
     "output_type": "stream",
     "text": [
      "+--------------------+----+--------------------+\n|               match|ball|           commentry|\n+--------------------+----+--------------------+\n|ENGLAND vs NEW ZE...|36.2|36.2 Moeen Ali to...|\n|ENGLAND vs NEW ZE...|36.1|36.1 Moeen Ali to...|\n|ENGLAND vs NEW ZE...|35.6|35.6 Livingstone ...|\n|BANGLADESH vs AFG...|34.4|34.4Naveen-ul-Haq...|\n|ENGLAND vs NEW ZE...|35.5|35.5 Livingstone ...|\n+--------------------+----+--------------------+\nonly showing top 5 rows\n\n"
     ]
    }
   ],
   "source": [
    "df1.show(5)"
   ]
  },
  {
   "cell_type": "code",
   "execution_count": 0,
   "metadata": {
    "application/vnd.databricks.v1+cell": {
     "cellMetadata": {
      "byteLimit": 2048000,
      "rowLimit": 10000
     },
     "inputWidgets": {},
     "nuid": "e2208ce3-0987-4ef7-b103-2f8c326ac6de",
     "showTitle": false,
     "tableResultSettingsMap": {},
     "title": ""
    }
   },
   "outputs": [],
   "source": [
    "df1.write.mode(\"overwrite\").csv(\"/FileStore/output_csv\", header=True)\n",
    "df1.write.mode(\"overwrite\").parquet(\"/FileStore/output_parquet\")\n"
   ]
  },
  {
   "cell_type": "code",
   "execution_count": 0,
   "metadata": {
    "application/vnd.databricks.v1+cell": {
     "cellMetadata": {
      "byteLimit": 2048000,
      "rowLimit": 10000
     },
     "inputWidgets": {},
     "nuid": "ce75f77c-1250-4e55-8459-8463e2a799ab",
     "showTitle": false,
     "tableResultSettingsMap": {},
     "title": ""
    }
   },
   "outputs": [
    {
     "output_type": "display_data",
     "data": {
      "text/html": [
       "<style scoped>\n",
       "  .table-result-container {\n",
       "    max-height: 300px;\n",
       "    overflow: auto;\n",
       "  }\n",
       "  table, th, td {\n",
       "    border: 1px solid black;\n",
       "    border-collapse: collapse;\n",
       "  }\n",
       "  th, td {\n",
       "    padding: 5px;\n",
       "  }\n",
       "  th {\n",
       "    text-align: left;\n",
       "  }\n",
       "</style><div class='table-result-container'><table class='table-result'><thead style='background-color: white'><tr><th>path</th><th>name</th><th>size</th><th>modificationTime</th></tr></thead><tbody><tr><td>dbfs:/FileStore/output_csv/_SUCCESS</td><td>_SUCCESS</td><td>0</td><td>1745209944000</td></tr><tr><td>dbfs:/FileStore/output_csv/_committed_7228312847825982420</td><td>_committed_7228312847825982420</td><td>198</td><td>1745208912000</td></tr><tr><td>dbfs:/FileStore/output_csv/_committed_8859541197553293431</td><td>_committed_8859541197553293431</td><td>384</td><td>1745209943000</td></tr><tr><td>dbfs:/FileStore/output_csv/_started_7228312847825982420</td><td>_started_7228312847825982420</td><td>0</td><td>1745208908000</td></tr><tr><td>dbfs:/FileStore/output_csv/_started_8859541197553293431</td><td>_started_8859541197553293431</td><td>0</td><td>1745209942000</td></tr><tr><td>dbfs:/FileStore/output_csv/part-00000-tid-8859541197553293431-1e99df2b-9426-437e-a4a3-7cabee6b665a-25-1-c000.csv</td><td>part-00000-tid-8859541197553293431-1e99df2b-9426-437e-a4a3-7cabee6b665a-25-1-c000.csv</td><td>4167344</td><td>1745209943000</td></tr><tr><td>dbfs:/FileStore/output_csv/part-00001-tid-8859541197553293431-1e99df2b-9426-437e-a4a3-7cabee6b665a-26-1-c000.csv</td><td>part-00001-tid-8859541197553293431-1e99df2b-9426-437e-a4a3-7cabee6b665a-26-1-c000.csv</td><td>473345</td><td>1745209943000</td></tr></tbody></table></div>"
      ]
     },
     "metadata": {
      "application/vnd.databricks.v1+output": {
       "addedWidgets": {},
       "aggData": [],
       "aggError": "",
       "aggOverflow": false,
       "aggSchema": [],
       "aggSeriesLimitReached": false,
       "aggType": "",
       "arguments": {},
       "columnCustomDisplayInfos": {},
       "data": [
        [
         "dbfs:/FileStore/output_csv/_SUCCESS",
         "_SUCCESS",
         0,
         1745209944000
        ],
        [
         "dbfs:/FileStore/output_csv/_committed_7228312847825982420",
         "_committed_7228312847825982420",
         198,
         1745208912000
        ],
        [
         "dbfs:/FileStore/output_csv/_committed_8859541197553293431",
         "_committed_8859541197553293431",
         384,
         1745209943000
        ],
        [
         "dbfs:/FileStore/output_csv/_started_7228312847825982420",
         "_started_7228312847825982420",
         0,
         1745208908000
        ],
        [
         "dbfs:/FileStore/output_csv/_started_8859541197553293431",
         "_started_8859541197553293431",
         0,
         1745209942000
        ],
        [
         "dbfs:/FileStore/output_csv/part-00000-tid-8859541197553293431-1e99df2b-9426-437e-a4a3-7cabee6b665a-25-1-c000.csv",
         "part-00000-tid-8859541197553293431-1e99df2b-9426-437e-a4a3-7cabee6b665a-25-1-c000.csv",
         4167344,
         1745209943000
        ],
        [
         "dbfs:/FileStore/output_csv/part-00001-tid-8859541197553293431-1e99df2b-9426-437e-a4a3-7cabee6b665a-26-1-c000.csv",
         "part-00001-tid-8859541197553293431-1e99df2b-9426-437e-a4a3-7cabee6b665a-26-1-c000.csv",
         473345,
         1745209943000
        ]
       ],
       "datasetInfos": [],
       "dbfsResultPath": null,
       "isJsonSchema": true,
       "metadata": {},
       "overflow": false,
       "plotOptions": {
        "customPlotOptions": {},
        "displayType": "table",
        "pivotAggregation": null,
        "pivotColumns": null,
        "xColumns": null,
        "yColumns": null
       },
       "removedWidgets": [],
       "schema": [
        {
         "metadata": "{}",
         "name": "path",
         "type": "\"string\""
        },
        {
         "metadata": "{}",
         "name": "name",
         "type": "\"string\""
        },
        {
         "metadata": "{}",
         "name": "size",
         "type": "\"long\""
        },
        {
         "metadata": "{}",
         "name": "modificationTime",
         "type": "\"long\""
        }
       ],
       "type": "table"
      }
     },
     "output_type": "display_data"
    },
    {
     "output_type": "display_data",
     "data": {
      "text/html": [
       "<style scoped>\n",
       "  .table-result-container {\n",
       "    max-height: 300px;\n",
       "    overflow: auto;\n",
       "  }\n",
       "  table, th, td {\n",
       "    border: 1px solid black;\n",
       "    border-collapse: collapse;\n",
       "  }\n",
       "  th, td {\n",
       "    padding: 5px;\n",
       "  }\n",
       "  th {\n",
       "    text-align: left;\n",
       "  }\n",
       "</style><div class='table-result-container'><table class='table-result'><thead style='background-color: white'><tr><th>path</th><th>name</th><th>size</th><th>modificationTime</th></tr></thead><tbody><tr><td>dbfs:/FileStore/output_parquet/_SUCCESS</td><td>_SUCCESS</td><td>0</td><td>1745209947000</td></tr><tr><td>dbfs:/FileStore/output_parquet/_committed_108357843135103122</td><td>_committed_108357843135103122</td><td>218</td><td>1745208918000</td></tr><tr><td>dbfs:/FileStore/output_parquet/_committed_721144363950843764</td><td>_committed_721144363950843764</td><td>424</td><td>1745209947000</td></tr><tr><td>dbfs:/FileStore/output_parquet/_started_108357843135103122</td><td>_started_108357843135103122</td><td>0</td><td>1745208913000</td></tr><tr><td>dbfs:/FileStore/output_parquet/_started_721144363950843764</td><td>_started_721144363950843764</td><td>0</td><td>1745209945000</td></tr><tr><td>dbfs:/FileStore/output_parquet/part-00000-tid-721144363950843764-a4df9913-4c5f-4c91-b0e1-f683a129d053-27-1-c000.snappy.parquet</td><td>part-00000-tid-721144363950843764-a4df9913-4c5f-4c91-b0e1-f683a129d053-27-1-c000.snappy.parquet</td><td>1764729</td><td>1745209946000</td></tr><tr><td>dbfs:/FileStore/output_parquet/part-00001-tid-721144363950843764-a4df9913-4c5f-4c91-b0e1-f683a129d053-28-1-c000.snappy.parquet</td><td>part-00001-tid-721144363950843764-a4df9913-4c5f-4c91-b0e1-f683a129d053-28-1-c000.snappy.parquet</td><td>198022</td><td>1745209945000</td></tr></tbody></table></div>"
      ]
     },
     "metadata": {
      "application/vnd.databricks.v1+output": {
       "addedWidgets": {},
       "aggData": [],
       "aggError": "",
       "aggOverflow": false,
       "aggSchema": [],
       "aggSeriesLimitReached": false,
       "aggType": "",
       "arguments": {},
       "columnCustomDisplayInfos": {},
       "data": [
        [
         "dbfs:/FileStore/output_parquet/_SUCCESS",
         "_SUCCESS",
         0,
         1745209947000
        ],
        [
         "dbfs:/FileStore/output_parquet/_committed_108357843135103122",
         "_committed_108357843135103122",
         218,
         1745208918000
        ],
        [
         "dbfs:/FileStore/output_parquet/_committed_721144363950843764",
         "_committed_721144363950843764",
         424,
         1745209947000
        ],
        [
         "dbfs:/FileStore/output_parquet/_started_108357843135103122",
         "_started_108357843135103122",
         0,
         1745208913000
        ],
        [
         "dbfs:/FileStore/output_parquet/_started_721144363950843764",
         "_started_721144363950843764",
         0,
         1745209945000
        ],
        [
         "dbfs:/FileStore/output_parquet/part-00000-tid-721144363950843764-a4df9913-4c5f-4c91-b0e1-f683a129d053-27-1-c000.snappy.parquet",
         "part-00000-tid-721144363950843764-a4df9913-4c5f-4c91-b0e1-f683a129d053-27-1-c000.snappy.parquet",
         1764729,
         1745209946000
        ],
        [
         "dbfs:/FileStore/output_parquet/part-00001-tid-721144363950843764-a4df9913-4c5f-4c91-b0e1-f683a129d053-28-1-c000.snappy.parquet",
         "part-00001-tid-721144363950843764-a4df9913-4c5f-4c91-b0e1-f683a129d053-28-1-c000.snappy.parquet",
         198022,
         1745209945000
        ]
       ],
       "datasetInfos": [],
       "dbfsResultPath": null,
       "isJsonSchema": true,
       "metadata": {},
       "overflow": false,
       "plotOptions": {
        "customPlotOptions": {},
        "displayType": "table",
        "pivotAggregation": null,
        "pivotColumns": null,
        "xColumns": null,
        "yColumns": null
       },
       "removedWidgets": [],
       "schema": [
        {
         "metadata": "{}",
         "name": "path",
         "type": "\"string\""
        },
        {
         "metadata": "{}",
         "name": "name",
         "type": "\"string\""
        },
        {
         "metadata": "{}",
         "name": "size",
         "type": "\"long\""
        },
        {
         "metadata": "{}",
         "name": "modificationTime",
         "type": "\"long\""
        }
       ],
       "type": "table"
      }
     },
     "output_type": "display_data"
    }
   ],
   "source": [
    "csv_files = dbutils.fs.ls(\"/FileStore/output_csv\")\n",
    "display(csv_files)\n",
    "parquet_files = dbutils.fs.ls(\"/FileStore/output_parquet\")\n",
    "display(parquet_files)\n"
   ]
  }
 ],
 "metadata": {
  "application/vnd.databricks.v1+notebook": {
   "computePreferences": null,
   "dashboards": [],
   "environmentMetadata": {
    "base_environment": "",
    "environment_version": "1"
   },
   "inputWidgetPreferences": null,
   "language": "python",
   "notebookMetadata": {
    "mostRecentlyExecutedCommandWithImplicitDF": {
     "commandId": 4376744059340640,
     "dataframes": [
      "_sqldf"
     ]
    },
    "pythonIndentUnit": 4
   },
   "notebookName": "Untitled Notebook 2025-04-21 09:59:25",
   "widgets": {}
  }
 },
 "nbformat": 4,
 "nbformat_minor": 0
}