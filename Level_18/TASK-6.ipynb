{
 "cells": [
  {
   "cell_type": "code",
   "execution_count": 0,
   "metadata": {
    "application/vnd.databricks.v1+cell": {
     "cellMetadata": {
      "byteLimit": 2048000,
      "rowLimit": 10000
     },
     "inputWidgets": {},
     "nuid": "77f451a7-0f3c-40b1-ba4d-12d837739086",
     "showTitle": false,
     "tableResultSettingsMap": {},
     "title": ""
    }
   },
   "outputs": [],
   "source": [
    "from pyspark.sql.functions import concat_ws, col, udf\n",
    "from pyspark.sql.types import StructType, StructField, StringType, IntegerType\n"
   ]
  },
  {
   "cell_type": "code",
   "execution_count": 0,
   "metadata": {
    "application/vnd.databricks.v1+cell": {
     "cellMetadata": {
      "byteLimit": 2048000,
      "rowLimit": 10000
     },
     "inputWidgets": {},
     "nuid": "035e6f7a-07d8-4644-a004-87398b85b532",
     "showTitle": false,
     "tableResultSettingsMap": {},
     "title": ""
    }
   },
   "outputs": [
    {
     "output_type": "stream",
     "name": "stdout",
     "output_type": "stream",
     "text": [
      "+--------+------+--------------------+--------------------+----+----+-----------+-------+-----------+------------+----------+----------+-----------+---------+----------------+--------------+-------+\n|match_id|inning|        batting_team|        bowling_team|over|ball|     batter| bowler|non_striker|batsman_runs|extra_runs|total_runs|extras_type|is_wicket|player_dismissed|dismissal_kind|fielder|\n+--------+------+--------------------+--------------------+----+----+-----------+-------+-----------+------------+----------+----------+-----------+---------+----------------+--------------+-------+\n|  335982|     1|Kolkata Knight Ri...|Royal Challengers...|   0|   1| SC Ganguly|P Kumar|BB McCullum|           0|         1|         1|    legbyes|        0|              NA|            NA|     NA|\n|  335982|     1|Kolkata Knight Ri...|Royal Challengers...|   0|   2|BB McCullum|P Kumar| SC Ganguly|           0|         0|         0|       null|        0|              NA|            NA|     NA|\n|  335982|     1|Kolkata Knight Ri...|Royal Challengers...|   0|   3|BB McCullum|P Kumar| SC Ganguly|           0|         1|         1|      wides|        0|              NA|            NA|     NA|\n|  335982|     1|Kolkata Knight Ri...|Royal Challengers...|   0|   4|BB McCullum|P Kumar| SC Ganguly|           0|         0|         0|       null|        0|              NA|            NA|     NA|\n|  335982|     1|Kolkata Knight Ri...|Royal Challengers...|   0|   5|BB McCullum|P Kumar| SC Ganguly|           0|         0|         0|       null|        0|              NA|            NA|     NA|\n+--------+------+--------------------+--------------------+----+----+-----------+-------+-----------+------------+----------+----------+-----------+---------+----------------+--------------+-------+\nonly showing top 5 rows\n\n"
     ]
    }
   ],
   "source": [
    "deliveries_df = spark.read.format(\"csv\").option(\"header\", \"true\").load(\"/FileStore/tables/deliveries.csv\")\n",
    "deliveries_df.show(5)\n"
   ]
  },
  {
   "cell_type": "code",
   "execution_count": 0,
   "metadata": {
    "application/vnd.databricks.v1+cell": {
     "cellMetadata": {
      "byteLimit": 2048000,
      "rowLimit": 10000
     },
     "inputWidgets": {},
     "nuid": "5666c090-fedc-4d4a-9329-d8e9b23d786d",
     "showTitle": false,
     "tableResultSettingsMap": {},
     "title": ""
    }
   },
   "outputs": [
    {
     "output_type": "stream",
     "name": "stdout",
     "output_type": "stream",
     "text": [
      "+-------+-----------+----------+---------------------+\n|bowler |batter     |total_runs|commentary           |\n+-------+-----------+----------+---------------------+\n|P Kumar|SC Ganguly |1         |P Kumar SC Ganguly 1 |\n|P Kumar|BB McCullum|0         |P Kumar BB McCullum 0|\n|P Kumar|BB McCullum|1         |P Kumar BB McCullum 1|\n|P Kumar|BB McCullum|0         |P Kumar BB McCullum 0|\n|P Kumar|BB McCullum|0         |P Kumar BB McCullum 0|\n+-------+-----------+----------+---------------------+\nonly showing top 5 rows\n\n"
     ]
    }
   ],
   "source": [
    "deliveries_with_commentary = deliveries_df.withColumn(\n",
    "    \"commentary\",\n",
    "    concat_ws(\" \", col(\"bowler\"), col(\"batter\"), col(\"total_runs\"))\n",
    ")\n",
    "deliveries_with_commentary.select(\"bowler\", \"batter\", \"total_runs\", \"commentary\").show(5, truncate=False)\n"
   ]
  },
  {
   "cell_type": "code",
   "execution_count": 0,
   "metadata": {
    "application/vnd.databricks.v1+cell": {
     "cellMetadata": {
      "byteLimit": 2048000,
      "rowLimit": 10000
     },
     "inputWidgets": {},
     "nuid": "90e70f19-0dfb-4159-800b-568bb53b1f4a",
     "showTitle": false,
     "tableResultSettingsMap": {},
     "title": ""
    }
   },
   "outputs": [],
   "source": [
    "def extract_info(commentary):\n",
    "    parts = commentary.split()\n",
    "    if len(parts) >= 3:\n",
    "        bowler = parts[0]\n",
    "        batsman = parts[1]\n",
    "        runs = parts[2]\n",
    "        if runs.isdigit():\n",
    "            return bowler, batsman, int(runs)\n",
    "        else:\n",
    "            return bowler, batsman, 0  \n",
    "    else:\n",
    "        return None, None, None\n"
   ]
  },
  {
   "cell_type": "code",
   "execution_count": 0,
   "metadata": {
    "application/vnd.databricks.v1+cell": {
     "cellMetadata": {
      "byteLimit": 2048000,
      "rowLimit": 10000
     },
     "inputWidgets": {},
     "nuid": "94671def-1d99-4d09-844e-7a271501fad4",
     "showTitle": false,
     "tableResultSettingsMap": {},
     "title": ""
    }
   },
   "outputs": [
    {
     "output_type": "stream",
     "name": "stdout",
     "output_type": "stream",
     "text": [
      "+--------+------+--------------------+--------------------+----+----+-----------+-------+-----------+------------+----------+----------+-----------+---------+----------------+--------------+-------+\n|match_id|inning|        batting_team|        bowling_team|over|ball|     batter| bowler|non_striker|batsman_runs|extra_runs|total_runs|extras_type|is_wicket|player_dismissed|dismissal_kind|fielder|\n+--------+------+--------------------+--------------------+----+----+-----------+-------+-----------+------------+----------+----------+-----------+---------+----------------+--------------+-------+\n|  335982|     1|Kolkata Knight Ri...|Royal Challengers...|   0|   1| SC Ganguly|P Kumar|BB McCullum|           0|         1|         1|    legbyes|        0|              NA|            NA|     NA|\n|  335982|     1|Kolkata Knight Ri...|Royal Challengers...|   0|   2|BB McCullum|P Kumar| SC Ganguly|           0|         0|         0|       null|        0|              NA|            NA|     NA|\n|  335982|     1|Kolkata Knight Ri...|Royal Challengers...|   0|   3|BB McCullum|P Kumar| SC Ganguly|           0|         1|         1|      wides|        0|              NA|            NA|     NA|\n|  335982|     1|Kolkata Knight Ri...|Royal Challengers...|   0|   4|BB McCullum|P Kumar| SC Ganguly|           0|         0|         0|       null|        0|              NA|            NA|     NA|\n|  335982|     1|Kolkata Knight Ri...|Royal Challengers...|   0|   5|BB McCullum|P Kumar| SC Ganguly|           0|         0|         0|       null|        0|              NA|            NA|     NA|\n+--------+------+--------------------+--------------------+----+----+-----------+-------+-----------+------------+----------+----------+-----------+---------+----------------+--------------+-------+\nonly showing top 5 rows\n\n"
     ]
    }
   ],
   "source": [
    "deliveries_df.show(5)\n"
   ]
  },
  {
   "cell_type": "code",
   "execution_count": 0,
   "metadata": {
    "application/vnd.databricks.v1+cell": {
     "cellMetadata": {
      "byteLimit": 2048000,
      "rowLimit": 10000
     },
     "inputWidgets": {},
     "nuid": "95b10ce5-4a3a-4415-b0fa-fd0adafe8f89",
     "showTitle": false,
     "tableResultSettingsMap": {},
     "title": ""
    }
   },
   "outputs": [],
   "source": [
    "deliveries_with_commentary = deliveries_df.withColumn(\n",
    "    \"commentary\",\n",
    "    concat_ws(\" \", col(\"bowler\"), col(\"batter\"), col(\"total_runs\"))\n",
    ")\n"
   ]
  },
  {
   "cell_type": "code",
   "execution_count": 0,
   "metadata": {
    "application/vnd.databricks.v1+cell": {
     "cellMetadata": {
      "byteLimit": 2048000,
      "rowLimit": 10000
     },
     "inputWidgets": {},
     "nuid": "e42083b8-777f-4dc6-987c-6924b46308d2",
     "showTitle": false,
     "tableResultSettingsMap": {},
     "title": ""
    }
   },
   "outputs": [],
   "source": [
    "schema = StructType([\n",
    "    StructField(\"Bowler\", StringType(), True),\n",
    "    StructField(\"Batsman\", StringType(), True),\n",
    "    StructField(\"Runs\", IntegerType(), True)\n",
    "])\n"
   ]
  },
  {
   "cell_type": "code",
   "execution_count": 0,
   "metadata": {
    "application/vnd.databricks.v1+cell": {
     "cellMetadata": {
      "byteLimit": 2048000,
      "rowLimit": 10000
     },
     "inputWidgets": {},
     "nuid": "3c7fe3f7-9a62-4220-9403-74df398b06d3",
     "showTitle": false,
     "tableResultSettingsMap": {},
     "title": ""
    }
   },
   "outputs": [],
   "source": [
    "extract_info_udf = udf(extract_info, schema)\n"
   ]
  },
  {
   "cell_type": "code",
   "execution_count": 0,
   "metadata": {
    "application/vnd.databricks.v1+cell": {
     "cellMetadata": {
      "byteLimit": 2048000,
      "rowLimit": 10000
     },
     "inputWidgets": {},
     "nuid": "9759dac0-b4bd-41b7-8a2c-1f8018027fa9",
     "showTitle": false,
     "tableResultSettingsMap": {},
     "title": ""
    }
   },
   "outputs": [
    {
     "output_type": "stream",
     "name": "stdout",
     "output_type": "stream",
     "text": [
      "+-----------------------+---------------+\n|commentary             |extracted      |\n+-----------------------+---------------+\n|P Kumar SC Ganguly 1   |{P, Kumar, 0}  |\n|P Kumar BB McCullum 0  |{P, Kumar, 0}  |\n|P Kumar BB McCullum 1  |{P, Kumar, 0}  |\n|P Kumar BB McCullum 0  |{P, Kumar, 0}  |\n|P Kumar BB McCullum 0  |{P, Kumar, 0}  |\n|P Kumar BB McCullum 0  |{P, Kumar, 0}  |\n|P Kumar BB McCullum 1  |{P, Kumar, 0}  |\n|Z Khan BB McCullum 0   |{Z, Khan, 0}   |\n|Z Khan BB McCullum 4   |{Z, Khan, 0}   |\n|Z Khan BB McCullum 4   |{Z, Khan, 0}   |\n|Z Khan BB McCullum 6   |{Z, Khan, 0}   |\n|Z Khan BB McCullum 4   |{Z, Khan, 0}   |\n|Z Khan BB McCullum 0   |{Z, Khan, 0}   |\n|P Kumar SC Ganguly 0   |{P, Kumar, 0}  |\n|P Kumar SC Ganguly 0   |{P, Kumar, 0}  |\n|P Kumar SC Ganguly 1   |{P, Kumar, 0}  |\n|P Kumar BB McCullum 4  |{P, Kumar, 0}  |\n|P Kumar BB McCullum 1  |{P, Kumar, 0}  |\n|P Kumar SC Ganguly 0   |{P, Kumar, 0}  |\n|AA Noffke BB McCullum 5|{AA, Noffke, 0}|\n+-----------------------+---------------+\nonly showing top 20 rows\n\n"
     ]
    }
   ],
   "source": [
    "extracted_df = deliveries_with_commentary.withColumn(\"extracted\", extract_info_udf(col(\"commentary\")))\n",
    "extracted_df.select(\"commentary\", \"extracted\").show(truncate=False)\n"
   ]
  },
  {
   "cell_type": "code",
   "execution_count": 0,
   "metadata": {
    "application/vnd.databricks.v1+cell": {
     "cellMetadata": {},
     "inputWidgets": {},
     "nuid": "6d80a6e0-9d15-4bd1-be7a-78b4b81e6a95",
     "showTitle": false,
     "tableResultSettingsMap": {},
     "title": ""
    }
   },
   "outputs": [],
   "source": []
  }
 ],
 "metadata": {
  "application/vnd.databricks.v1+notebook": {
   "computePreferences": null,
   "dashboards": [],
   "environmentMetadata": {
    "base_environment": "",
    "environment_version": "1"
   },
   "inputWidgetPreferences": null,
   "language": "python",
   "notebookMetadata": {
    "pythonIndentUnit": 4
   },
   "notebookName": "UDF",
   "widgets": {}
  }
 },
 "nbformat": 4,
 "nbformat_minor": 0
}