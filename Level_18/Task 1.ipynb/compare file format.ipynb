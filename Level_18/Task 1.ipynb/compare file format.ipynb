{
 "cells": [
  {
   "cell_type": "code",
   "execution_count": 0,
   "metadata": {
    "application/vnd.databricks.v1+cell": {
     "cellMetadata": {
      "byteLimit": 2048000,
      "rowLimit": 10000
     },
     "inputWidgets": {},
     "nuid": "2fd942a0-3120-42a2-9c98-96783d4158fb",
     "showTitle": false,
     "tableResultSettingsMap": {},
     "title": ""
    }
   },
   "outputs": [],
   "source": [
    "df1 = spark.read.format(\"csv\").option(\"header\", \"true\").load(\"dbfs:/FileStore/shared_uploads/vishnupriyarajaraman22@gmail.com/cricket_data-1.csv\")\n"
   ]
  },
  {
   "cell_type": "code",
   "execution_count": 0,
   "metadata": {
    "application/vnd.databricks.v1+cell": {
     "cellMetadata": {
      "byteLimit": 2048000,
      "rowLimit": 10000
     },
     "inputWidgets": {},
     "nuid": "ae2c1a47-7fad-417f-a891-1d450dd2fede",
     "showTitle": false,
     "tableResultSettingsMap": {},
     "title": ""
    }
   },
   "outputs": [
    {
     "output_type": "stream",
     "name": "stdout",
     "output_type": "stream",
     "text": [
      "+--------------------+----+--------------------+\n|               match|ball|           commentry|\n+--------------------+----+--------------------+\n|ENGLAND vs NEW ZE...|36.2|36.2 Moeen Ali to...|\n|ENGLAND vs NEW ZE...|36.1|36.1 Moeen Ali to...|\n|ENGLAND vs NEW ZE...|35.6|35.6 Livingstone ...|\n|BANGLADESH vs AFG...|34.4|34.4Naveen-ul-Haq...|\n|ENGLAND vs NEW ZE...|35.5|35.5 Livingstone ...|\n+--------------------+----+--------------------+\nonly showing top 5 rows\n\n"
     ]
    }
   ],
   "source": [
    "df1.show(5)\n"
   ]
  },
  {
   "cell_type": "code",
   "execution_count": 0,
   "metadata": {
    "application/vnd.databricks.v1+cell": {
     "cellMetadata": {
      "byteLimit": 2048000,
      "rowLimit": 10000
     },
     "inputWidgets": {},
     "nuid": "d45a7d08-9500-4155-8888-9e6f8ff8c3c3",
     "showTitle": false,
     "tableResultSettingsMap": {},
     "title": ""
    }
   },
   "outputs": [],
   "source": [
    "df1.write.mode(\"overwrite\").csv(\"/FileStore/output_csv\", header=True)\n",
    "df1.write.mode(\"overwrite\").parquet(\"/FileStore/output_parquet\")\n"
   ]
  },
  {
   "cell_type": "code",
   "execution_count": 0,
   "metadata": {
    "application/vnd.databricks.v1+cell": {
     "cellMetadata": {
      "byteLimit": 2048000,
      "rowLimit": 10000
     },
     "inputWidgets": {},
     "nuid": "4a13b3e7-82f0-44bb-b33d-dbd491ec4d54",
     "showTitle": false,
     "tableResultSettingsMap": {},
     "title": ""
    }
   },
   "outputs": [
    {
     "output_type": "display_data",
     "data": {
      "text/html": [
       "<style scoped>\n",
       "  .table-result-container {\n",
       "    max-height: 300px;\n",
       "    overflow: auto;\n",
       "  }\n",
       "  table, th, td {\n",
       "    border: 1px solid black;\n",
       "    border-collapse: collapse;\n",
       "  }\n",
       "  th, td {\n",
       "    padding: 5px;\n",
       "  }\n",
       "  th {\n",
       "    text-align: left;\n",
       "  }\n",
       "</style><div class='table-result-container'><table class='table-result'><thead style='background-color: white'><tr><th>path</th><th>name</th><th>size</th><th>modificationTime</th></tr></thead><tbody><tr><td>dbfs:/FileStore/output_csv/_SUCCESS</td><td>_SUCCESS</td><td>0</td><td>1745208912000</td></tr><tr><td>dbfs:/FileStore/output_csv/_committed_7228312847825982420</td><td>_committed_7228312847825982420</td><td>198</td><td>1745208912000</td></tr><tr><td>dbfs:/FileStore/output_csv/_started_7228312847825982420</td><td>_started_7228312847825982420</td><td>0</td><td>1745208908000</td></tr><tr><td>dbfs:/FileStore/output_csv/part-00000-tid-7228312847825982420-010982a5-5a11-4d69-9d5e-a3ac23274ade-2-1-c000.csv</td><td>part-00000-tid-7228312847825982420-010982a5-5a11-4d69-9d5e-a3ac23274ade-2-1-c000.csv</td><td>4167344</td><td>1745208911000</td></tr><tr><td>dbfs:/FileStore/output_csv/part-00001-tid-7228312847825982420-010982a5-5a11-4d69-9d5e-a3ac23274ade-3-1-c000.csv</td><td>part-00001-tid-7228312847825982420-010982a5-5a11-4d69-9d5e-a3ac23274ade-3-1-c000.csv</td><td>473345</td><td>1745208910000</td></tr></tbody></table></div>"
      ]
     },
     "metadata": {
      "application/vnd.databricks.v1+output": {
       "addedWidgets": {},
       "aggData": [],
       "aggError": "",
       "aggOverflow": false,
       "aggSchema": [],
       "aggSeriesLimitReached": false,
       "aggType": "",
       "arguments": {},
       "columnCustomDisplayInfos": {},
       "data": [
        [
         "dbfs:/FileStore/output_csv/_SUCCESS",
         "_SUCCESS",
         0,
         1745208912000
        ],
        [
         "dbfs:/FileStore/output_csv/_committed_7228312847825982420",
         "_committed_7228312847825982420",
         198,
         1745208912000
        ],
        [
         "dbfs:/FileStore/output_csv/_started_7228312847825982420",
         "_started_7228312847825982420",
         0,
         1745208908000
        ],
        [
         "dbfs:/FileStore/output_csv/part-00000-tid-7228312847825982420-010982a5-5a11-4d69-9d5e-a3ac23274ade-2-1-c000.csv",
         "part-00000-tid-7228312847825982420-010982a5-5a11-4d69-9d5e-a3ac23274ade-2-1-c000.csv",
         4167344,
         1745208911000
        ],
        [
         "dbfs:/FileStore/output_csv/part-00001-tid-7228312847825982420-010982a5-5a11-4d69-9d5e-a3ac23274ade-3-1-c000.csv",
         "part-00001-tid-7228312847825982420-010982a5-5a11-4d69-9d5e-a3ac23274ade-3-1-c000.csv",
         473345,
         1745208910000
        ]
       ],
       "datasetInfos": [],
       "dbfsResultPath": null,
       "isJsonSchema": true,
       "metadata": {},
       "overflow": false,
       "plotOptions": {
        "customPlotOptions": {},
        "displayType": "table",
        "pivotAggregation": null,
        "pivotColumns": null,
        "xColumns": null,
        "yColumns": null
       },
       "removedWidgets": [],
       "schema": [
        {
         "metadata": "{}",
         "name": "path",
         "type": "\"string\""
        },
        {
         "metadata": "{}",
         "name": "name",
         "type": "\"string\""
        },
        {
         "metadata": "{}",
         "name": "size",
         "type": "\"long\""
        },
        {
         "metadata": "{}",
         "name": "modificationTime",
         "type": "\"long\""
        }
       ],
       "type": "table"
      }
     },
     "output_type": "display_data"
    },
    {
     "output_type": "display_data",
     "data": {
      "text/html": [
       "<style scoped>\n",
       "  .table-result-container {\n",
       "    max-height: 300px;\n",
       "    overflow: auto;\n",
       "  }\n",
       "  table, th, td {\n",
       "    border: 1px solid black;\n",
       "    border-collapse: collapse;\n",
       "  }\n",
       "  th, td {\n",
       "    padding: 5px;\n",
       "  }\n",
       "  th {\n",
       "    text-align: left;\n",
       "  }\n",
       "</style><div class='table-result-container'><table class='table-result'><thead style='background-color: white'><tr><th>path</th><th>name</th><th>size</th><th>modificationTime</th></tr></thead><tbody><tr><td>dbfs:/FileStore/output_parquet/_SUCCESS</td><td>_SUCCESS</td><td>0</td><td>1745208918000</td></tr><tr><td>dbfs:/FileStore/output_parquet/_committed_108357843135103122</td><td>_committed_108357843135103122</td><td>218</td><td>1745208918000</td></tr><tr><td>dbfs:/FileStore/output_parquet/_started_108357843135103122</td><td>_started_108357843135103122</td><td>0</td><td>1745208913000</td></tr><tr><td>dbfs:/FileStore/output_parquet/part-00000-tid-108357843135103122-12047dcb-15ae-4d43-b5a2-a870e75ae1b4-4-1-c000.snappy.parquet</td><td>part-00000-tid-108357843135103122-12047dcb-15ae-4d43-b5a2-a870e75ae1b4-4-1-c000.snappy.parquet</td><td>1764729</td><td>1745208917000</td></tr><tr><td>dbfs:/FileStore/output_parquet/part-00001-tid-108357843135103122-12047dcb-15ae-4d43-b5a2-a870e75ae1b4-5-1-c000.snappy.parquet</td><td>part-00001-tid-108357843135103122-12047dcb-15ae-4d43-b5a2-a870e75ae1b4-5-1-c000.snappy.parquet</td><td>198022</td><td>1745208917000</td></tr></tbody></table></div>"
      ]
     },
     "metadata": {
      "application/vnd.databricks.v1+output": {
       "addedWidgets": {},
       "aggData": [],
       "aggError": "",
       "aggOverflow": false,
       "aggSchema": [],
       "aggSeriesLimitReached": false,
       "aggType": "",
       "arguments": {},
       "columnCustomDisplayInfos": {},
       "data": [
        [
         "dbfs:/FileStore/output_parquet/_SUCCESS",
         "_SUCCESS",
         0,
         1745208918000
        ],
        [
         "dbfs:/FileStore/output_parquet/_committed_108357843135103122",
         "_committed_108357843135103122",
         218,
         1745208918000
        ],
        [
         "dbfs:/FileStore/output_parquet/_started_108357843135103122",
         "_started_108357843135103122",
         0,
         1745208913000
        ],
        [
         "dbfs:/FileStore/output_parquet/part-00000-tid-108357843135103122-12047dcb-15ae-4d43-b5a2-a870e75ae1b4-4-1-c000.snappy.parquet",
         "part-00000-tid-108357843135103122-12047dcb-15ae-4d43-b5a2-a870e75ae1b4-4-1-c000.snappy.parquet",
         1764729,
         1745208917000
        ],
        [
         "dbfs:/FileStore/output_parquet/part-00001-tid-108357843135103122-12047dcb-15ae-4d43-b5a2-a870e75ae1b4-5-1-c000.snappy.parquet",
         "part-00001-tid-108357843135103122-12047dcb-15ae-4d43-b5a2-a870e75ae1b4-5-1-c000.snappy.parquet",
         198022,
         1745208917000
        ]
       ],
       "datasetInfos": [],
       "dbfsResultPath": null,
       "isJsonSchema": true,
       "metadata": {},
       "overflow": false,
       "plotOptions": {
        "customPlotOptions": {},
        "displayType": "table",
        "pivotAggregation": null,
        "pivotColumns": null,
        "xColumns": null,
        "yColumns": null
       },
       "removedWidgets": [],
       "schema": [
        {
         "metadata": "{}",
         "name": "path",
         "type": "\"string\""
        },
        {
         "metadata": "{}",
         "name": "name",
         "type": "\"string\""
        },
        {
         "metadata": "{}",
         "name": "size",
         "type": "\"long\""
        },
        {
         "metadata": "{}",
         "name": "modificationTime",
         "type": "\"long\""
        }
       ],
       "type": "table"
      }
     },
     "output_type": "display_data"
    }
   ],
   "source": [
    "csv_files = dbutils.fs.ls(\"/FileStore/output_csv\")\n",
    "display(csv_files)\n",
    "parquet_files = dbutils.fs.ls(\"/FileStore/output_parquet\")\n",
    "display(parquet_files)\n"
   ]
  }
 ],
 "metadata": {
  "application/vnd.databricks.v1+notebook": {
   "computePreferences": null,
   "dashboards": [],
   "environmentMetadata": null,
   "inputWidgetPreferences": null,
   "language": "python",
   "notebookMetadata": {
    "mostRecentlyExecutedCommandWithImplicitDF": {
     "commandId": 4376744059340606,
     "dataframes": [
      "_sqldf"
     ]
    },
    "pythonIndentUnit": 4
   },
   "notebookName": "2025-04-21 - DBFS Example",
   "widgets": {}
  }
 },
 "nbformat": 4,
 "nbformat_minor": 0
}