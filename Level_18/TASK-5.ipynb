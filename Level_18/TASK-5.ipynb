{
 "cells": [
  {
   "cell_type": "code",
   "execution_count": 0,
   "metadata": {
    "application/vnd.databricks.v1+cell": {
     "cellMetadata": {
      "byteLimit": 2048000,
      "rowLimit": 10000
     },
     "inputWidgets": {},
     "nuid": "ea9d5cfd-cd56-4aa8-9788-6e4837511408",
     "showTitle": false,
     "tableResultSettingsMap": {},
     "title": ""
    }
   },
   "outputs": [],
   "source": [
    "deliveries_df = spark.read.format(\"csv\").option(\"header\", \"true\").load(\"/FileStore/tables/deliveries.csv\")\n",
    "matches_df = spark.read.format(\"csv\").option(\"header\", \"true\").load(\"/FileStore/tables/matches.csv\")\n",
    "deliveries_df.createOrReplaceTempView(\"deliveries\")\n",
    "matches_df.createOrReplaceTempView(\"matches\")\n"
   ]
  },
  {
   "cell_type": "code",
   "execution_count": 0,
   "metadata": {
    "application/vnd.databricks.v1+cell": {
     "cellMetadata": {
      "byteLimit": 2048000,
      "rowLimit": 10000
     },
     "inputWidgets": {},
     "nuid": "0eef9d90-8fcf-4f0c-b7bb-a321cbbab8cf",
     "showTitle": false,
     "tableResultSettingsMap": {},
     "title": ""
    }
   },
   "outputs": [
    {
     "output_type": "stream",
     "name": "stdout",
     "output_type": "stream",
     "text": [
      "+-------+---------------+\n| season|number_of_teams|\n+-------+---------------+\n|2007/08|              8|\n|   2009|              7|\n|2009/10|              8|\n|   2011|             10|\n|   2012|              9|\n|   2013|              9|\n|   2014|              8|\n|   2015|              8|\n|   2016|              8|\n|   2017|              8|\n|   2018|              8|\n|   2019|              8|\n|2020/21|              8|\n|   2021|              8|\n|   2022|             10|\n|   2023|             10|\n|   2024|             10|\n+-------+---------------+\n\n"
     ]
    }
   ],
   "source": [
    "spark.sql(\"\"\"\n",
    "SELECT season, COUNT(DISTINCT team1) AS number_of_teams\n",
    "FROM matches\n",
    "GROUP BY season\n",
    "ORDER BY season\n",
    "\"\"\").show()\n"
   ]
  },
  {
   "cell_type": "code",
   "execution_count": 0,
   "metadata": {
    "application/vnd.databricks.v1+cell": {
     "cellMetadata": {
      "byteLimit": 2048000,
      "rowLimit": 10000
     },
     "inputWidgets": {},
     "nuid": "4483de27-5034-4b79-81fa-135245631a7b",
     "showTitle": false,
     "tableResultSettingsMap": {},
     "title": ""
    }
   },
   "outputs": [
    {
     "output_type": "stream",
     "name": "stdout",
     "output_type": "stream",
     "text": [
      "+---------+-----------+\n|   result|match_count|\n+---------+-----------+\n|  wickets|        578|\n|     runs|        498|\n|      tie|         14|\n|no result|          5|\n+---------+-----------+\n\n"
     ]
    }
   ],
   "source": [
    "spark.sql(\"\"\"\n",
    "SELECT result, COUNT(*) AS match_count\n",
    "FROM matches\n",
    "GROUP BY result\n",
    "\"\"\").show()\n"
   ]
  },
  {
   "cell_type": "code",
   "execution_count": 0,
   "metadata": {
    "application/vnd.databricks.v1+cell": {
     "cellMetadata": {
      "byteLimit": 2048000,
      "rowLimit": 10000
     },
     "inputWidgets": {},
     "nuid": "532fdc6c-020d-4cf0-814d-75f950641436",
     "showTitle": false,
     "tableResultSettingsMap": {},
     "title": ""
    }
   },
   "outputs": [
    {
     "output_type": "stream",
     "name": "stdout",
     "output_type": "stream",
     "text": [
      "+--------+------+---------+\n|match_id|inning|avg_balls|\n+--------+------+---------+\n| 1082591|     1|     3.65|\n| 1082591|     2|     3.61|\n| 1082592|     1|     3.64|\n| 1082592|     2|     3.57|\n| 1082593|     1|     3.56|\n| 1082593|     2|     3.74|\n| 1082594|     1|     3.66|\n| 1082594|     2|     3.76|\n| 1082595|     1|     3.61|\n| 1082595|     2|     3.62|\n| 1082596|     1|      3.5|\n| 1082596|     2|     3.56|\n| 1082597|     1|     3.75|\n| 1082597|     2|     3.69|\n| 1082598|     1|     3.59|\n| 1082598|     2|     3.53|\n| 1082599|     1|     3.64|\n| 1082599|     2|     3.61|\n| 1082600|     1|     3.68|\n| 1082600|     2|      3.5|\n+--------+------+---------+\nonly showing top 20 rows\n\n"
     ]
    }
   ],
   "source": [
    "spark.sql(\"\"\"\n",
    "SELECT match_id, inning, ROUND(AVG(ball), 2) AS avg_balls\n",
    "FROM deliveries\n",
    "GROUP BY match_id, inning\n",
    "ORDER BY match_id, inning\n",
    "\"\"\").show()\n"
   ]
  },
  {
   "cell_type": "code",
   "execution_count": 0,
   "metadata": {
    "application/vnd.databricks.v1+cell": {
     "cellMetadata": {
      "byteLimit": 2048000,
      "rowLimit": 10000
     },
     "inputWidgets": {},
     "nuid": "4f3335fe-15f8-4cfc-8fa8-08ebf91533b8",
     "showTitle": false,
     "tableResultSettingsMap": {},
     "title": ""
    }
   },
   "outputs": [
    {
     "output_type": "stream",
     "name": "stdout",
     "output_type": "stream",
     "text": [
      "+-------+---------------------------+----+\n|season |team                       |wins|\n+-------+---------------------------+----+\n|2007/08|Rajasthan Royals           |13  |\n|2007/08|Kings XI Punjab            |10  |\n|2007/08|Chennai Super Kings        |9   |\n|2007/08|Delhi Daredevils           |7   |\n|2007/08|Mumbai Indians             |7   |\n|2007/08|Kolkata Knight Riders      |6   |\n|2007/08|Royal Challengers Bangalore|4   |\n|2007/08|Deccan Chargers            |2   |\n|2009   |Delhi Daredevils           |10  |\n|2009   |Deccan Chargers            |9   |\n|2009   |Royal Challengers Bangalore|9   |\n|2009   |Chennai Super Kings        |8   |\n|2009   |Kings XI Punjab            |7   |\n|2009   |Rajasthan Royals           |6   |\n|2009   |Mumbai Indians             |5   |\n|2009   |Kolkata Knight Riders      |3   |\n|2009/10|Mumbai Indians             |11  |\n|2009/10|Chennai Super Kings        |9   |\n|2009/10|Deccan Chargers            |8   |\n|2009/10|Royal Challengers Bangalore|8   |\n|2009/10|Delhi Daredevils           |7   |\n|2009/10|Kolkata Knight Riders      |7   |\n|2009/10|Rajasthan Royals           |6   |\n|2009/10|Kings XI Punjab            |4   |\n|2011   |Chennai Super Kings        |11  |\n|2011   |Mumbai Indians             |10  |\n|2011   |Royal Challengers Bangalore|10  |\n|2011   |Kolkata Knight Riders      |8   |\n|2011   |Kings XI Punjab            |7   |\n|2011   |Rajasthan Royals           |6   |\n|2011   |Deccan Chargers            |6   |\n|2011   |Kochi Tuskers Kerala       |6   |\n|2011   |Delhi Daredevils           |4   |\n|2011   |Pune Warriors              |4   |\n|2011   |NA                         |1   |\n|2012   |Kolkata Knight Riders      |12  |\n|2012   |Delhi Daredevils           |11  |\n|2012   |Chennai Super Kings        |10  |\n|2012   |Mumbai Indians             |10  |\n|2012   |Kings XI Punjab            |8   |\n|2012   |Royal Challengers Bangalore|8   |\n|2012   |Rajasthan Royals           |7   |\n|2012   |Pune Warriors              |4   |\n|2012   |Deccan Chargers            |4   |\n|2013   |Mumbai Indians             |13  |\n|2013   |Chennai Super Kings        |12  |\n|2013   |Rajasthan Royals           |11  |\n|2013   |Sunrisers Hyderabad        |10  |\n|2013   |Royal Challengers Bangalore|9   |\n|2013   |Kings XI Punjab            |8   |\n|2013   |Kolkata Knight Riders      |6   |\n|2013   |Pune Warriors              |4   |\n|2013   |Delhi Daredevils           |3   |\n|2014   |Kings XI Punjab            |12  |\n|2014   |Kolkata Knight Riders      |11  |\n|2014   |Chennai Super Kings        |10  |\n|2014   |Mumbai Indians             |7   |\n|2014   |Rajasthan Royals           |7   |\n|2014   |Sunrisers Hyderabad        |6   |\n|2014   |Royal Challengers Bangalore|5   |\n|2014   |Delhi Daredevils           |2   |\n|2015   |Mumbai Indians             |10  |\n|2015   |Chennai Super Kings        |10  |\n|2015   |Royal Challengers Bangalore|8   |\n|2015   |Kolkata Knight Riders      |7   |\n|2015   |Sunrisers Hyderabad        |7   |\n|2015   |Rajasthan Royals           |7   |\n|2015   |Delhi Daredevils           |5   |\n|2015   |Kings XI Punjab            |3   |\n|2015   |NA                         |2   |\n|2016   |Sunrisers Hyderabad        |11  |\n|2016   |Royal Challengers Bangalore|9   |\n|2016   |Gujarat Lions              |9   |\n|2016   |Kolkata Knight Riders      |8   |\n|2016   |Delhi Daredevils           |7   |\n|2016   |Mumbai Indians             |7   |\n|2016   |Rising Pune Supergiants    |5   |\n|2016   |Kings XI Punjab            |4   |\n|2017   |Mumbai Indians             |12  |\n|2017   |Rising Pune Supergiant     |10  |\n|2017   |Kolkata Knight Riders      |9   |\n|2017   |Sunrisers Hyderabad        |8   |\n|2017   |Kings XI Punjab            |7   |\n|2017   |Delhi Daredevils           |6   |\n|2017   |Gujarat Lions              |4   |\n|2017   |Royal Challengers Bangalore|3   |\n|2018   |Chennai Super Kings        |11  |\n|2018   |Sunrisers Hyderabad        |10  |\n|2018   |Kolkata Knight Riders      |9   |\n|2018   |Rajasthan Royals           |7   |\n|2018   |Mumbai Indians             |6   |\n|2018   |Kings XI Punjab            |6   |\n|2018   |Royal Challengers Bangalore|6   |\n|2018   |Delhi Daredevils           |5   |\n|2019   |Mumbai Indians             |11  |\n|2019   |Delhi Capitals             |10  |\n|2019   |Chennai Super Kings        |10  |\n|2019   |Sunrisers Hyderabad        |6   |\n|2019   |Kings XI Punjab            |6   |\n|2019   |Kolkata Knight Riders      |6   |\n+-------+---------------------------+----+\nonly showing top 100 rows\n\n"
     ]
    }
   ],
   "source": [
    "spark.sql(\"\"\"\n",
    "SELECT season, winner AS team, COUNT(*) AS wins\n",
    "FROM matches\n",
    "WHERE winner IS NOT NULL\n",
    "GROUP BY season, winner\n",
    "ORDER BY season, wins DESC\n",
    "\"\"\").show(100, truncate=False)\n"
   ]
  },
  {
   "cell_type": "code",
   "execution_count": 0,
   "metadata": {
    "application/vnd.databricks.v1+cell": {
     "cellMetadata": {},
     "inputWidgets": {},
     "nuid": "8571499d-0ab8-4f71-a83d-98eae88431f7",
     "showTitle": false,
     "tableResultSettingsMap": {},
     "title": ""
    }
   },
   "outputs": [],
   "source": []
  }
 ],
 "metadata": {
  "application/vnd.databricks.v1+notebook": {
   "computePreferences": null,
   "dashboards": [],
   "environmentMetadata": {
    "base_environment": "",
    "environment_version": "1"
   },
   "inputWidgetPreferences": null,
   "language": "python",
   "notebookMetadata": {
    "pythonIndentUnit": 4
   },
   "notebookName": "aggregations",
   "widgets": {}
  }
 },
 "nbformat": 4,
 "nbformat_minor": 0
}